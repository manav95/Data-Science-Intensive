{
 "cells": [
  {
   "cell_type": "code",
   "execution_count": 45,
   "metadata": {},
   "outputs": [
    {
     "name": "stdout",
     "output_type": "stream",
     "text": [
      "Populating the interactive namespace from numpy and matplotlib\n"
     ]
    }
   ],
   "source": [
    "%pylab inline\n",
    "%matplotlib inline\n",
    "import matplotlib.pyplot as plt\n",
    "import seaborn as sns\n",
    "\n",
    "\n",
    "import pandas as pd\n",
    "import numpy as np"
   ]
  },
  {
   "cell_type": "code",
   "execution_count": 46,
   "metadata": {
    "collapsed": true
   },
   "outputs": [],
   "source": [
    "completedBechdelDataset = pd.read_csv('completeBechdelData.csv')\n",
    "allBechdels = pd.read_csv('/Users/manavdutta1/Downloads/allBechdels.csv')"
   ]
  },
  {
   "cell_type": "code",
   "execution_count": 47,
   "metadata": {
    "scrolled": false
   },
   "outputs": [
    {
     "data": {
      "text/plain": [
       "Unnamed: 0    0\n",
       "id            0\n",
       "imdb_id       2\n",
       "Rating        0\n",
       "Title         0\n",
       "Year          0\n",
       "dtype: int64"
      ]
     },
     "execution_count": 47,
     "metadata": {},
     "output_type": "execute_result"
    }
   ],
   "source": [
    "allBechdels = allBechdels.rename(index=str, columns={\"imdbid\": \"imdb_id\", \"year\": \"Year\", \"title\": \"Title\", \"rating\": \"Rating\"})\n",
    "allBechdels.isnull().sum()"
   ]
  },
  {
   "cell_type": "code",
   "execution_count": 48,
   "metadata": {},
   "outputs": [
    {
     "data": {
      "text/plain": [
       "Unnamed: 0                      0\n",
       "Unnamed: 0.1                    0\n",
       "Unnamed: 0.1.1                  0\n",
       "imdb_id                         0\n",
       "color                         145\n",
       "director_name                 230\n",
       "num_critic_for_reviews        176\n",
       "duration                      141\n",
       "director_facebook_likes       230\n",
       "actor_3_facebook_likes        149\n",
       "actor_2_name                  139\n",
       "actor_1_facebook_likes        133\n",
       "gross                        1010\n",
       "genres                        126\n",
       "actor_1_name                  133\n",
       "movie_title                   126\n",
       "num_voted_users               126\n",
       "cast_total_facebook_likes     126\n",
       "actor_3_name                  149\n",
       "facenumber_in_poster          139\n",
       "plot_keywords                 279\n",
       "movie_imdb_link               126\n",
       "num_user_for_reviews          147\n",
       "language                      138\n",
       "country                       131\n",
       "content_rating                429\n",
       "budget                        618\n",
       "title_year                    234\n",
       "actor_2_facebook_likes        139\n",
       "imdb_score                    126\n",
       "aspect_ratio                  455\n",
       "movie_facebook_likes          126\n",
       "binary                       3317\n",
       "test                         3317\n",
       "clean_test                   3317\n",
       "domgross                     3317\n",
       "intgross                     3317\n",
       "budget_2013$                 3317\n",
       "domgross_2013$               3317\n",
       "intgross_2013$               3317\n",
       "dtype: int64"
      ]
     },
     "execution_count": 48,
     "metadata": {},
     "output_type": "execute_result"
    }
   ],
   "source": [
    "completedBechdelDataset.isnull().sum()"
   ]
  },
  {
   "cell_type": "code",
   "execution_count": 49,
   "metadata": {},
   "outputs": [
    {
     "data": {
      "text/html": [
       "<div>\n",
       "<style>\n",
       "    .dataframe thead tr:only-child th {\n",
       "        text-align: right;\n",
       "    }\n",
       "\n",
       "    .dataframe thead th {\n",
       "        text-align: left;\n",
       "    }\n",
       "\n",
       "    .dataframe tbody tr th {\n",
       "        vertical-align: top;\n",
       "    }\n",
       "</style>\n",
       "<table border=\"1\" class=\"dataframe\">\n",
       "  <thead>\n",
       "    <tr style=\"text-align: right;\">\n",
       "      <th></th>\n",
       "      <th>Unnamed: 0_x</th>\n",
       "      <th>id</th>\n",
       "      <th>imdb_id</th>\n",
       "      <th>Rating</th>\n",
       "      <th>Title</th>\n",
       "      <th>Year</th>\n",
       "      <th>Unnamed: 0_y</th>\n",
       "      <th>Unnamed: 0.1</th>\n",
       "      <th>Unnamed: 0.1.1</th>\n",
       "      <th>color</th>\n",
       "      <th>...</th>\n",
       "      <th>aspect_ratio</th>\n",
       "      <th>movie_facebook_likes</th>\n",
       "      <th>binary</th>\n",
       "      <th>test</th>\n",
       "      <th>clean_test</th>\n",
       "      <th>domgross</th>\n",
       "      <th>intgross</th>\n",
       "      <th>budget_2013$</th>\n",
       "      <th>domgross_2013$</th>\n",
       "      <th>intgross_2013$</th>\n",
       "    </tr>\n",
       "  </thead>\n",
       "  <tbody>\n",
       "    <tr>\n",
       "      <th>0</th>\n",
       "      <td>0</td>\n",
       "      <td>5433</td>\n",
       "      <td>3</td>\n",
       "      <td>0</td>\n",
       "      <td>Pauvre Pierrot</td>\n",
       "      <td>1892</td>\n",
       "      <td>NaN</td>\n",
       "      <td>NaN</td>\n",
       "      <td>NaN</td>\n",
       "      <td>NaN</td>\n",
       "      <td>...</td>\n",
       "      <td>NaN</td>\n",
       "      <td>NaN</td>\n",
       "      <td>NaN</td>\n",
       "      <td>NaN</td>\n",
       "      <td>NaN</td>\n",
       "      <td>NaN</td>\n",
       "      <td>NaN</td>\n",
       "      <td>NaN</td>\n",
       "      <td>NaN</td>\n",
       "      <td>NaN</td>\n",
       "    </tr>\n",
       "    <tr>\n",
       "      <th>1</th>\n",
       "      <td>1</td>\n",
       "      <td>5444</td>\n",
       "      <td>14</td>\n",
       "      <td>0</td>\n",
       "      <td>Tables Turned on the Gardener</td>\n",
       "      <td>1895</td>\n",
       "      <td>NaN</td>\n",
       "      <td>NaN</td>\n",
       "      <td>NaN</td>\n",
       "      <td>NaN</td>\n",
       "      <td>...</td>\n",
       "      <td>NaN</td>\n",
       "      <td>NaN</td>\n",
       "      <td>NaN</td>\n",
       "      <td>NaN</td>\n",
       "      <td>NaN</td>\n",
       "      <td>NaN</td>\n",
       "      <td>NaN</td>\n",
       "      <td>NaN</td>\n",
       "      <td>NaN</td>\n",
       "      <td>NaN</td>\n",
       "    </tr>\n",
       "    <tr>\n",
       "      <th>2</th>\n",
       "      <td>2</td>\n",
       "      <td>6200</td>\n",
       "      <td>132134</td>\n",
       "      <td>0</td>\n",
       "      <td>Execution of Mary, Queen of Scots, The</td>\n",
       "      <td>1895</td>\n",
       "      <td>NaN</td>\n",
       "      <td>NaN</td>\n",
       "      <td>NaN</td>\n",
       "      <td>NaN</td>\n",
       "      <td>...</td>\n",
       "      <td>NaN</td>\n",
       "      <td>NaN</td>\n",
       "      <td>NaN</td>\n",
       "      <td>NaN</td>\n",
       "      <td>NaN</td>\n",
       "      <td>NaN</td>\n",
       "      <td>NaN</td>\n",
       "      <td>NaN</td>\n",
       "      <td>NaN</td>\n",
       "      <td>NaN</td>\n",
       "    </tr>\n",
       "    <tr>\n",
       "      <th>3</th>\n",
       "      <td>3</td>\n",
       "      <td>6199</td>\n",
       "      <td>12</td>\n",
       "      <td>0</td>\n",
       "      <td>Arrival of a Train, The</td>\n",
       "      <td>1896</td>\n",
       "      <td>NaN</td>\n",
       "      <td>NaN</td>\n",
       "      <td>NaN</td>\n",
       "      <td>NaN</td>\n",
       "      <td>...</td>\n",
       "      <td>NaN</td>\n",
       "      <td>NaN</td>\n",
       "      <td>NaN</td>\n",
       "      <td>NaN</td>\n",
       "      <td>NaN</td>\n",
       "      <td>NaN</td>\n",
       "      <td>NaN</td>\n",
       "      <td>NaN</td>\n",
       "      <td>NaN</td>\n",
       "      <td>NaN</td>\n",
       "    </tr>\n",
       "    <tr>\n",
       "      <th>4</th>\n",
       "      <td>4</td>\n",
       "      <td>5406</td>\n",
       "      <td>131</td>\n",
       "      <td>0</td>\n",
       "      <td>Une nuit terrible</td>\n",
       "      <td>1896</td>\n",
       "      <td>NaN</td>\n",
       "      <td>NaN</td>\n",
       "      <td>NaN</td>\n",
       "      <td>NaN</td>\n",
       "      <td>...</td>\n",
       "      <td>NaN</td>\n",
       "      <td>NaN</td>\n",
       "      <td>NaN</td>\n",
       "      <td>NaN</td>\n",
       "      <td>NaN</td>\n",
       "      <td>NaN</td>\n",
       "      <td>NaN</td>\n",
       "      <td>NaN</td>\n",
       "      <td>NaN</td>\n",
       "      <td>NaN</td>\n",
       "    </tr>\n",
       "  </tbody>\n",
       "</table>\n",
       "<p>5 rows × 45 columns</p>\n",
       "</div>"
      ],
      "text/plain": [
       "   Unnamed: 0_x    id imdb_id  Rating                                   Title  \\\n",
       "0             0  5433       3       0                          Pauvre Pierrot   \n",
       "1             1  5444      14       0           Tables Turned on the Gardener   \n",
       "2             2  6200  132134       0  Execution of Mary, Queen of Scots, The   \n",
       "3             3  6199      12       0                 Arrival of a Train, The   \n",
       "4             4  5406     131       0                       Une nuit terrible   \n",
       "\n",
       "   Year  Unnamed: 0_y  Unnamed: 0.1  Unnamed: 0.1.1 color      ...        \\\n",
       "0  1892           NaN           NaN             NaN   NaN      ...         \n",
       "1  1895           NaN           NaN             NaN   NaN      ...         \n",
       "2  1895           NaN           NaN             NaN   NaN      ...         \n",
       "3  1896           NaN           NaN             NaN   NaN      ...         \n",
       "4  1896           NaN           NaN             NaN   NaN      ...         \n",
       "\n",
       "  aspect_ratio  movie_facebook_likes  binary  test  clean_test domgross  \\\n",
       "0          NaN                   NaN     NaN   NaN         NaN      NaN   \n",
       "1          NaN                   NaN     NaN   NaN         NaN      NaN   \n",
       "2          NaN                   NaN     NaN   NaN         NaN      NaN   \n",
       "3          NaN                   NaN     NaN   NaN         NaN      NaN   \n",
       "4          NaN                   NaN     NaN   NaN         NaN      NaN   \n",
       "\n",
       "   intgross  budget_2013$ domgross_2013$ intgross_2013$  \n",
       "0       NaN           NaN            NaN            NaN  \n",
       "1       NaN           NaN            NaN            NaN  \n",
       "2       NaN           NaN            NaN            NaN  \n",
       "3       NaN           NaN            NaN            NaN  \n",
       "4       NaN           NaN            NaN            NaN  \n",
       "\n",
       "[5 rows x 45 columns]"
      ]
     },
     "execution_count": 49,
     "metadata": {},
     "output_type": "execute_result"
    }
   ],
   "source": [
    "mergeResult = pd.merge(allBechdels, completedBechdelDataset, how='left', on=['imdb_id'])\n",
    "mergeResult.head()"
   ]
  },
  {
   "cell_type": "code",
   "execution_count": 50,
   "metadata": {},
   "outputs": [
    {
     "name": "stdout",
     "output_type": "stream",
     "text": [
      "1\n"
     ]
    }
   ],
   "source": [
    "trueBechdels = completedBechdelDataset[completedBechdelDataset.binary.notnull()]\n",
    "intersectSet = set(trueBechdels.imdb_id).intersection(set(mergeResult.imdb_id))\n",
    "diffSet = set(trueBechdels.imdb_id).difference(intersectSet)\n",
    "print(len(diffSet))"
   ]
  },
  {
   "cell_type": "code",
   "execution_count": 51,
   "metadata": {},
   "outputs": [
    {
     "name": "stdout",
     "output_type": "stream",
     "text": [
      "{29356}\n",
      "5552\n"
     ]
    }
   ],
   "source": [
    "print(set(trueBechdels.imdb_id).difference(set(mergeResult.imdb_id)))\n",
    "print(len(set(mergeResult.imdb_id).difference(set(trueBechdels.imdb_id))))"
   ]
  },
  {
   "cell_type": "code",
   "execution_count": 53,
   "metadata": {
    "collapsed": true
   },
   "outputs": [],
   "source": [
    "mergeResult.to_csv('/Users/manavdutta1/Downloads/imdbpy-5.1/mergeRes.csv')"
   ]
  },
  {
   "cell_type": "code",
   "execution_count": null,
   "metadata": {
    "collapsed": true
   },
   "outputs": [],
   "source": []
  }
 ],
 "metadata": {
  "kernelspec": {
   "display_name": "Python 3",
   "language": "python",
   "name": "python3"
  },
  "language_info": {
   "codemirror_mode": {
    "name": "ipython",
    "version": 3
   },
   "file_extension": ".py",
   "mimetype": "text/x-python",
   "name": "python",
   "nbconvert_exporter": "python",
   "pygments_lexer": "ipython3",
   "version": "3.6.1"
  }
 },
 "nbformat": 4,
 "nbformat_minor": 2
}
