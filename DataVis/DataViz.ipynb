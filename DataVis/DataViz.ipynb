{
 "cells": [
  {
   "cell_type": "code",
   "execution_count": 1,
   "metadata": {},
   "outputs": [
    {
     "name": "stdout",
     "output_type": "stream",
     "text": [
      "Populating the interactive namespace from numpy and matplotlib\n"
     ]
    }
   ],
   "source": [
    "%pylab inline\n",
    "%matplotlib inline\n",
    "import matplotlib.pyplot as plt\n",
    "import seaborn as sns\n",
    "\n",
    "import pandas as pd\n",
    "import numpy as np\n"
   ]
  },
  {
   "cell_type": "code",
   "execution_count": null,
   "metadata": {
    "collapsed": true
   },
   "outputs": [],
   "source": []
  },
  {
   "cell_type": "code",
   "execution_count": 2,
   "metadata": {
    "collapsed": true
   },
   "outputs": [],
   "source": [
    "#Wrangle data\n",
    "#trends of bechdel pass/fail over time\n",
    "#visualize different types of the test\n",
    "#examine time trends of revenue\n",
    "#examine trends over time"
   ]
  },
  {
   "cell_type": "code",
   "execution_count": 2,
   "metadata": {},
   "outputs": [
    {
     "name": "stdout",
     "output_type": "stream",
     "text": [
      "Bechdel Dataset: \n"
     ]
    },
    {
     "data": {
      "text/plain": [
       "imdb_id             0\n",
       "year                0\n",
       "imdb                0\n",
       "title               0\n",
       "test                0\n",
       "clean_test          0\n",
       "binary              0\n",
       "budget              0\n",
       "domgross           17\n",
       "intgross           11\n",
       "code                0\n",
       "budget_2013$        0\n",
       "domgross_2013$     18\n",
       "intgross_2013$     11\n",
       "period code       179\n",
       "decade code       179\n",
       "dtype: int64"
      ]
     },
     "execution_count": 2,
     "metadata": {},
     "output_type": "execute_result"
    }
   ],
   "source": [
    "#We will examine data for thousands of movies to see how it correlates with the Bechdel test.\n",
    "\n",
    "bechdelDataset = pd.read_csv('/Users/manavdutta1/Downloads/DataScienceIntensive/DataVis/bechdel_clean.csv')\n",
    "imdbDataset = pd.read_csv('/Users/manavdutta1/Downloads/DataScienceIntensive/DataVis/updated_movie_data.csv', encoding = 'ISO-8859-1')\n",
    "revenuesDataset = pd.read_csv('/Users/manavdutta1/Downloads/DataScienceIntensive/DataVis/revenue.csv', encoding = 'ISO-8859-1')\n",
    "\n",
    "print(\"Bechdel Dataset: \")\n",
    "bechdelDataset.isnull().sum()"
   ]
  },
  {
   "cell_type": "code",
   "execution_count": null,
   "metadata": {
    "collapsed": true
   },
   "outputs": [],
   "source": []
  },
  {
   "cell_type": "code",
   "execution_count": 4,
   "metadata": {},
   "outputs": [
    {
     "name": "stdout",
     "output_type": "stream",
     "text": [
      "IMDB Dataset: \n"
     ]
    },
    {
     "data": {
      "text/plain": [
       "Unnamed: 0                     0\n",
       "color                         19\n",
       "director_name                104\n",
       "num_critic_for_reviews        50\n",
       "duration                      15\n",
       "director_facebook_likes      104\n",
       "actor_3_facebook_likes        23\n",
       "actor_2_name                  13\n",
       "actor_1_facebook_likes         7\n",
       "gross                        884\n",
       "genres                         0\n",
       "actor_1_name                   7\n",
       "movie_title                    0\n",
       "num_voted_users                0\n",
       "cast_total_facebook_likes      0\n",
       "actor_3_name                  23\n",
       "facenumber_in_poster          13\n",
       "plot_keywords                153\n",
       "movie_imdb_link                0\n",
       "num_user_for_reviews          21\n",
       "language                      12\n",
       "country                        5\n",
       "content_rating               303\n",
       "budget                       492\n",
       "title_year                   108\n",
       "actor_2_facebook_likes        13\n",
       "imdb_score                     0\n",
       "aspect_ratio                 329\n",
       "movie_facebook_likes           0\n",
       "dtype: int64"
      ]
     },
     "execution_count": 4,
     "metadata": {},
     "output_type": "execute_result"
    }
   ],
   "source": [
    "print(\"IMDB Dataset: \")\n",
    "imdbDataset.isnull().sum()"
   ]
  },
  {
   "cell_type": "code",
   "execution_count": 5,
   "metadata": {},
   "outputs": [
    {
     "name": "stdout",
     "output_type": "stream",
     "text": [
      "Revenues Dataset: \n"
     ]
    },
    {
     "data": {
      "text/plain": [
       "Unnamed: 0        0\n",
       "Released          0\n",
       "Movie             0\n",
       "Genre          4727\n",
       "Budget        15929\n",
       "Revenue           0\n",
       "Trailer       19081\n",
       "Year              0\n",
       "dtype: int64"
      ]
     },
     "execution_count": 5,
     "metadata": {},
     "output_type": "execute_result"
    }
   ],
   "source": [
    "print(\"Revenues Dataset: \")\n",
    "revenuesDataset.isnull().sum()"
   ]
  },
  {
   "cell_type": "code",
   "execution_count": 6,
   "metadata": {
    "scrolled": false
   },
   "outputs": [
    {
     "data": {
      "text/html": [
       "<div>\n",
       "<style>\n",
       "    .dataframe thead tr:only-child th {\n",
       "        text-align: right;\n",
       "    }\n",
       "\n",
       "    .dataframe thead th {\n",
       "        text-align: left;\n",
       "    }\n",
       "\n",
       "    .dataframe tbody tr th {\n",
       "        vertical-align: top;\n",
       "    }\n",
       "</style>\n",
       "<table border=\"1\" class=\"dataframe\">\n",
       "  <thead>\n",
       "    <tr style=\"text-align: right;\">\n",
       "      <th></th>\n",
       "      <th>imdb_id</th>\n",
       "      <th>year</th>\n",
       "      <th>imdb</th>\n",
       "      <th>title</th>\n",
       "      <th>test</th>\n",
       "      <th>clean_test</th>\n",
       "      <th>binary</th>\n",
       "      <th>budget</th>\n",
       "      <th>domgross</th>\n",
       "      <th>intgross</th>\n",
       "      <th>code</th>\n",
       "      <th>budget_2013$</th>\n",
       "      <th>domgross_2013$</th>\n",
       "      <th>intgross_2013$</th>\n",
       "      <th>period code</th>\n",
       "      <th>decade code</th>\n",
       "    </tr>\n",
       "  </thead>\n",
       "  <tbody>\n",
       "    <tr>\n",
       "      <th>0</th>\n",
       "      <td>1711425</td>\n",
       "      <td>2013</td>\n",
       "      <td>tt1711425</td>\n",
       "      <td>21 &amp;amp; Over</td>\n",
       "      <td>notalk</td>\n",
       "      <td>notalk</td>\n",
       "      <td>FAIL</td>\n",
       "      <td>13000000</td>\n",
       "      <td>25682380.0</td>\n",
       "      <td>42195766.0</td>\n",
       "      <td>2013FAIL</td>\n",
       "      <td>13000000</td>\n",
       "      <td>25682380.0</td>\n",
       "      <td>42195766.0</td>\n",
       "      <td>1.0</td>\n",
       "      <td>1.0</td>\n",
       "    </tr>\n",
       "    <tr>\n",
       "      <th>1</th>\n",
       "      <td>1343727</td>\n",
       "      <td>2012</td>\n",
       "      <td>tt1343727</td>\n",
       "      <td>Dredd 3D</td>\n",
       "      <td>ok-disagree</td>\n",
       "      <td>ok</td>\n",
       "      <td>PASS</td>\n",
       "      <td>45000000</td>\n",
       "      <td>13414714.0</td>\n",
       "      <td>40868994.0</td>\n",
       "      <td>2012PASS</td>\n",
       "      <td>45658735</td>\n",
       "      <td>13611086.0</td>\n",
       "      <td>41467257.0</td>\n",
       "      <td>1.0</td>\n",
       "      <td>1.0</td>\n",
       "    </tr>\n",
       "    <tr>\n",
       "      <th>2</th>\n",
       "      <td>2024544</td>\n",
       "      <td>2013</td>\n",
       "      <td>tt2024544</td>\n",
       "      <td>12 Years a Slave</td>\n",
       "      <td>notalk-disagree</td>\n",
       "      <td>notalk</td>\n",
       "      <td>FAIL</td>\n",
       "      <td>20000000</td>\n",
       "      <td>53107035.0</td>\n",
       "      <td>158607035.0</td>\n",
       "      <td>2013FAIL</td>\n",
       "      <td>20000000</td>\n",
       "      <td>53107035.0</td>\n",
       "      <td>158607035.0</td>\n",
       "      <td>1.0</td>\n",
       "      <td>1.0</td>\n",
       "    </tr>\n",
       "    <tr>\n",
       "      <th>3</th>\n",
       "      <td>1272878</td>\n",
       "      <td>2013</td>\n",
       "      <td>tt1272878</td>\n",
       "      <td>2 Guns</td>\n",
       "      <td>notalk</td>\n",
       "      <td>notalk</td>\n",
       "      <td>FAIL</td>\n",
       "      <td>61000000</td>\n",
       "      <td>75612460.0</td>\n",
       "      <td>132493015.0</td>\n",
       "      <td>2013FAIL</td>\n",
       "      <td>61000000</td>\n",
       "      <td>75612460.0</td>\n",
       "      <td>132493015.0</td>\n",
       "      <td>1.0</td>\n",
       "      <td>1.0</td>\n",
       "    </tr>\n",
       "    <tr>\n",
       "      <th>4</th>\n",
       "      <td>453562</td>\n",
       "      <td>2013</td>\n",
       "      <td>tt0453562</td>\n",
       "      <td>42</td>\n",
       "      <td>men</td>\n",
       "      <td>men</td>\n",
       "      <td>FAIL</td>\n",
       "      <td>40000000</td>\n",
       "      <td>95020213.0</td>\n",
       "      <td>95020213.0</td>\n",
       "      <td>2013FAIL</td>\n",
       "      <td>40000000</td>\n",
       "      <td>95020213.0</td>\n",
       "      <td>95020213.0</td>\n",
       "      <td>1.0</td>\n",
       "      <td>1.0</td>\n",
       "    </tr>\n",
       "  </tbody>\n",
       "</table>\n",
       "</div>"
      ],
      "text/plain": [
       "   imdb_id  year       imdb             title             test clean_test  \\\n",
       "0  1711425  2013  tt1711425     21 &amp; Over           notalk     notalk   \n",
       "1  1343727  2012  tt1343727          Dredd 3D      ok-disagree         ok   \n",
       "2  2024544  2013  tt2024544  12 Years a Slave  notalk-disagree     notalk   \n",
       "3  1272878  2013  tt1272878            2 Guns           notalk     notalk   \n",
       "4   453562  2013  tt0453562                42              men        men   \n",
       "\n",
       "  binary    budget    domgross     intgross      code  budget_2013$  \\\n",
       "0   FAIL  13000000  25682380.0   42195766.0  2013FAIL      13000000   \n",
       "1   PASS  45000000  13414714.0   40868994.0  2012PASS      45658735   \n",
       "2   FAIL  20000000  53107035.0  158607035.0  2013FAIL      20000000   \n",
       "3   FAIL  61000000  75612460.0  132493015.0  2013FAIL      61000000   \n",
       "4   FAIL  40000000  95020213.0   95020213.0  2013FAIL      40000000   \n",
       "\n",
       "   domgross_2013$  intgross_2013$  period code  decade code  \n",
       "0      25682380.0      42195766.0          1.0          1.0  \n",
       "1      13611086.0      41467257.0          1.0          1.0  \n",
       "2      53107035.0     158607035.0          1.0          1.0  \n",
       "3      75612460.0     132493015.0          1.0          1.0  \n",
       "4      95020213.0      95020213.0          1.0          1.0  "
      ]
     },
     "execution_count": 6,
     "metadata": {},
     "output_type": "execute_result"
    }
   ],
   "source": [
    "bechdelDataset = bechdelDataset.fillna(value=0)\n",
    "bechdelDataset.head()"
   ]
  },
  {
   "cell_type": "code",
   "execution_count": 7,
   "metadata": {},
   "outputs": [
    {
     "data": {
      "text/plain": [
       "imdb_id           0\n",
       "year              0\n",
       "imdb              0\n",
       "title             0\n",
       "test              0\n",
       "clean_test        0\n",
       "binary            0\n",
       "budget            0\n",
       "domgross          0\n",
       "intgross          0\n",
       "code              0\n",
       "budget_2013$      0\n",
       "domgross_2013$    0\n",
       "intgross_2013$    0\n",
       "period code       0\n",
       "decade code       0\n",
       "dtype: int64"
      ]
     },
     "execution_count": 7,
     "metadata": {},
     "output_type": "execute_result"
    }
   ],
   "source": [
    "bechdelDataset.isnull().sum()"
   ]
  },
  {
   "cell_type": "code",
   "execution_count": 8,
   "metadata": {},
   "outputs": [
    {
     "data": {
      "text/html": [
       "<div>\n",
       "<style>\n",
       "    .dataframe thead tr:only-child th {\n",
       "        text-align: right;\n",
       "    }\n",
       "\n",
       "    .dataframe thead th {\n",
       "        text-align: left;\n",
       "    }\n",
       "\n",
       "    .dataframe tbody tr th {\n",
       "        vertical-align: top;\n",
       "    }\n",
       "</style>\n",
       "<table border=\"1\" class=\"dataframe\">\n",
       "  <thead>\n",
       "    <tr style=\"text-align: right;\">\n",
       "      <th></th>\n",
       "      <th>imdb_id</th>\n",
       "      <th>color</th>\n",
       "      <th>director_name</th>\n",
       "      <th>num_critic_for_reviews</th>\n",
       "      <th>duration</th>\n",
       "      <th>director_facebook_likes</th>\n",
       "      <th>actor_3_facebook_likes</th>\n",
       "      <th>actor_2_name</th>\n",
       "      <th>actor_1_facebook_likes</th>\n",
       "      <th>gross</th>\n",
       "      <th>...</th>\n",
       "      <th>num_user_for_reviews</th>\n",
       "      <th>language</th>\n",
       "      <th>country</th>\n",
       "      <th>content_rating</th>\n",
       "      <th>budget</th>\n",
       "      <th>title_year</th>\n",
       "      <th>actor_2_facebook_likes</th>\n",
       "      <th>imdb_score</th>\n",
       "      <th>aspect_ratio</th>\n",
       "      <th>movie_facebook_likes</th>\n",
       "    </tr>\n",
       "  </thead>\n",
       "  <tbody>\n",
       "    <tr>\n",
       "      <th>0</th>\n",
       "      <td>499549</td>\n",
       "      <td>Color</td>\n",
       "      <td>James Cameron</td>\n",
       "      <td>723.0</td>\n",
       "      <td>178.0</td>\n",
       "      <td>0.0</td>\n",
       "      <td>855.0</td>\n",
       "      <td>Joel David Moore</td>\n",
       "      <td>1000.0</td>\n",
       "      <td>760505847.0</td>\n",
       "      <td>...</td>\n",
       "      <td>3054.0</td>\n",
       "      <td>English</td>\n",
       "      <td>USA</td>\n",
       "      <td>PG-13</td>\n",
       "      <td>237000000.0</td>\n",
       "      <td>2009.0</td>\n",
       "      <td>936.0</td>\n",
       "      <td>7.9</td>\n",
       "      <td>1.78</td>\n",
       "      <td>33000</td>\n",
       "    </tr>\n",
       "    <tr>\n",
       "      <th>1</th>\n",
       "      <td>449088</td>\n",
       "      <td>Color</td>\n",
       "      <td>Gore Verbinski</td>\n",
       "      <td>302.0</td>\n",
       "      <td>169.0</td>\n",
       "      <td>563.0</td>\n",
       "      <td>1000.0</td>\n",
       "      <td>Orlando Bloom</td>\n",
       "      <td>40000.0</td>\n",
       "      <td>309404152.0</td>\n",
       "      <td>...</td>\n",
       "      <td>1238.0</td>\n",
       "      <td>English</td>\n",
       "      <td>USA</td>\n",
       "      <td>PG-13</td>\n",
       "      <td>300000000.0</td>\n",
       "      <td>2007.0</td>\n",
       "      <td>5000.0</td>\n",
       "      <td>7.1</td>\n",
       "      <td>2.35</td>\n",
       "      <td>0</td>\n",
       "    </tr>\n",
       "    <tr>\n",
       "      <th>2</th>\n",
       "      <td>2379713</td>\n",
       "      <td>Color</td>\n",
       "      <td>Sam Mendes</td>\n",
       "      <td>602.0</td>\n",
       "      <td>148.0</td>\n",
       "      <td>0.0</td>\n",
       "      <td>161.0</td>\n",
       "      <td>Rory Kinnear</td>\n",
       "      <td>11000.0</td>\n",
       "      <td>200074175.0</td>\n",
       "      <td>...</td>\n",
       "      <td>994.0</td>\n",
       "      <td>English</td>\n",
       "      <td>UK</td>\n",
       "      <td>PG-13</td>\n",
       "      <td>245000000.0</td>\n",
       "      <td>2015.0</td>\n",
       "      <td>393.0</td>\n",
       "      <td>6.8</td>\n",
       "      <td>2.35</td>\n",
       "      <td>85000</td>\n",
       "    </tr>\n",
       "    <tr>\n",
       "      <th>3</th>\n",
       "      <td>1345836</td>\n",
       "      <td>Color</td>\n",
       "      <td>Christopher Nolan</td>\n",
       "      <td>813.0</td>\n",
       "      <td>164.0</td>\n",
       "      <td>22000.0</td>\n",
       "      <td>23000.0</td>\n",
       "      <td>Christian Bale</td>\n",
       "      <td>27000.0</td>\n",
       "      <td>448130642.0</td>\n",
       "      <td>...</td>\n",
       "      <td>2701.0</td>\n",
       "      <td>English</td>\n",
       "      <td>USA</td>\n",
       "      <td>PG-13</td>\n",
       "      <td>250000000.0</td>\n",
       "      <td>2012.0</td>\n",
       "      <td>23000.0</td>\n",
       "      <td>8.5</td>\n",
       "      <td>2.35</td>\n",
       "      <td>164000</td>\n",
       "    </tr>\n",
       "    <tr>\n",
       "      <th>4</th>\n",
       "      <td>5289954</td>\n",
       "      <td>NaN</td>\n",
       "      <td>Doug Walker</td>\n",
       "      <td>NaN</td>\n",
       "      <td>NaN</td>\n",
       "      <td>131.0</td>\n",
       "      <td>NaN</td>\n",
       "      <td>Rob Walker</td>\n",
       "      <td>131.0</td>\n",
       "      <td>NaN</td>\n",
       "      <td>...</td>\n",
       "      <td>NaN</td>\n",
       "      <td>NaN</td>\n",
       "      <td>NaN</td>\n",
       "      <td>NaN</td>\n",
       "      <td>NaN</td>\n",
       "      <td>NaN</td>\n",
       "      <td>12.0</td>\n",
       "      <td>7.1</td>\n",
       "      <td>NaN</td>\n",
       "      <td>0</td>\n",
       "    </tr>\n",
       "  </tbody>\n",
       "</table>\n",
       "<p>5 rows × 29 columns</p>\n",
       "</div>"
      ],
      "text/plain": [
       "   imdb_id  color      director_name  num_critic_for_reviews  duration  \\\n",
       "0   499549  Color      James Cameron                   723.0     178.0   \n",
       "1   449088  Color     Gore Verbinski                   302.0     169.0   \n",
       "2  2379713  Color         Sam Mendes                   602.0     148.0   \n",
       "3  1345836  Color  Christopher Nolan                   813.0     164.0   \n",
       "4  5289954    NaN        Doug Walker                     NaN       NaN   \n",
       "\n",
       "   director_facebook_likes  actor_3_facebook_likes      actor_2_name  \\\n",
       "0                      0.0                   855.0  Joel David Moore   \n",
       "1                    563.0                  1000.0     Orlando Bloom   \n",
       "2                      0.0                   161.0      Rory Kinnear   \n",
       "3                  22000.0                 23000.0    Christian Bale   \n",
       "4                    131.0                     NaN        Rob Walker   \n",
       "\n",
       "   actor_1_facebook_likes        gross          ...           \\\n",
       "0                  1000.0  760505847.0          ...            \n",
       "1                 40000.0  309404152.0          ...            \n",
       "2                 11000.0  200074175.0          ...            \n",
       "3                 27000.0  448130642.0          ...            \n",
       "4                   131.0          NaN          ...            \n",
       "\n",
       "  num_user_for_reviews language country  content_rating       budget  \\\n",
       "0               3054.0  English     USA           PG-13  237000000.0   \n",
       "1               1238.0  English     USA           PG-13  300000000.0   \n",
       "2                994.0  English      UK           PG-13  245000000.0   \n",
       "3               2701.0  English     USA           PG-13  250000000.0   \n",
       "4                  NaN      NaN     NaN             NaN          NaN   \n",
       "\n",
       "  title_year  actor_2_facebook_likes imdb_score aspect_ratio  \\\n",
       "0     2009.0                   936.0        7.9         1.78   \n",
       "1     2007.0                  5000.0        7.1         2.35   \n",
       "2     2015.0                   393.0        6.8         2.35   \n",
       "3     2012.0                 23000.0        8.5         2.35   \n",
       "4        NaN                    12.0        7.1          NaN   \n",
       "\n",
       "   movie_facebook_likes  \n",
       "0                 33000  \n",
       "1                     0  \n",
       "2                 85000  \n",
       "3                164000  \n",
       "4                     0  \n",
       "\n",
       "[5 rows x 29 columns]"
      ]
     },
     "execution_count": 8,
     "metadata": {},
     "output_type": "execute_result"
    }
   ],
   "source": [
    "imdbDataset['color'].fillna(value={'color':'', 'director_name':'', 'num_critic_for_reviews':0,'duration':0,'director_facebook_likes':0,\n",
    "  'actor_3_facebook_likes':0, 'actor_2_name': '', 'actor_1_facebook_likes':0, 'gross':0, 'actor_1_name':'', 'actor_3_name':'', 'facenumber_in_poster':'', 'plot_keywords':'',\n",
    "   'num_user_for_reviews': 0, 'language': '', 'country': '', 'content_rating': '' , 'budget': 0, 'title_year': 0, 'actor_2_facebook_likes':0,\n",
    "   'aspect_ratio': 0}, inplace=True)\n",
    "imdbDataset = imdbDataset.rename(columns={imdbDataset.columns.values[0] : 'imdb_id'})\n",
    "\n",
    "imdbDataset.head()"
   ]
  },
  {
   "cell_type": "code",
   "execution_count": 9,
   "metadata": {},
   "outputs": [
    {
     "data": {
      "text/html": [
       "<div>\n",
       "<style>\n",
       "    .dataframe thead tr:only-child th {\n",
       "        text-align: right;\n",
       "    }\n",
       "\n",
       "    .dataframe thead th {\n",
       "        text-align: left;\n",
       "    }\n",
       "\n",
       "    .dataframe tbody tr th {\n",
       "        vertical-align: top;\n",
       "    }\n",
       "</style>\n",
       "<table border=\"1\" class=\"dataframe\">\n",
       "  <thead>\n",
       "    <tr style=\"text-align: right;\">\n",
       "      <th></th>\n",
       "      <th>Unnamed: 0</th>\n",
       "      <th>Released</th>\n",
       "      <th>Movie</th>\n",
       "      <th>Genre</th>\n",
       "      <th>Budget</th>\n",
       "      <th>Revenue</th>\n",
       "      <th>Trailer</th>\n",
       "      <th>Year</th>\n",
       "    </tr>\n",
       "  </thead>\n",
       "  <tbody>\n",
       "    <tr>\n",
       "      <th>0</th>\n",
       "      <td>0</td>\n",
       "      <td>1/28/14 0:00</td>\n",
       "      <td>1</td>\n",
       "      <td>Documentary</td>\n",
       "      <td>0.0</td>\n",
       "      <td>0</td>\n",
       "      <td>0</td>\n",
       "      <td>2014</td>\n",
       "    </tr>\n",
       "    <tr>\n",
       "      <th>1</th>\n",
       "      <td>1</td>\n",
       "      <td>6/8/12 0:00</td>\n",
       "      <td>1 Out Of 7</td>\n",
       "      <td>Drama</td>\n",
       "      <td>0.0</td>\n",
       "      <td>0</td>\n",
       "      <td>0</td>\n",
       "      <td>2012</td>\n",
       "    </tr>\n",
       "    <tr>\n",
       "      <th>2</th>\n",
       "      <td>2</td>\n",
       "      <td>10/5/79 0:00</td>\n",
       "      <td>10</td>\n",
       "      <td>Romantic Comedy</td>\n",
       "      <td>0.0</td>\n",
       "      <td>52134699</td>\n",
       "      <td>0</td>\n",
       "      <td>1979</td>\n",
       "    </tr>\n",
       "    <tr>\n",
       "      <th>3</th>\n",
       "      <td>3</td>\n",
       "      <td>3/7/08 0:00</td>\n",
       "      <td>10,000 B.C.</td>\n",
       "      <td>Adventure</td>\n",
       "      <td>105000000.0</td>\n",
       "      <td>94784201</td>\n",
       "      <td>0</td>\n",
       "      <td>2008</td>\n",
       "    </tr>\n",
       "    <tr>\n",
       "      <th>4</th>\n",
       "      <td>4</td>\n",
       "      <td>8/31/13 0:00</td>\n",
       "      <td>10 Habits of Highly Effective People</td>\n",
       "      <td>0</td>\n",
       "      <td>0.0</td>\n",
       "      <td>0</td>\n",
       "      <td>0</td>\n",
       "      <td>2013</td>\n",
       "    </tr>\n",
       "  </tbody>\n",
       "</table>\n",
       "</div>"
      ],
      "text/plain": [
       "   Unnamed: 0      Released                                 Movie  \\\n",
       "0           0  1/28/14 0:00                                     1   \n",
       "1           1   6/8/12 0:00                            1 Out Of 7   \n",
       "2           2  10/5/79 0:00                                    10   \n",
       "3           3   3/7/08 0:00                           10,000 B.C.   \n",
       "4           4  8/31/13 0:00  10 Habits of Highly Effective People   \n",
       "\n",
       "             Genre       Budget   Revenue Trailer  Year  \n",
       "0      Documentary          0.0         0       0  2014  \n",
       "1            Drama          0.0         0       0  2012  \n",
       "2  Romantic Comedy          0.0  52134699       0  1979  \n",
       "3        Adventure  105000000.0  94784201       0  2008  \n",
       "4                0          0.0         0       0  2013  "
      ]
     },
     "execution_count": 9,
     "metadata": {},
     "output_type": "execute_result"
    }
   ],
   "source": [
    "revenuesDataset = revenuesDataset.fillna(value=0)\n",
    "revenuesDataset.head()"
   ]
  },
  {
   "cell_type": "code",
   "execution_count": 10,
   "metadata": {},
   "outputs": [
    {
     "data": {
      "text/plain": [
       "array(['imdb_id', 'color', 'director_name', 'num_critic_for_reviews',\n",
       "       'duration', 'director_facebook_likes', 'actor_3_facebook_likes',\n",
       "       'actor_2_name', 'actor_1_facebook_likes', 'gross', 'genres',\n",
       "       'actor_1_name', 'movie_title', 'num_voted_users',\n",
       "       'cast_total_facebook_likes', 'actor_3_name', 'facenumber_in_poster',\n",
       "       'plot_keywords', 'movie_imdb_link', 'num_user_for_reviews',\n",
       "       'language', 'country', 'content_rating', 'budget', 'title_year',\n",
       "       'actor_2_facebook_likes', 'imdb_score', 'aspect_ratio',\n",
       "       'movie_facebook_likes', 'binary', 'test', 'clean_test', 'domgross',\n",
       "       'intgross', 'budget_2013$', 'domgross_2013$', 'intgross_2013$'], dtype=object)"
      ]
     },
     "execution_count": 10,
     "metadata": {},
     "output_type": "execute_result"
    }
   ],
   "source": [
    "bechdelReducedDataset = bechdelDataset[['imdb_id','binary', 'test', 'clean_test', 'domgross', 'intgross','budget_2013$','domgross_2013$','intgross_2013$']].copy()\n",
    "mergedDataset = pd.merge(left=imdbDataset, right=bechdelReducedDataset, how='outer', on='imdb_id')\n",
    "mergedDataset.columns.values"
   ]
  },
  {
   "cell_type": "code",
   "execution_count": 11,
   "metadata": {
    "scrolled": true
   },
   "outputs": [
    {
     "data": {
      "text/plain": [
       "binary  test            \n",
       "FAIL    dubious              86\n",
       "        dubious-disagree     63\n",
       "        men                 126\n",
       "        men-disagree         70\n",
       "        notalk              390\n",
       "        notalk-disagree     139\n",
       "        nowomen              95\n",
       "        nowomen-disagree     54\n",
       "PASS    ok                  717\n",
       "        ok-disagree         112\n",
       "dtype: int64"
      ]
     },
     "execution_count": 11,
     "metadata": {},
     "output_type": "execute_result"
    }
   ],
   "source": [
    "mergedDataset.groupby(['binary', 'test']).size()"
   ]
  },
  {
   "cell_type": "code",
   "execution_count": 27,
   "metadata": {},
   "outputs": [
    {
     "data": {
      "text/plain": [
       "5169"
      ]
     },
     "execution_count": 27,
     "metadata": {},
     "output_type": "execute_result"
    }
   ],
   "source": [
    "mergedDataset.groupby(['binary', 'clean_test']).size()\n"
   ]
  },
  {
   "cell_type": "code",
   "execution_count": 13,
   "metadata": {
    "scrolled": true
   },
   "outputs": [
    {
     "data": {
      "text/plain": [
       "<matplotlib.text.Text at 0x11b6ba390>"
      ]
     },
     "execution_count": 13,
     "metadata": {},
     "output_type": "execute_result"
    },
    {
     "data": {
      "image/png": "[encoded data removed]",
      "text/plain": [
       "<matplotlib.figure.Figure at 0x10fd8fb00>"
      ]
     },
     "metadata": {},
     "output_type": "display_data"
    }
   ],
   "source": [
    "mergedSet = mergedDataset[(mergedDataset.title_year != 0.0)].groupby(['title_year', 'binary']).size()\n",
    "mergedSet = mergedSet.unstack('binary')\n",
    "plt.figure()\n",
    "((mergedSet.PASS)/(mergedSet.PASS+mergedSet.FAIL)).plot()\n",
    "\n",
    "ax = ((mergedSet.FAIL)/(mergedSet.PASS+mergedSet.FAIL)).plot(title='% pass/fail by year')\n",
    "\n",
    "ax.legend(labels=['PASS', 'FAIL'], loc='best')\n",
    "ax.set_ylabel(\"Proportion of film in pass/fail category for a given year\")"
   ]
  },
  {
   "cell_type": "code",
   "execution_count": 14,
   "metadata": {},
   "outputs": [
    {
     "data": {
      "text/plain": [
       "<matplotlib.text.Text at 0x11ea86630>"
      ]
     },
     "execution_count": 14,
     "metadata": {},
     "output_type": "execute_result"
    },
    {
     "data": {
      "image/png": "[encoded data removed]",
      "text/plain": [
       "<matplotlib.figure.Figure at 0x11b72c978>"
      ]
     },
     "metadata": {},
     "output_type": "display_data"
    }
   ],
   "source": [
    "ax = mergedSet.plot(xlim=[1990,2015], title='Number of films pass/fail (1990-2015)')\n",
    "ax.set_ylabel(\"Number of films in each category\")\n",
    "#whats with the dip for passing the test in 1992 and dip for failing the test in 2007"
   ]
  },
  {
   "cell_type": "code",
   "execution_count": 15,
   "metadata": {},
   "outputs": [
    {
     "data": {
      "text/plain": [
       "<matplotlib.text.Text at 0x11a717cf8>"
      ]
     },
     "execution_count": 15,
     "metadata": {},
     "output_type": "execute_result"
    },
    {
     "data": {
      "image/png": "[encoded data removed]",
      "text/plain": [
       "<matplotlib.figure.Figure at 0x11eb3db00>"
      ]
     },
     "metadata": {},
     "output_type": "display_data"
    }
   ],
   "source": [
    "#lets plot the aspect ratios of the films(the ratio used during presentation in a theater) out of curiosity\n",
    "aspectYear = mergedDataset[(mergedDataset.title_year != 0.0) & (mergedDataset.aspect_ratio != 0.0)][['title_year', 'aspect_ratio']]\n",
    "ax = aspectYear.groupby(['title_year']).mean().plot(xlim=[1930,2016], title='Aspect ratio over time')\n",
    "ax.set_ylabel(\"Aspect ratio\")"
   ]
  },
  {
   "cell_type": "code",
   "execution_count": 16,
   "metadata": {
    "collapsed": true
   },
   "outputs": [],
   "source": [
    "#they seem to have stagnated from 1960 to 1980, but we begin to see an increase from 1989 to 2015 onwards"
   ]
  },
  {
   "cell_type": "code",
   "execution_count": 17,
   "metadata": {},
   "outputs": [
    {
     "data": {
      "text/plain": [
       "[<matplotlib.text.Text at 0x11ed40a20>]"
      ]
     },
     "execution_count": 17,
     "metadata": {},
     "output_type": "execute_result"
    },
    {
     "data": {
      "image/png": "[encoded data removed]",
      "text/plain": [
       "<matplotlib.figure.Figure at 0x11eb230f0>"
      ]
     },
     "metadata": {},
     "output_type": "display_data"
    }
   ],
   "source": [
    "#lets visualize the pass rates among the US, UK, France, Canada and Germany\n",
    "#not enough data for China or India since this an English-focused dataset\n",
    "theSet = mergedDataset[((mergedDataset.binary == 'FAIL') | (mergedDataset.binary == 'PASS')) & (mergedDataset.country.isin(['Canada', 'USA', 'UK','France','Germany']))].groupby(['binary', 'country']).size()\n",
    "theSet = theSet.unstack('binary')\n",
    "theSet['PASS proportion'] = theSet.PASS/(theSet.PASS+theSet.FAIL)\n",
    "ax = sns.barplot(x=theSet.index.values, y=theSet['PASS proportion'], data=theSet)\n",
    "ax.set_title('Percentage of films passing test by country')\n",
    "ax.set(ylabel='Mean pass proportion in country')\n"
   ]
  },
  {
   "cell_type": "code",
   "execution_count": 18,
   "metadata": {
    "scrolled": true
   },
   "outputs": [
    {
     "data": {
      "text/plain": [
       "[<matplotlib.text.Text at 0x11eea9c88>]"
      ]
     },
     "execution_count": 18,
     "metadata": {},
     "output_type": "execute_result"
    },
    {
     "data": {
      "image/png": "[encoded data removed]",
      "text/plain": [
       "<matplotlib.figure.Figure at 0x11b6b2908>"
      ]
     },
     "metadata": {},
     "output_type": "display_data"
    }
   ],
   "source": [
    "#rank international gross for American vs the rest of the world\n",
    "intGrossSet = mergedDataset[(mergedDataset.intgross != 0) & (mergedDataset.country.isin(['Canada', 'USA', 'UK','France','Germany'])) & (mergedDataset.domgross != 0)][['country','intgross','domgross']].groupby('country').sum()\n",
    "ax = sns.barplot(x=intGrossSet.index.values, y=intGrossSet['intgross'], data=intGrossSet)\n",
    "ax.set_title('Average International Gross by country')\n",
    "ax.set(ylabel='Mean international gross by country')\n",
    "\n"
   ]
  },
  {
   "cell_type": "code",
   "execution_count": 19,
   "metadata": {
    "scrolled": true
   },
   "outputs": [
    {
     "data": {
      "text/plain": [
       "[<matplotlib.text.Text at 0x11eec2160>]"
      ]
     },
     "execution_count": 19,
     "metadata": {},
     "output_type": "execute_result"
    },
    {
     "data": {
      "image/png": "[encoded data removed]",
      "text/plain": [
       "<matplotlib.figure.Figure at 0x11f079d30>"
      ]
     },
     "metadata": {},
     "output_type": "display_data"
    }
   ],
   "source": [
    "intGrossSet = mergedDataset[(mergedDataset.domgross != 0) & (mergedDataset.country.isin(['Canada', 'USA', 'UK','France','Germany'])) & (mergedDataset.domgross != 0)][['country','intgross','domgross']].groupby('country').median()\n",
    "ax = sns.barplot(x=intGrossSet.index.values, y=intGrossSet['domgross'], data=intGrossSet)\n",
    "ax.set_title('Average Domestic Gross by country')\n",
    "ax.set(ylabel='Mean domestic gross by country')\n"
   ]
  },
  {
   "cell_type": "code",
   "execution_count": 20,
   "metadata": {},
   "outputs": [
    {
     "data": {
      "text/plain": [
       "<matplotlib.text.Text at 0x11f2137f0>"
      ]
     },
     "execution_count": 20,
     "metadata": {},
     "output_type": "execute_result"
    },
    {
     "data": {
      "image/png": "[encoded data removed]",
      "text/plain": [
       "<matplotlib.figure.Figure at 0x11f2133c8>"
      ]
     },
     "metadata": {},
     "output_type": "display_data"
    }
   ],
   "source": [
    "#hmm looks like the median for Germany is almost on par with the USA\n",
    "from scipy import stats\n",
    "def r2(x, y):\n",
    "    return stats.pearsonr(x, y)[0] ** 2\n",
    "#lets look at facebook_likes vs imdb_score\n",
    "sns.jointplot(x=\"movie_facebook_likes\", y=\"imdb_score\", data=mergedDataset,kind=\"reg\", stat_func=r2).fig.suptitle('IMDB score vs movie_facebook likes')\n"
   ]
  },
  {
   "cell_type": "code",
   "execution_count": 21,
   "metadata": {
    "collapsed": true
   },
   "outputs": [],
   "source": [
    "#little correlation between imdb score and movie facebook likes\n",
    "#We will want to explore an expanded dataset of Bechdel data by country and also focus on its trend over time."
   ]
  },
  {
   "cell_type": "code",
   "execution_count": 22,
   "metadata": {
    "collapsed": true
   },
   "outputs": [],
   "source": [
    "#We will now fill in the rest of the Bechdel data."
   ]
  },
  {
   "cell_type": "code",
   "execution_count": 23,
   "metadata": {},
   "outputs": [
    {
     "data": {
      "text/plain": [
       "imdb_id                         0\n",
       "color                         145\n",
       "director_name                 230\n",
       "num_critic_for_reviews        176\n",
       "duration                      141\n",
       "director_facebook_likes       230\n",
       "actor_3_facebook_likes        149\n",
       "actor_2_name                  139\n",
       "actor_1_facebook_likes        133\n",
       "gross                        1010\n",
       "genres                        126\n",
       "actor_1_name                  133\n",
       "movie_title                   126\n",
       "num_voted_users               126\n",
       "cast_total_facebook_likes     126\n",
       "actor_3_name                  149\n",
       "facenumber_in_poster          139\n",
       "plot_keywords                 279\n",
       "movie_imdb_link               126\n",
       "num_user_for_reviews          147\n",
       "language                      138\n",
       "country                       131\n",
       "content_rating                429\n",
       "budget                        618\n",
       "title_year                    234\n",
       "actor_2_facebook_likes        139\n",
       "imdb_score                    126\n",
       "aspect_ratio                  455\n",
       "movie_facebook_likes          126\n",
       "binary                       3317\n",
       "test                         3317\n",
       "clean_test                   3317\n",
       "domgross                     3317\n",
       "intgross                     3317\n",
       "budget_2013$                 3317\n",
       "domgross_2013$               3317\n",
       "intgross_2013$               3317\n",
       "dtype: int64"
      ]
     },
     "execution_count": 23,
     "metadata": {},
     "output_type": "execute_result"
    }
   ],
   "source": [
    "mergedDataset.isnull().sum()"
   ]
  },
  {
   "cell_type": "code",
   "execution_count": 24,
   "metadata": {
    "collapsed": true
   },
   "outputs": [],
   "source": [
    "import requests\n",
    "\n",
    "def queryBechdelAPI(imdbId):\n",
    "    imdbId = str(imdbId)\n",
    "    if (len(imdbId) == 6):\n",
    "        imdbId = '0' + imdbId\n",
    "    r = requests.get(\"http://bechdeltest.com/api/v1/getMovieByImdbId?imdbid=\"+str(imdbId))\n",
    "    binary = 'FAIL'\n",
    "    testRating = None\n",
    "    print(r.json())\n",
    "    if (r.status_code == requests.codes.ok and 'status' not in r.json().keys()):\n",
    "       if (r.json()['rating'] == '3' and r.json()['dubious'] == '0'):\n",
    "          binary = 'PASS'\n",
    "          testRating = 'ok'\n",
    "       elif (r.json()['dubious'] == '1'):\n",
    "          testRating = 'dubious'\n",
    "       elif (r.json()['rating'] == '0'):\n",
    "          testRating = 'nowomen'\n",
    "       elif (r.json()['rating'] == '1'):\n",
    "          testRating = 'notalk'\n",
    "       elif (r.json()['rating'] == '2'):\n",
    "          testRating = 'men'    \n",
    "        \n",
    "    return binary, testRating, r.status_code            "
   ]
  },
  {
   "cell_type": "code",
   "execution_count": 26,
   "metadata": {},
   "outputs": [
    {
     "data": {
      "text/html": [
       "<div>\n",
       "<style>\n",
       "    .dataframe thead tr:only-child th {\n",
       "        text-align: right;\n",
       "    }\n",
       "\n",
       "    .dataframe thead th {\n",
       "        text-align: left;\n",
       "    }\n",
       "\n",
       "    .dataframe tbody tr th {\n",
       "        vertical-align: top;\n",
       "    }\n",
       "</style>\n",
       "<table border=\"1\" class=\"dataframe\">\n",
       "  <thead>\n",
       "    <tr style=\"text-align: right;\">\n",
       "      <th></th>\n",
       "      <th>imdb_id</th>\n",
       "      <th>color</th>\n",
       "      <th>director_name</th>\n",
       "      <th>num_critic_for_reviews</th>\n",
       "      <th>duration</th>\n",
       "      <th>director_facebook_likes</th>\n",
       "      <th>actor_3_facebook_likes</th>\n",
       "      <th>actor_2_name</th>\n",
       "      <th>actor_1_facebook_likes</th>\n",
       "      <th>gross</th>\n",
       "      <th>...</th>\n",
       "      <th>aspect_ratio</th>\n",
       "      <th>movie_facebook_likes</th>\n",
       "      <th>binary</th>\n",
       "      <th>test</th>\n",
       "      <th>clean_test</th>\n",
       "      <th>domgross</th>\n",
       "      <th>intgross</th>\n",
       "      <th>budget_2013$</th>\n",
       "      <th>domgross_2013$</th>\n",
       "      <th>intgross_2013$</th>\n",
       "    </tr>\n",
       "  </thead>\n",
       "  <tbody>\n",
       "    <tr>\n",
       "      <th>0</th>\n",
       "      <td>499549</td>\n",
       "      <td>Color</td>\n",
       "      <td>James Cameron</td>\n",
       "      <td>723.0</td>\n",
       "      <td>178.0</td>\n",
       "      <td>0.0</td>\n",
       "      <td>855.0</td>\n",
       "      <td>Joel David Moore</td>\n",
       "      <td>1000.0</td>\n",
       "      <td>760505847.0</td>\n",
       "      <td>...</td>\n",
       "      <td>1.78</td>\n",
       "      <td>33000.0</td>\n",
       "      <td>FAIL</td>\n",
       "      <td>men-disagree</td>\n",
       "      <td>men</td>\n",
       "      <td>760507625.0</td>\n",
       "      <td>2.783919e+09</td>\n",
       "      <td>461435929.0</td>\n",
       "      <td>825707158.0</td>\n",
       "      <td>3.022589e+09</td>\n",
       "    </tr>\n",
       "    <tr>\n",
       "      <th>1</th>\n",
       "      <td>449088</td>\n",
       "      <td>Color</td>\n",
       "      <td>Gore Verbinski</td>\n",
       "      <td>302.0</td>\n",
       "      <td>169.0</td>\n",
       "      <td>563.0</td>\n",
       "      <td>1000.0</td>\n",
       "      <td>Orlando Bloom</td>\n",
       "      <td>40000.0</td>\n",
       "      <td>309404152.0</td>\n",
       "      <td>...</td>\n",
       "      <td>2.35</td>\n",
       "      <td>0.0</td>\n",
       "      <td>PASS</td>\n",
       "      <td>ok</td>\n",
       "      <td>ok</td>\n",
       "      <td>309420425.0</td>\n",
       "      <td>9.609965e+08</td>\n",
       "      <td>337063045.0</td>\n",
       "      <td>347647302.0</td>\n",
       "      <td>1.079721e+09</td>\n",
       "    </tr>\n",
       "    <tr>\n",
       "      <th>2</th>\n",
       "      <td>2379713</td>\n",
       "      <td>Color</td>\n",
       "      <td>Sam Mendes</td>\n",
       "      <td>602.0</td>\n",
       "      <td>148.0</td>\n",
       "      <td>0.0</td>\n",
       "      <td>161.0</td>\n",
       "      <td>Rory Kinnear</td>\n",
       "      <td>11000.0</td>\n",
       "      <td>200074175.0</td>\n",
       "      <td>...</td>\n",
       "      <td>2.35</td>\n",
       "      <td>85000.0</td>\n",
       "      <td>NaN</td>\n",
       "      <td>NaN</td>\n",
       "      <td>NaN</td>\n",
       "      <td>NaN</td>\n",
       "      <td>NaN</td>\n",
       "      <td>NaN</td>\n",
       "      <td>NaN</td>\n",
       "      <td>NaN</td>\n",
       "    </tr>\n",
       "    <tr>\n",
       "      <th>3</th>\n",
       "      <td>1345836</td>\n",
       "      <td>Color</td>\n",
       "      <td>Christopher Nolan</td>\n",
       "      <td>813.0</td>\n",
       "      <td>164.0</td>\n",
       "      <td>22000.0</td>\n",
       "      <td>23000.0</td>\n",
       "      <td>Christian Bale</td>\n",
       "      <td>27000.0</td>\n",
       "      <td>448130642.0</td>\n",
       "      <td>...</td>\n",
       "      <td>2.35</td>\n",
       "      <td>164000.0</td>\n",
       "      <td>FAIL</td>\n",
       "      <td>notalk-disagree</td>\n",
       "      <td>notalk</td>\n",
       "      <td>448139099.0</td>\n",
       "      <td>1.079344e+09</td>\n",
       "      <td>279025606.0</td>\n",
       "      <td>454699213.0</td>\n",
       "      <td>1.095144e+09</td>\n",
       "    </tr>\n",
       "    <tr>\n",
       "      <th>4</th>\n",
       "      <td>5289954</td>\n",
       "      <td>NaN</td>\n",
       "      <td>Doug Walker</td>\n",
       "      <td>NaN</td>\n",
       "      <td>NaN</td>\n",
       "      <td>131.0</td>\n",
       "      <td>NaN</td>\n",
       "      <td>Rob Walker</td>\n",
       "      <td>131.0</td>\n",
       "      <td>NaN</td>\n",
       "      <td>...</td>\n",
       "      <td>NaN</td>\n",
       "      <td>0.0</td>\n",
       "      <td>NaN</td>\n",
       "      <td>NaN</td>\n",
       "      <td>NaN</td>\n",
       "      <td>NaN</td>\n",
       "      <td>NaN</td>\n",
       "      <td>NaN</td>\n",
       "      <td>NaN</td>\n",
       "      <td>NaN</td>\n",
       "    </tr>\n",
       "  </tbody>\n",
       "</table>\n",
       "<p>5 rows × 37 columns</p>\n",
       "</div>"
      ],
      "text/plain": [
       "   imdb_id  color      director_name  num_critic_for_reviews  duration  \\\n",
       "0   499549  Color      James Cameron                   723.0     178.0   \n",
       "1   449088  Color     Gore Verbinski                   302.0     169.0   \n",
       "2  2379713  Color         Sam Mendes                   602.0     148.0   \n",
       "3  1345836  Color  Christopher Nolan                   813.0     164.0   \n",
       "4  5289954    NaN        Doug Walker                     NaN       NaN   \n",
       "\n",
       "   director_facebook_likes  actor_3_facebook_likes      actor_2_name  \\\n",
       "0                      0.0                   855.0  Joel David Moore   \n",
       "1                    563.0                  1000.0     Orlando Bloom   \n",
       "2                      0.0                   161.0      Rory Kinnear   \n",
       "3                  22000.0                 23000.0    Christian Bale   \n",
       "4                    131.0                     NaN        Rob Walker   \n",
       "\n",
       "   actor_1_facebook_likes        gross       ...       aspect_ratio  \\\n",
       "0                  1000.0  760505847.0       ...               1.78   \n",
       "1                 40000.0  309404152.0       ...               2.35   \n",
       "2                 11000.0  200074175.0       ...               2.35   \n",
       "3                 27000.0  448130642.0       ...               2.35   \n",
       "4                   131.0          NaN       ...                NaN   \n",
       "\n",
       "  movie_facebook_likes binary             test  clean_test     domgross  \\\n",
       "0              33000.0   FAIL     men-disagree         men  760507625.0   \n",
       "1                  0.0   PASS               ok          ok  309420425.0   \n",
       "2              85000.0    NaN              NaN         NaN          NaN   \n",
       "3             164000.0   FAIL  notalk-disagree      notalk  448139099.0   \n",
       "4                  0.0    NaN              NaN         NaN          NaN   \n",
       "\n",
       "       intgross budget_2013$ domgross_2013$  intgross_2013$  \n",
       "0  2.783919e+09  461435929.0    825707158.0    3.022589e+09  \n",
       "1  9.609965e+08  337063045.0    347647302.0    1.079721e+09  \n",
       "2           NaN          NaN            NaN             NaN  \n",
       "3  1.079344e+09  279025606.0    454699213.0    1.095144e+09  \n",
       "4           NaN          NaN            NaN             NaN  \n",
       "\n",
       "[5 rows x 37 columns]"
      ]
     },
     "execution_count": 26,
     "metadata": {},
     "output_type": "execute_result"
    }
   ],
   "source": [
    "mergedDataset.head()"
   ]
  },
  {
   "cell_type": "code",
   "execution_count": null,
   "metadata": {
    "collapsed": true
   },
   "outputs": [],
   "source": [
    "savedDataset = pd.to_csv()"
   ]
  }
 ],
 "metadata": {
  "kernelspec": {
   "display_name": "Python 3",
   "language": "python",
   "name": "python3"
  },
  "language_info": {
   "codemirror_mode": {
    "name": "ipython",
    "version": 3
   },
   "file_extension": ".py",
   "mimetype": "text/x-python",
   "name": "python",
   "nbconvert_exporter": "python",
   "pygments_lexer": "ipython3",
   "version": "3.6.1"
  }
 },
 "nbformat": 4,
 "nbformat_minor": 2
}
