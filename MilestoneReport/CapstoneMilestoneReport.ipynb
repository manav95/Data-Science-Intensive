{
 "cells": [
  {
   "cell_type": "code",
   "execution_count": 17,
   "metadata": {},
   "outputs": [
    {
     "name": "stdout",
     "output_type": "stream",
     "text": [
      "Populating the interactive namespace from numpy and matplotlib\n"
     ]
    }
   ],
   "source": [
    "%pylab inline\n",
    "%matplotlib inline\n",
    "import matplotlib.pyplot as plt\n",
    "import seaborn as sns\n",
    "import scipy\n",
    "\n",
    "import pandas as pd\n",
    "import numpy as np\n"
   ]
  },
  {
   "cell_type": "code",
   "execution_count": null,
   "metadata": {
    "collapsed": true
   },
   "outputs": [],
   "source": []
  },
  {
   "cell_type": "code",
   "execution_count": 85,
   "metadata": {},
   "outputs": [],
   "source": [
    "bechdelDataset = pd.read_csv('/Users/manavdutta1/Downloads/DataScienceIntensive/MilestoneReport/mergeWithRevenue.csv', encoding='ISO-8859-1')                                          "
   ]
  },
  {
   "cell_type": "code",
   "execution_count": 86,
   "metadata": {},
   "outputs": [
    {
     "data": {
      "text/plain": [
       "7446"
      ]
     },
     "execution_count": 86,
     "metadata": {},
     "output_type": "execute_result"
    }
   ],
   "source": [
    "len(bechdelDataset)"
   ]
  },
  {
   "cell_type": "code",
   "execution_count": 87,
   "metadata": {
    "scrolled": false
   },
   "outputs": [
    {
     "data": {
      "text/plain": [
       "index                           0\n",
       "id                              0\n",
       "imdb_id                         2\n",
       "Rating                          0\n",
       "Title                           0\n",
       "Year                            0\n",
       "Unnamed: 0_y                 4578\n",
       "color                        4705\n",
       "director_name                  10\n",
       "num_critic_for_reviews       4703\n",
       "duration                       33\n",
       "director_facebook_likes      4706\n",
       "actor_3_facebook_likes       4707\n",
       "actor_2_name                 4704\n",
       "actor_1_facebook_likes       4703\n",
       "gross                        4898\n",
       "genres                         12\n",
       "actor_1_name                 4703\n",
       "num_voted_users              4703\n",
       "cast_total_facebook_likes    4703\n",
       "actor_3_name                 4707\n",
       "facenumber_in_poster         4708\n",
       "plot_keywords                4711\n",
       "movie_imdb_link              4703\n",
       "num_user_for_reviews         4703\n",
       "language                        9\n",
       "country                         9\n",
       "content_rating               4735\n",
       "budget                       4844\n",
       "actor_2_facebook_likes       4704\n",
       "imdb_score                     27\n",
       "aspect_ratio                 4726\n",
       "movie_facebook_likes         4703\n",
       "binary                          0\n",
       "test                            0\n",
       "clean_test                      0\n",
       "domgross                     5595\n",
       "intgross                     5595\n",
       "budget_2013$                 5595\n",
       "domgross_2013$               5595\n",
       "intgross_2013$               5595\n",
       "producer                      129\n",
       "writer                        101\n",
       "box_office                   5535\n",
       "parental_rating              2924\n",
       "production_company           2776\n",
       "adjusted_box_office             0\n",
       "dtype: int64"
      ]
     },
     "execution_count": 87,
     "metadata": {},
     "output_type": "execute_result"
    }
   ],
   "source": [
    "bechdelDataset.isnull().sum()\n"
   ]
  },
  {
   "cell_type": "code",
   "execution_count": 24,
   "metadata": {
    "scrolled": true
   },
   "outputs": [
    {
     "data": {
      "text/html": [
       "<div>\n",
       "<style>\n",
       "    .dataframe thead tr:only-child th {\n",
       "        text-align: right;\n",
       "    }\n",
       "\n",
       "    .dataframe thead th {\n",
       "        text-align: left;\n",
       "    }\n",
       "\n",
       "    .dataframe tbody tr th {\n",
       "        vertical-align: top;\n",
       "    }\n",
       "</style>\n",
       "<table border=\"1\" class=\"dataframe\">\n",
       "  <thead>\n",
       "    <tr style=\"text-align: right;\">\n",
       "      <th></th>\n",
       "      <th>Year</th>\n",
       "      <th>Avg</th>\n",
       "    </tr>\n",
       "  </thead>\n",
       "  <tbody>\n",
       "    <tr>\n",
       "      <th>0</th>\n",
       "      <td>1913</td>\n",
       "      <td>9.9</td>\n",
       "    </tr>\n",
       "    <tr>\n",
       "      <th>1</th>\n",
       "      <td>1914</td>\n",
       "      <td>10.0</td>\n",
       "    </tr>\n",
       "    <tr>\n",
       "      <th>2</th>\n",
       "      <td>1915</td>\n",
       "      <td>10.1</td>\n",
       "    </tr>\n",
       "    <tr>\n",
       "      <th>3</th>\n",
       "      <td>1916</td>\n",
       "      <td>10.9</td>\n",
       "    </tr>\n",
       "    <tr>\n",
       "      <th>4</th>\n",
       "      <td>1917</td>\n",
       "      <td>12.8</td>\n",
       "    </tr>\n",
       "  </tbody>\n",
       "</table>\n",
       "</div>"
      ],
      "text/plain": [
       "   Year   Avg\n",
       "0  1913   9.9\n",
       "1  1914  10.0\n",
       "2  1915  10.1\n",
       "3  1916  10.9\n",
       "4  1917  12.8"
      ]
     },
     "execution_count": 24,
     "metadata": {},
     "output_type": "execute_result"
    }
   ],
   "source": [
    "cpiData = pd.read_csv('/Users/manavdutta1/Downloads/DataScienceIntensive/MilestoneReport/cpi.csv')\n",
    "cpiData.head()"
   ]
  },
  {
   "cell_type": "code",
   "execution_count": 19,
   "metadata": {},
   "outputs": [
    {
     "ename": "AttributeError",
     "evalue": "'BlockManager' object has no attribute 'T'",
     "output_type": "error",
     "traceback": [
      "\u001b[0;31m---------------------------------------------------------------------------\u001b[0m",
      "\u001b[0;31mAttributeError\u001b[0m                            Traceback (most recent call last)",
      "\u001b[0;32m<ipython-input-19-5e2bf0c8846d>\u001b[0m in \u001b[0;36m<module>\u001b[0;34m()\u001b[0m\n\u001b[1;32m      3\u001b[0m     \u001b[0mrating\u001b[0m \u001b[0;34m=\u001b[0m \u001b[0mbechdelDataset\u001b[0m\u001b[0;34m.\u001b[0m\u001b[0miloc\u001b[0m\u001b[0;34m[\u001b[0m\u001b[0mi\u001b[0m\u001b[0;34m]\u001b[0m\u001b[0;34m[\u001b[0m\u001b[0;34m'Rating'\u001b[0m\u001b[0;34m]\u001b[0m\u001b[0;34m\u001b[0m\u001b[0m\n\u001b[1;32m      4\u001b[0m     \u001b[0;32mif\u001b[0m \u001b[0;34m(\u001b[0m\u001b[0mrating\u001b[0m \u001b[0;34m==\u001b[0m \u001b[0;36m0\u001b[0m\u001b[0;34m)\u001b[0m\u001b[0;34m:\u001b[0m\u001b[0;34m\u001b[0m\u001b[0m\n\u001b[0;32m----> 5\u001b[0;31m         \u001b[0mbechdelDataset\u001b[0m\u001b[0;34m.\u001b[0m\u001b[0mset_value\u001b[0m\u001b[0;34m(\u001b[0m\u001b[0mi\u001b[0m\u001b[0;34m,\u001b[0m \u001b[0;34m'binary'\u001b[0m\u001b[0;34m,\u001b[0m \u001b[0;34m'FAIL'\u001b[0m\u001b[0;34m)\u001b[0m\u001b[0;34m\u001b[0m\u001b[0m\n\u001b[0m\u001b[1;32m      6\u001b[0m         \u001b[0mbechdelDataset\u001b[0m\u001b[0;34m.\u001b[0m\u001b[0mset_value\u001b[0m\u001b[0;34m(\u001b[0m\u001b[0mi\u001b[0m\u001b[0;34m,\u001b[0m \u001b[0;34m'test'\u001b[0m\u001b[0;34m,\u001b[0m \u001b[0;34m'nowomen'\u001b[0m\u001b[0;34m)\u001b[0m\u001b[0;34m\u001b[0m\u001b[0m\n\u001b[1;32m      7\u001b[0m         \u001b[0mbechdelDataset\u001b[0m\u001b[0;34m.\u001b[0m\u001b[0mset_value\u001b[0m\u001b[0;34m(\u001b[0m\u001b[0mi\u001b[0m\u001b[0;34m,\u001b[0m \u001b[0;34m'clean_test'\u001b[0m\u001b[0;34m,\u001b[0m \u001b[0;34m'nowomen'\u001b[0m\u001b[0;34m)\u001b[0m\u001b[0;34m\u001b[0m\u001b[0m\n",
      "\u001b[0;32m/Users/manavdutta1/anaconda/lib/python3.6/site-packages/pandas/core/frame.py\u001b[0m in \u001b[0;36mset_value\u001b[0;34m(self, index, col, value, takeable)\u001b[0m\n\u001b[1;32m   1950\u001b[0m                 \u001b[0;32mreturn\u001b[0m \u001b[0mseries\u001b[0m\u001b[0;34m.\u001b[0m\u001b[0mset_value\u001b[0m\u001b[0;34m(\u001b[0m\u001b[0mindex\u001b[0m\u001b[0;34m,\u001b[0m \u001b[0mvalue\u001b[0m\u001b[0;34m,\u001b[0m \u001b[0mtakeable\u001b[0m\u001b[0;34m=\u001b[0m\u001b[0;32mTrue\u001b[0m\u001b[0;34m)\u001b[0m\u001b[0;34m\u001b[0m\u001b[0m\n\u001b[1;32m   1951\u001b[0m \u001b[0;34m\u001b[0m\u001b[0m\n\u001b[0;32m-> 1952\u001b[0;31m             \u001b[0mseries\u001b[0m \u001b[0;34m=\u001b[0m \u001b[0mself\u001b[0m\u001b[0;34m.\u001b[0m\u001b[0m_get_item_cache\u001b[0m\u001b[0;34m(\u001b[0m\u001b[0mcol\u001b[0m\u001b[0;34m)\u001b[0m\u001b[0;34m\u001b[0m\u001b[0m\n\u001b[0m\u001b[1;32m   1953\u001b[0m             \u001b[0mengine\u001b[0m \u001b[0;34m=\u001b[0m \u001b[0mself\u001b[0m\u001b[0;34m.\u001b[0m\u001b[0mindex\u001b[0m\u001b[0;34m.\u001b[0m\u001b[0m_engine\u001b[0m\u001b[0;34m\u001b[0m\u001b[0m\n\u001b[1;32m   1954\u001b[0m             \u001b[0mengine\u001b[0m\u001b[0;34m.\u001b[0m\u001b[0mset_value\u001b[0m\u001b[0;34m(\u001b[0m\u001b[0mseries\u001b[0m\u001b[0;34m.\u001b[0m\u001b[0m_values\u001b[0m\u001b[0;34m,\u001b[0m \u001b[0mindex\u001b[0m\u001b[0;34m,\u001b[0m \u001b[0mvalue\u001b[0m\u001b[0;34m)\u001b[0m\u001b[0;34m\u001b[0m\u001b[0m\n",
      "\u001b[0;32m/Users/manavdutta1/anaconda/lib/python3.6/site-packages/pandas/core/generic.py\u001b[0m in \u001b[0;36m_get_item_cache\u001b[0;34m(self, item)\u001b[0m\n\u001b[1;32m   1533\u001b[0m         \u001b[0;32mif\u001b[0m \u001b[0mres\u001b[0m \u001b[0;32mis\u001b[0m \u001b[0;32mNone\u001b[0m\u001b[0;34m:\u001b[0m\u001b[0;34m\u001b[0m\u001b[0m\n\u001b[1;32m   1534\u001b[0m             \u001b[0mvalues\u001b[0m \u001b[0;34m=\u001b[0m \u001b[0mself\u001b[0m\u001b[0;34m.\u001b[0m\u001b[0m_data\u001b[0m\u001b[0;34m.\u001b[0m\u001b[0mget\u001b[0m\u001b[0;34m(\u001b[0m\u001b[0mitem\u001b[0m\u001b[0;34m)\u001b[0m\u001b[0;34m\u001b[0m\u001b[0m\n\u001b[0;32m-> 1535\u001b[0;31m             \u001b[0mres\u001b[0m \u001b[0;34m=\u001b[0m \u001b[0mself\u001b[0m\u001b[0;34m.\u001b[0m\u001b[0m_box_item_values\u001b[0m\u001b[0;34m(\u001b[0m\u001b[0mitem\u001b[0m\u001b[0;34m,\u001b[0m \u001b[0mvalues\u001b[0m\u001b[0;34m)\u001b[0m\u001b[0;34m\u001b[0m\u001b[0m\n\u001b[0m\u001b[1;32m   1536\u001b[0m             \u001b[0mcache\u001b[0m\u001b[0;34m[\u001b[0m\u001b[0mitem\u001b[0m\u001b[0;34m]\u001b[0m \u001b[0;34m=\u001b[0m \u001b[0mres\u001b[0m\u001b[0;34m\u001b[0m\u001b[0m\n\u001b[1;32m   1537\u001b[0m             \u001b[0mres\u001b[0m\u001b[0;34m.\u001b[0m\u001b[0m_set_as_cached\u001b[0m\u001b[0;34m(\u001b[0m\u001b[0mitem\u001b[0m\u001b[0;34m,\u001b[0m \u001b[0mself\u001b[0m\u001b[0;34m)\u001b[0m\u001b[0;34m\u001b[0m\u001b[0m\n",
      "\u001b[0;32m/Users/manavdutta1/anaconda/lib/python3.6/site-packages/pandas/core/frame.py\u001b[0m in \u001b[0;36m_box_item_values\u001b[0;34m(self, key, values)\u001b[0m\n\u001b[1;32m   2404\u001b[0m         \u001b[0mitems\u001b[0m \u001b[0;34m=\u001b[0m \u001b[0mself\u001b[0m\u001b[0;34m.\u001b[0m\u001b[0mcolumns\u001b[0m\u001b[0;34m[\u001b[0m\u001b[0mself\u001b[0m\u001b[0;34m.\u001b[0m\u001b[0mcolumns\u001b[0m\u001b[0;34m.\u001b[0m\u001b[0mget_loc\u001b[0m\u001b[0;34m(\u001b[0m\u001b[0mkey\u001b[0m\u001b[0;34m)\u001b[0m\u001b[0;34m]\u001b[0m\u001b[0;34m\u001b[0m\u001b[0m\n\u001b[1;32m   2405\u001b[0m         \u001b[0;32mif\u001b[0m \u001b[0mvalues\u001b[0m\u001b[0;34m.\u001b[0m\u001b[0mndim\u001b[0m \u001b[0;34m==\u001b[0m \u001b[0;36m2\u001b[0m\u001b[0;34m:\u001b[0m\u001b[0;34m\u001b[0m\u001b[0m\n\u001b[0;32m-> 2406\u001b[0;31m             \u001b[0;32mreturn\u001b[0m \u001b[0mself\u001b[0m\u001b[0;34m.\u001b[0m\u001b[0m_constructor\u001b[0m\u001b[0;34m(\u001b[0m\u001b[0mvalues\u001b[0m\u001b[0;34m.\u001b[0m\u001b[0mT\u001b[0m\u001b[0;34m,\u001b[0m \u001b[0mcolumns\u001b[0m\u001b[0;34m=\u001b[0m\u001b[0mitems\u001b[0m\u001b[0;34m,\u001b[0m \u001b[0mindex\u001b[0m\u001b[0;34m=\u001b[0m\u001b[0mself\u001b[0m\u001b[0;34m.\u001b[0m\u001b[0mindex\u001b[0m\u001b[0;34m)\u001b[0m\u001b[0;34m\u001b[0m\u001b[0m\n\u001b[0m\u001b[1;32m   2407\u001b[0m         \u001b[0;32melse\u001b[0m\u001b[0;34m:\u001b[0m\u001b[0;34m\u001b[0m\u001b[0m\n\u001b[1;32m   2408\u001b[0m             \u001b[0;32mreturn\u001b[0m \u001b[0mself\u001b[0m\u001b[0;34m.\u001b[0m\u001b[0m_box_col_values\u001b[0m\u001b[0;34m(\u001b[0m\u001b[0mvalues\u001b[0m\u001b[0;34m,\u001b[0m \u001b[0mitems\u001b[0m\u001b[0;34m)\u001b[0m\u001b[0;34m\u001b[0m\u001b[0m\n",
      "\u001b[0;31mAttributeError\u001b[0m: 'BlockManager' object has no attribute 'T'"
     ]
    }
   ],
   "source": [
    "#Lets fill in columns based on rating\n",
    "for i in range(len(bechdelDataset)):\n",
    "    rating = bechdelDataset.iloc[i]['Rating']\n",
    "    if (rating == 0):\n",
    "        bechdelDataset.set_value(i, 'binary', 'FAIL')\n",
    "        bechdelDataset.set_value(i, 'test', 'nowomen')\n",
    "        bechdelDataset.set_value(i, 'clean_test', 'nowomen')\n",
    "    if (rating == 1):\n",
    "        bechdelDataset.set_value(i, 'binary', 'FAIL')\n",
    "        bechdelDataset.set_value(i, 'test', 'notalk')\n",
    "        bechdelDataset.set_value(i, 'clean_test', 'notalk')\n",
    "    if (rating == 2):\n",
    "        bechdelDataset.set_value(i, 'binary', 'FAIL')\n",
    "        bechdelDataset.set_value(i, 'test', 'men')\n",
    "        bechdelDataset.set_value(i, 'clean_test', 'men')\n",
    "    if (rating == 3):\n",
    "        bechdelDataset.set_value(i, 'binary', 'PASS')\n",
    "        bechdelDataset.set_value(i, 'test', 'ok')\n",
    "        bechdelDataset.set_value(i, 'clean_test', 'ok')\n",
    "            \n",
    "\n",
    "            "
   ]
  },
  {
   "cell_type": "code",
   "execution_count": 88,
   "metadata": {
    "collapsed": true
   },
   "outputs": [],
   "source": [
    "#And adjust box office revenue data by the cpi data too\n",
    "from decimal import Decimal\n",
    "from re import sub\n",
    "\n",
    "baseCPI = cpiData[cpiData['Year'] == 2013]['Avg']"
   ]
  },
  {
   "cell_type": "code",
   "execution_count": 89,
   "metadata": {
    "collapsed": true
   },
   "outputs": [],
   "source": [
    "for i in range(len(bechdelDataset)):\n",
    "    internationalGross = bechdelDataset.iloc[i]['intgross_2013$']\n",
    "    domGross = bechdelDataset.iloc[i]['domgross_2013$']\n",
    "    if (pd.notnull(internationalGross) and pd.notnull(domGross)):\n",
    "        bechdelDataset.set_value(i,'adjusted_box_office', internationalGross + domGross)\n",
    "    else:\n",
    "        if (pd.notnull(bechdelDataset.iloc[i]['box_office'])):\n",
    "            boxOfficeVal = Decimal(sub(r'[^\\d.]', '', bechdelDataset.iloc[i]['box_office']))\n",
    "            yearMovie = bechdelDataset.iloc[i]['Year']\n",
    "            yearVal = cpiData[cpiData.Year == yearMovie]['Avg'][yearMovie - 1913]\n",
    "            bechdelDataset.set_value(i, 'adjusted_box_office', (yearVal/(1.0 * baseCPI)) * float(boxOfficeVal))"
   ]
  },
  {
   "cell_type": "code",
   "execution_count": 90,
   "metadata": {
    "collapsed": true,
    "scrolled": true
   },
   "outputs": [],
   "source": [
    "bechdelDataset.columns.values\n",
    "bechdelDataset.to_csv('/Users/manavdutta1/Downloads/DataScienceIntensive/MilestoneReport/mergeWithRevenue.csv', encoding='utf-8')"
   ]
  },
  {
   "cell_type": "code",
   "execution_count": 10,
   "metadata": {
    "collapsed": true
   },
   "outputs": [],
   "source": [
    "#Let us start with trend analysis"
   ]
  },
  {
   "cell_type": "code",
   "execution_count": 91,
   "metadata": {},
   "outputs": [
    {
     "data": {
      "text/plain": [
       "<matplotlib.text.Text at 0x123a5a1d0>"
      ]
     },
     "execution_count": 91,
     "metadata": {},
     "output_type": "execute_result"
    },
    {
     "data": {
      "image/png": "[encoded data removed]",
      "text/plain": [
       "<matplotlib.figure.Figure at 0x1235e8b38>"
      ]
     },
     "metadata": {},
     "output_type": "display_data"
    }
   ],
   "source": [
    "bechdelDataset.groupby(['binary', 'clean_test']).size()\n",
    "mergedSet = bechdelDataset.groupby(['Year', 'binary']).size()\n",
    "mergedSet = mergedSet.unstack('binary')\n",
    "mergedSet = mergedSet.fillna(0.0)\n",
    "plt.figure()\n",
    "ax = ((mergedSet.PASS)/(mergedSet.PASS+mergedSet.FAIL)).plot(xlim=[1890, 2020], title='% pass by year')\n",
    "                                                             \n",
    "ax.legend(labels=['PASS'], loc='best')\n",
    "ax.set_ylabel(\"Proportion of film in pass for a given year\")"
   ]
  },
  {
   "cell_type": "code",
   "execution_count": 92,
   "metadata": {},
   "outputs": [
    {
     "data": {
      "text/html": [
       "<div>\n",
       "<style>\n",
       "    .dataframe thead tr:only-child th {\n",
       "        text-align: right;\n",
       "    }\n",
       "\n",
       "    .dataframe thead th {\n",
       "        text-align: left;\n",
       "    }\n",
       "\n",
       "    .dataframe tbody tr th {\n",
       "        vertical-align: top;\n",
       "    }\n",
       "</style>\n",
       "<table border=\"1\" class=\"dataframe\">\n",
       "  <thead>\n",
       "    <tr style=\"text-align: right;\">\n",
       "      <th>binary</th>\n",
       "      <th>FAIL</th>\n",
       "      <th>PASS</th>\n",
       "    </tr>\n",
       "    <tr>\n",
       "      <th>Year</th>\n",
       "      <th></th>\n",
       "      <th></th>\n",
       "    </tr>\n",
       "  </thead>\n",
       "  <tbody>\n",
       "    <tr>\n",
       "      <th>1890</th>\n",
       "      <td>11.0</td>\n",
       "      <td>1.0</td>\n",
       "    </tr>\n",
       "    <tr>\n",
       "      <th>1900</th>\n",
       "      <td>42.0</td>\n",
       "      <td>0.0</td>\n",
       "    </tr>\n",
       "    <tr>\n",
       "      <th>1910</th>\n",
       "      <td>15.0</td>\n",
       "      <td>11.0</td>\n",
       "    </tr>\n",
       "    <tr>\n",
       "      <th>1920</th>\n",
       "      <td>64.0</td>\n",
       "      <td>15.0</td>\n",
       "    </tr>\n",
       "    <tr>\n",
       "      <th>1930</th>\n",
       "      <td>96.0</td>\n",
       "      <td>88.0</td>\n",
       "    </tr>\n",
       "    <tr>\n",
       "      <th>1940</th>\n",
       "      <td>104.0</td>\n",
       "      <td>95.0</td>\n",
       "    </tr>\n",
       "    <tr>\n",
       "      <th>1950</th>\n",
       "      <td>129.0</td>\n",
       "      <td>112.0</td>\n",
       "    </tr>\n",
       "    <tr>\n",
       "      <th>1960</th>\n",
       "      <td>170.0</td>\n",
       "      <td>135.0</td>\n",
       "    </tr>\n",
       "    <tr>\n",
       "      <th>1970</th>\n",
       "      <td>171.0</td>\n",
       "      <td>160.0</td>\n",
       "    </tr>\n",
       "    <tr>\n",
       "      <th>1980</th>\n",
       "      <td>257.0</td>\n",
       "      <td>303.0</td>\n",
       "    </tr>\n",
       "    <tr>\n",
       "      <th>1990</th>\n",
       "      <td>409.0</td>\n",
       "      <td>556.0</td>\n",
       "    </tr>\n",
       "    <tr>\n",
       "      <th>2000</th>\n",
       "      <td>816.0</td>\n",
       "      <td>1272.0</td>\n",
       "    </tr>\n",
       "    <tr>\n",
       "      <th>2010</th>\n",
       "      <td>886.0</td>\n",
       "      <td>1528.0</td>\n",
       "    </tr>\n",
       "  </tbody>\n",
       "</table>\n",
       "</div>"
      ],
      "text/plain": [
       "binary   FAIL    PASS\n",
       "Year                 \n",
       "1890     11.0     1.0\n",
       "1900     42.0     0.0\n",
       "1910     15.0    11.0\n",
       "1920     64.0    15.0\n",
       "1930     96.0    88.0\n",
       "1940    104.0    95.0\n",
       "1950    129.0   112.0\n",
       "1960    170.0   135.0\n",
       "1970    171.0   160.0\n",
       "1980    257.0   303.0\n",
       "1990    409.0   556.0\n",
       "2000    816.0  1272.0\n",
       "2010    886.0  1528.0"
      ]
     },
     "execution_count": 92,
     "metadata": {},
     "output_type": "execute_result"
    }
   ],
   "source": [
    "#mergedSet = mergedSet.stack('Year')\n",
    "mergedSet = mergedSet.groupby((mergedSet.index//10)*10).sum()\n",
    "mergedSet"
   ]
  },
  {
   "cell_type": "code",
   "execution_count": 28,
   "metadata": {},
   "outputs": [
    {
     "data": {
      "text/plain": [
       "<matplotlib.text.Text at 0x11de829b0>"
      ]
     },
     "execution_count": 28,
     "metadata": {},
     "output_type": "execute_result"
    },
    {
     "data": {
      "image/png": "[encoded data removed]",
      "text/plain": [
       "<matplotlib.figure.Figure at 0x11ce03dd8>"
      ]
     },
     "metadata": {},
     "output_type": "display_data"
    }
   ],
   "source": [
    "plt.figure()\n",
    "ax = ((mergedSet.PASS)/(mergedSet.PASS+mergedSet.FAIL)).plot.bar(x=mergedSet.index, title='% pass by decade')\n",
    "                                                             \n",
    "ax.set_ylabel(\"Proportion of film in pass for a given decade\")\n",
    "ax.set_xlabel(\"Decade\")"
   ]
  },
  {
   "cell_type": "code",
   "execution_count": 29,
   "metadata": {},
   "outputs": [
    {
     "data": {
      "text/plain": [
       "0                       Animation||Comedy||Short||Romance\n",
       "1                                           Comedy||Short\n",
       "2                                  Short||History||Horror\n",
       "3                                      Documentary||Short\n",
       "4                                   Short||Comedy||Horror\n",
       "5                                           Short||Horror\n",
       "6                                  Short||Family||Fantasy\n",
       "7                                            Short||Drama\n",
       "8                          Short||Comedy||Fantasy||Sci-Fi\n",
       "9                                           Short||Comedy\n",
       "10                                                  Short\n",
       "11                                  Short||Drama||Fantasy\n",
       "12                 Short||Comedy||Crime||Fantasy||Mystery\n",
       "13                                          Short||Comedy\n",
       "14                                          Short||Comedy\n",
       "15                                                  Short\n",
       "16                      Animation||Short||Comedy||Fantasy\n",
       "17                                          Comedy||Short\n",
       "18                                           Short||Drama\n",
       "19                                          Short||Comedy\n",
       "20                                          Short||Comedy\n",
       "21                                     Short||Documentary\n",
       "22                                          Short||Comedy\n",
       "23                                          Short||Horror\n",
       "24                                          Short||Comedy\n",
       "25                                          Comedy||Short\n",
       "26                                 Comedy||Fantasy||Short\n",
       "27                                         Short||Fantasy\n",
       "28                         Short||Comedy||Fantasy||Horror\n",
       "29                      Short||Adventure||Fantasy||Sci-Fi\n",
       "                              ...                        \n",
       "7416                            Action||Adventure||Sci-Fi\n",
       "7417                             Horror||Sci-Fi||Thriller\n",
       "7418                                       Drama||Fantasy\n",
       "7419                       Action||Crime||Music||Thriller\n",
       "7420                            Action||Mystery||Thriller\n",
       "7421                     Action||Crime||Mystery||Thriller\n",
       "7422                         Action||Crime||Drama||Family\n",
       "7423                                               Comedy\n",
       "7424    Action||Adventure||Fantasy||Horror||Sci-Fi||We...\n",
       "7425                          Action||Adventure||Thriller\n",
       "7426                      Crime||Drama||History||Thriller\n",
       "7427    Animation||Action||Adventure||Comedy||Family||...\n",
       "7428                      Action||Drama||Sci-Fi||Thriller\n",
       "7429                                        Comedy||Drama\n",
       "7430                   Action||Adventure||Fantasy||Sci-Fi\n",
       "7431                                      Horror||Mystery\n",
       "7432              Action||Adventure||Fantasy||Sci-Fi||War\n",
       "7433                                       Drama||Romance\n",
       "7434                              Drama||Mystery||Romance\n",
       "7435                                       Drama||Mystery\n",
       "7436                                        Comedy||Drama\n",
       "7437                                      Comedy||Romance\n",
       "7438                            Action||Adventure||Sci-Fi\n",
       "7439                                      Horror||Mystery\n",
       "7440                Action||Drama||History||Thriller||War\n",
       "7441                                               Comedy\n",
       "7442                                       Action||Comedy\n",
       "7443                              Action||Crime||Thriller\n",
       "7444                                       Drama||Romance\n",
       "7445         Action||Adventure||Fantasy||Sci-Fi||Thriller\n",
       "Name: genres, Length: 7446, dtype: object"
      ]
     },
     "execution_count": 29,
     "metadata": {},
     "output_type": "execute_result"
    }
   ],
   "source": [
    "bechdelDataset.genres"
   ]
  },
  {
   "cell_type": "code",
   "execution_count": 51,
   "metadata": {},
   "outputs": [
    {
     "data": {
      "text/plain": [
       "<matplotlib.text.Text at 0x118094c50>"
      ]
     },
     "execution_count": 51,
     "metadata": {},
     "output_type": "execute_result"
    },
    {
     "data": {
      "image/png": "[encoded data removed]",
      "text/plain": [
       "<matplotlib.figure.Figure at 0x11b6a55c0>"
      ]
     },
     "metadata": {},
     "output_type": "display_data"
    }
   ],
   "source": [
    "bechdelYears = bechdelDataset.groupby(['Year']).size()\n",
    "ax = bechdelYears.plot(xlim=[1890, 2020], title='Number of years')\n",
    "                                                             \n",
    "ax.legend(labels=['PASS'], loc='best')\n",
    "ax.set_ylabel(\"Number of films for a given decade\")"
   ]
  },
  {
   "cell_type": "code",
   "execution_count": 30,
   "metadata": {
    "collapsed": true
   },
   "outputs": [],
   "source": [
    "from collections import defaultdict\n",
    "\n",
    "genreDict = defaultdict(list)\n",
    "for i in range(7446):\n",
    "    if (type(bechdelDataset.iloc[i]['genres']) is str):\n",
    "      genres = bechdelDataset.iloc[i]['genres'].split('||')\n",
    "      for genre in genres:\n",
    "        genreDict[genre].append(bechdelDataset.iloc[i]['binary'])\n",
    "\n",
    "        "
   ]
  },
  {
   "cell_type": "code",
   "execution_count": 31,
   "metadata": {},
   "outputs": [],
   "source": [
    "genreX = []\n",
    "genreY = []\n",
    "for genre in genreDict:\n",
    "    genreX.append(genre)\n",
    "    passNum = 0.0\n",
    "    genreLen = len(genreDict[genre])\n",
    "    for word in genreDict[genre]:\n",
    "        if (word == 'PASS'):\n",
    "            passNum += 1.0\n",
    "    genreY.append(passNum/(1.0 * genreLen))\n",
    "    "
   ]
  },
  {
   "cell_type": "code",
   "execution_count": 33,
   "metadata": {},
   "outputs": [
    {
     "data": {
      "text/plain": [
       "<matplotlib.text.Text at 0x11d16a2e8>"
      ]
     },
     "execution_count": 33,
     "metadata": {},
     "output_type": "execute_result"
    },
    {
     "data": {
      "image/png": "[encoded data removed]",
      "text/plain": [
       "<matplotlib.figure.Figure at 0x11debbd30>"
      ]
     },
     "metadata": {},
     "output_type": "display_data"
    }
   ],
   "source": [
    "genreDataset = {'genre': genreX, 'pass rate': genreY}\n",
    "ax = sns.barplot(x=\"pass rate\", y=\"genre\", data=genreDataset, orient=\"h\")\n",
    "ax.set_ylabel(\"Pass Rate for Genre\")\n",
    "ax.set_xlabel(\"Genre\")\n",
    "ax.set_title(\"Bechdel pass by genre\")"
   ]
  },
  {
   "cell_type": "code",
   "execution_count": 34,
   "metadata": {},
   "outputs": [
    {
     "data": {
      "text/plain": [
       "[<matplotlib.text.Text at 0x11e82e6d8>]"
      ]
     },
     "execution_count": 34,
     "metadata": {},
     "output_type": "execute_result"
    },
    {
     "data": {
      "image/png": "[encoded data removed]",
      "text/plain": [
       "<matplotlib.figure.Figure at 0x11d142dd8>"
      ]
     },
     "metadata": {},
     "output_type": "display_data"
    }
   ],
   "source": [
    "theSet = bechdelDataset.groupby(['country']).size()\n",
    "theSet = theSet.sort_values(ascending=False)[0:15].keys()\n",
    "topFifteen = bechdelDataset[bechdelDataset.country.isin(theSet)]\n",
    "theSet = topFifteen.groupby(['country', 'binary']).size()\n",
    "theSet = theSet.unstack('binary')\n",
    "theSet['PASS proportion'] = theSet.PASS/(theSet.PASS+theSet.FAIL)\n",
    "ax = sns.barplot(x=theSet['PASS proportion'], y=theSet.index.values, data=theSet, orient=\"h\")\n",
    "ax.set_title('Percentage of films passing test by country')\n",
    "ax.set(ylabel='Mean pass proportion in country')"
   ]
  },
  {
   "cell_type": "code",
   "execution_count": 138,
   "metadata": {},
   "outputs": [
    {
     "name": "stdout",
     "output_type": "stream",
     "text": [
      "Index(['Algeria', 'Argentina', 'Australia', 'Austria', 'Bahamas', 'Belgium',\n",
      "       'Bosnia and Herzegovina', 'Brazil', 'Bulgaria', 'Burkina Faso',\n",
      "       'Cameroon', 'Canada', 'Chile', 'China', 'Colombia'],\n",
      "      dtype='object', name='country')\n"
     ]
    }
   ],
   "source": [
    "theSet = bechdelDataset.groupby(['country']).size()\n",
    "print(theSet[0:15].keys())"
   ]
  },
  {
   "cell_type": "code",
   "execution_count": 47,
   "metadata": {
    "scrolled": true
   },
   "outputs": [
    {
     "data": {
      "image/png": "[encoded data removed]",
      "text/plain": [
       "<matplotlib.figure.Figure at 0x122f12710>"
      ]
     },
     "metadata": {},
     "output_type": "display_data"
    }
   ],
   "source": [
    "passDataset = bechdelDataset[bechdelDataset.binary == 'PASS']\n",
    "failDataset = bechdelDataset[bechdelDataset.binary == 'FAIL']\n",
    "averagePassValue = 0.0\n",
    "averagePassLen = 0.0\n",
    "averageFailValue = 0.0\n",
    "averageFailLen = 0.0\n",
    "\n",
    "for revenue in passDataset.adjusted_box_office.values:\n",
    "    if (int(revenue) != 0):\n",
    "       averagePassValue += revenue\n",
    "       averagePassLen += 1\n",
    "    \n",
    "for revenue in failDataset.adjusted_box_office.values:\n",
    "    if (int(revenue) != 0):\n",
    "        averageFailValue += revenue\n",
    "        averageFailLen += 1   \n",
    "    \n",
    "ax = sns.barplot(x=[\"Pass revenue\", \"Fail revenue\"], y=[averagePassValue, averageFailValue], orient=\"v\")    "
   ]
  },
  {
   "cell_type": "code",
   "execution_count": 95,
   "metadata": {},
   "outputs": [],
   "source": [
    "genreDict = defaultdict(list)\n",
    "for i in range(7446):\n",
    "    if (type(bechdelDataset.iloc[i]['genres']) is str):\n",
    "      genres = bechdelDataset.iloc[i]['genres'].split('||')\n",
    "      for genre in genres:\n",
    "        genreDict[genre].append((bechdelDataset.iloc[i]['binary'], bechdelDataset.iloc[i]['adjusted_box_office']))\n",
    "\n",
    "genreX = []\n",
    "genreY = []\n",
    "\n",
    "failGenreX = []\n",
    "failGenreY = []\n",
    "\n",
    "for genre in genreDict:\n",
    "    genreX.append(genre)\n",
    "    failGenreX.append(str(genre))\n",
    "    passBoxOffice = 0.0\n",
    "    genreLen = 0\n",
    "    failBoxOffice = 0.0\n",
    "    failGenreLen = 0\n",
    "    \n",
    "    for word, box_office in genreDict[genre]:\n",
    "        if (word == 'FAIL'):\n",
    "            failBoxOffice += box_office\n",
    "            failGenreLen += 1.0\n",
    "            \n",
    "        if (word == 'PASS'):\n",
    "            passBoxOffice += box_office\n",
    "            genreLen += 1.0\n",
    "            \n",
    "    if (int(genreLen) != 0):                 \n",
    "        genreY.append(passBoxOffice/genreLen)\n",
    "    if (int(failGenreLen) != 0):   \n",
    "        failGenreY.append(float(failBoxOffice/failGenreLen))\n"
   ]
  },
  {
   "cell_type": "code",
   "execution_count": 75,
   "metadata": {
    "scrolled": true
   },
   "outputs": [
    {
     "name": "stdout",
     "output_type": "stream",
     "text": [
      "['Animation', 'Comedy', 'Short', 'Romance', 'History', 'Horror', 'Documentary', 'Family', 'Fantasy', 'Drama', 'Sci-Fi', 'Crime', 'Mystery', 'Adventure', 'Action', 'Western', 'Music', 'Biography', 'Thriller', 'War', 'Sport', 'Musical', 'Film-Noir', 'Adult', 'Game-Show', 'News']\n",
      "['Animation', 'Comedy', 'Short', 'Romance', 'History', 'Horror', 'Documentary', 'Family', 'Fantasy', 'Drama', 'Sci-Fi', 'Crime', 'Mystery', 'Adventure', 'Action', 'Western', 'Music', 'Biography', 'Thriller', 'War', 'Sport', 'Musical', 'Film-Noir', 'Adult', 'Game-Show', 'News']\n"
     ]
    }
   ],
   "source": [
    "print(genreX)\n",
    "print(failGenreX)"
   ]
  },
  {
   "cell_type": "code",
   "execution_count": 76,
   "metadata": {},
   "outputs": [
    {
     "name": "stdout",
     "output_type": "stream",
     "text": [
      "[123646943.5670208, 59418012.086677633, 0.0, 61036552.456543833, 57109779.118000031, 54884365.308084212, 5128843.0362714706, 166526176.36380097, 173536728.78635544, 45145923.666999623, 159817119.3981393, 55973067.257610708, 74020800.762655944, 234515949.46474317, 174081534.10166797, 41483294.314687498, 49015148.819271401, 44424589.306173526, 85311370.325973839, 52610926.651685379, 119425824.37731808, 77099869.193728566, 0.0, 0.0, 0.0, 31970.377513333329]\n",
      "[151872822.16579077, 85506322.5580028, 1010.4824594339623, 56830967.16859553, 52799314.782225274, 28409235.39200433, 6240524.6510125007, 176910611.05083108, 186515051.7564536, 56203352.873244762, 150411590.44715607, 81367709.795571432, 83739594.948599443, 215990034.2443524, 187093709.19903424, 63165196.192982577, 40726148.383361578, 50244754.170433939, 90086600.592186242, 59443399.415674433, 99247811.316234887, 57881345.954172172, 68734.191857142869, 0.0, 18177822.0]\n"
     ]
    }
   ],
   "source": [
    "print(genreY)\n",
    "print(failGenreY)"
   ]
  },
  {
   "cell_type": "code",
   "execution_count": 101,
   "metadata": {
    "scrolled": true
   },
   "outputs": [
    {
     "name": "stdout",
     "output_type": "stream",
     "text": [
      "26\n",
      "25\n"
     ]
    },
    {
     "data": {
      "image/png": "[encoded data removed]",
      "text/plain": [
       "<matplotlib.figure.Figure at 0x11f536048>"
      ]
     },
     "metadata": {},
     "output_type": "display_data"
    }
   ],
   "source": [
    "genreDataset = {'genre': genreX, 'Revenue': genreY}\n",
    "ax = sns.barplot(x=\"Revenue\", y=\"genre\", data=genreDataset, orient='h')\n",
    "ax.set_ylabel(\"Office Revenue\")\n",
    "ax.set_xlabel(\"Genre\")\n",
    "ax.set_title(\"Box Office Revenue for passed films by genre\")"
   ]
  },
  {
   "cell_type": "code",
   "execution_count": 103,
   "metadata": {},
   "outputs": [
    {
     "data": {
      "text/plain": [
       "<matplotlib.text.Text at 0x12442d588>"
      ]
     },
     "execution_count": 103,
     "metadata": {},
     "output_type": "execute_result"
    },
    {
     "data": {
      "image/png": "[encoded data removed]",
      "text/plain": [
       "<matplotlib.figure.Figure at 0x123e2c6a0>"
      ]
     },
     "metadata": {},
     "output_type": "display_data"
    }
   ],
   "source": [
    "genreDataset = {'genre': failGenreX[0:25], 'Revenue': failGenreY}\n",
    "ax = sns.barplot(x=\"Revenue\", y=\"genre\", data=genreDataset, orient='h')\n",
    "ax.set_ylabel(\"Office Revenue\")\n",
    "ax.set_xlabel(\"Genre\")\n",
    "ax.set_title(\"Box Office Revenue for failed films by genre\")"
   ]
  },
  {
   "cell_type": "code",
   "execution_count": 99,
   "metadata": {
    "scrolled": false
   },
   "outputs": [
    {
     "name": "stdout",
     "output_type": "stream",
     "text": [
      "Genre: Animation Revenue: 123646943.568\n",
      "Genre: Animation Revenue: 151872822.16563776\n",
      "Genre: Comedy Revenue: 59418012.0868\n",
      "Genre: Comedy Revenue: 85506322.55802798\n",
      "Genre: Short Revenue: 0.0\n",
      "Genre: Short Revenue: 1010.4824592699553\n",
      "Genre: Romance Revenue: 61036552.4563\n",
      "Genre: Romance Revenue: 56830967.16878486\n",
      "Genre: History Revenue: 57109779.1179\n",
      "Genre: History Revenue: 52799314.782288365\n",
      "Genre: Horror Revenue: 54884365.3081\n",
      "Genre: Horror Revenue: 28409235.392008506\n",
      "Genre: Documentary Revenue: 5128843.03627\n",
      "Genre: Documentary Revenue: 6240524.6510094125\n",
      "Genre: Family Revenue: 166526176.364\n",
      "Genre: Family Revenue: 176910611.05079633\n",
      "Genre: Fantasy Revenue: 173536728.786\n",
      "Genre: Fantasy Revenue: 186515051.7562325\n",
      "Genre: Drama Revenue: 45145923.667\n",
      "Genre: Drama Revenue: 56203352.87333846\n",
      "Genre: Sci-Fi Revenue: 159817119.398\n",
      "Genre: Sci-Fi Revenue: 150411590.44746834\n",
      "Genre: Crime Revenue: 55973067.2575\n",
      "Genre: Crime Revenue: 81367709.79567029\n",
      "Genre: Mystery Revenue: 74020800.7628\n",
      "Genre: Mystery Revenue: 83739594.94858569\n",
      "Genre: Adventure Revenue: 234515949.465\n",
      "Genre: Adventure Revenue: 215990034.24436525\n",
      "Genre: Action Revenue: 174081534.102\n",
      "Genre: Action Revenue: 187093709.19907245\n",
      "Genre: Western Revenue: 41483294.3146\n",
      "Genre: Western Revenue: 63165196.19292671\n",
      "Genre: Music Revenue: 49015148.8199\n",
      "Genre: Music Revenue: 40726148.3834795\n",
      "Genre: Biography Revenue: 44424589.3063\n",
      "Genre: Biography Revenue: 50244754.17038449\n",
      "Genre: Thriller Revenue: 85311370.326\n",
      "Genre: Thriller Revenue: 90086600.59222545\n",
      "Genre: War Revenue: 52610926.6515\n",
      "Genre: War Revenue: 59443399.415770255\n",
      "Genre: Sport Revenue: 119425824.377\n",
      "Genre: Sport Revenue: 99247811.31640913\n",
      "Genre: Musical Revenue: 77099869.1936\n",
      "Genre: Musical Revenue: 57881345.95427476\n",
      "Genre: Film-Noir Revenue: 0.0\n",
      "Genre: Film-Noir Revenue: 68734.19186087276\n",
      "Genre: Adult Revenue: 0.0\n",
      "Genre: Adult Revenue: 0.0\n",
      "Genre: Game-Show Revenue: 0.0\n",
      "Genre: Game-Show Revenue: 18177822.0\n",
      "Genre: News Revenue: 31970.3775146\n"
     ]
    },
    {
     "ename": "IndexError",
     "evalue": "list index out of range",
     "output_type": "error",
     "traceback": [
      "\u001b[0;31m---------------------------------------------------------------------------\u001b[0m",
      "\u001b[0;31mIndexError\u001b[0m                                Traceback (most recent call last)",
      "\u001b[0;32m<ipython-input-99-691b89b608f9>\u001b[0m in \u001b[0;36m<module>\u001b[0;34m()\u001b[0m\n\u001b[1;32m      1\u001b[0m \u001b[0;32mfor\u001b[0m \u001b[0mi\u001b[0m \u001b[0;32min\u001b[0m \u001b[0mrange\u001b[0m\u001b[0;34m(\u001b[0m\u001b[0mlen\u001b[0m\u001b[0;34m(\u001b[0m\u001b[0mgenreX\u001b[0m\u001b[0;34m)\u001b[0m\u001b[0;34m)\u001b[0m\u001b[0;34m:\u001b[0m\u001b[0;34m\u001b[0m\u001b[0m\n\u001b[1;32m      2\u001b[0m    \u001b[0mprint\u001b[0m\u001b[0;34m(\u001b[0m\u001b[0;34m\"Genre: \"\u001b[0m\u001b[0;34m+\u001b[0m \u001b[0mgenreX\u001b[0m\u001b[0;34m[\u001b[0m\u001b[0mi\u001b[0m\u001b[0;34m]\u001b[0m \u001b[0;34m+\u001b[0m \u001b[0;34m\" Revenue: \"\u001b[0m \u001b[0;34m+\u001b[0m \u001b[0mstr\u001b[0m\u001b[0;34m(\u001b[0m\u001b[0mgenreY\u001b[0m\u001b[0;34m[\u001b[0m\u001b[0mi\u001b[0m\u001b[0;34m]\u001b[0m\u001b[0;34m)\u001b[0m\u001b[0;34m)\u001b[0m\u001b[0;34m\u001b[0m\u001b[0m\n\u001b[0;32m----> 3\u001b[0;31m    \u001b[0mprint\u001b[0m\u001b[0;34m(\u001b[0m\u001b[0;34m\"Genre: \"\u001b[0m\u001b[0;34m+\u001b[0m \u001b[0mfailGenreX\u001b[0m\u001b[0;34m[\u001b[0m\u001b[0mi\u001b[0m\u001b[0;34m]\u001b[0m \u001b[0;34m+\u001b[0m \u001b[0;34m\" Revenue: \"\u001b[0m \u001b[0;34m+\u001b[0m \u001b[0mstr\u001b[0m\u001b[0;34m(\u001b[0m\u001b[0mfailGenreY\u001b[0m\u001b[0;34m[\u001b[0m\u001b[0mi\u001b[0m\u001b[0;34m]\u001b[0m\u001b[0;34m)\u001b[0m\u001b[0;34m)\u001b[0m\u001b[0;34m\u001b[0m\u001b[0m\n\u001b[0m",
      "\u001b[0;31mIndexError\u001b[0m: list index out of range"
     ]
    }
   ],
   "source": [
    "for i in range(len(genreX)):\n",
    "   print(\"Genre: \"+ genreX[i] + \" Revenue: \" + str(genreY[i]))\n",
    "   print(\"Genre: \"+ failGenreX[i] + \" Revenue: \" + str(failGenreY[i]))"
   ]
  },
  {
   "cell_type": "code",
   "execution_count": 109,
   "metadata": {},
   "outputs": [
    {
     "data": {
      "image/png": "[encoded data removed]",
      "text/plain": [
       "<matplotlib.figure.Figure at 0x1255ea160>"
      ]
     },
     "metadata": {},
     "output_type": "display_data"
    }
   ],
   "source": [
    "passDataset = bechdelDataset[bechdelDataset.binary == 'PASS']\n",
    "failDataset = bechdelDataset[bechdelDataset.binary == 'FAIL']\n",
    "passDataset = passDataset[passDataset.country == 'USA']\n",
    "failDataset = failDataset[failDataset.country == 'USA']\n",
    "\n",
    "averagePassValue = 0.0\n",
    "averagePassLen = 0.0\n",
    "averageFailValue = 0.0\n",
    "averageFailLen = 0.0\n",
    "\n",
    "for revenue in passDataset.adjusted_box_office.values:\n",
    "    if (int(revenue) != 0):\n",
    "       averagePassValue += revenue\n",
    "       averagePassLen += 1\n",
    "    \n",
    "for revenue in failDataset.adjusted_box_office.values:\n",
    "    if (int(revenue) != 0):\n",
    "        averageFailValue += revenue\n",
    "        averageFailLen += 1   \n",
    "    \n",
    "ax = sns.barplot(x=[\"Pass revenue\", \"Fail revenue\"], y=[averagePassValue, averageFailValue], orient=\"v\")   "
   ]
  },
  {
   "cell_type": "code",
   "execution_count": 110,
   "metadata": {},
   "outputs": [
    {
     "name": "stdout",
     "output_type": "stream",
     "text": [
      "262027257.347\n",
      "296772278.908\n"
     ]
    }
   ],
   "source": [
    "print(np.std(passDataset.adjusted_box_office.values))\n",
    "print(np.std(failDataset.adjusted_box_office.values))"
   ]
  },
  {
   "cell_type": "code",
   "execution_count": 116,
   "metadata": {},
   "outputs": [
    {
     "name": "stdout",
     "output_type": "stream",
     "text": [
      "0.000651733476783\n",
      "253577590762.0\n",
      "0.0344414168682\n"
     ]
    }
   ],
   "source": [
    "#Let us use a welch t-test that does not assume equal population variance.\n",
    "from scipy import stats\n",
    "\n",
    "passVals = [value for value in passDataset.adjusted_box_office.values if int(value) != 0]\n",
    "failVals = [value for value in failDataset.adjusted_box_office.values if int(value) != 0]\n",
    "tstat, pval = stats.ttest_ind(passVals, failVals, equal_var = False)\n",
    "print(pval)\n",
    "print(averagePassValue)\n",
    "print((averagePassValue - averageFailValue)/averagePassValue)"
   ]
  },
  {
   "cell_type": "code",
   "execution_count": null,
   "metadata": {
    "collapsed": true
   },
   "outputs": [],
   "source": [
    "#Hence there is a significant difference and we reject the null hypothesis of no difference."
   ]
  }
 ],
 "metadata": {
  "kernelspec": {
   "display_name": "Python 3",
   "language": "python",
   "name": "python3"
  },
  "language_info": {
   "codemirror_mode": {
    "name": "ipython",
    "version": 3
   },
   "file_extension": ".py",
   "mimetype": "text/x-python",
   "name": "python",
   "nbconvert_exporter": "python",
   "pygments_lexer": "ipython3",
   "version": "3.6.1"
  }
 },
 "nbformat": 4,
 "nbformat_minor": 2
}
