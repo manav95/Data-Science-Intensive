{
 "cells": [
  {
   "cell_type": "code",
   "execution_count": 1,
   "metadata": {},
   "outputs": [
    {
     "name": "stdout",
     "output_type": "stream",
     "text": [
      "Populating the interactive namespace from numpy and matplotlib\n"
     ]
    }
   ],
   "source": [
    "%pylab inline\n",
    "%matplotlib inline\n",
    "import matplotlib.pyplot as plt\n",
    "import seaborn as sns\n",
    "\n",
    "import pandas as pd\n",
    "import numpy as np\n"
   ]
  },
  {
   "cell_type": "code",
   "execution_count": 2,
   "metadata": {
    "collapsed": true
   },
   "outputs": [],
   "source": [
    "bechdelDataset = pd.read_csv('/Users/manavdutta1/Downloads/DataScienceIntensive/MilestoneReport/mergedWithRevenue.csv', encoding='latin_1')"
   ]
  },
  {
   "cell_type": "code",
   "execution_count": 3,
   "metadata": {},
   "outputs": [
    {
     "data": {
      "text/html": [
       "<div>\n",
       "<style>\n",
       "    .dataframe thead tr:only-child th {\n",
       "        text-align: right;\n",
       "    }\n",
       "\n",
       "    .dataframe thead th {\n",
       "        text-align: left;\n",
       "    }\n",
       "\n",
       "    .dataframe tbody tr th {\n",
       "        vertical-align: top;\n",
       "    }\n",
       "</style>\n",
       "<table border=\"1\" class=\"dataframe\">\n",
       "  <thead>\n",
       "    <tr style=\"text-align: right;\">\n",
       "      <th></th>\n",
       "      <th>Year</th>\n",
       "      <th>Avg</th>\n",
       "    </tr>\n",
       "  </thead>\n",
       "  <tbody>\n",
       "    <tr>\n",
       "      <th>0</th>\n",
       "      <td>1913</td>\n",
       "      <td>9.9</td>\n",
       "    </tr>\n",
       "    <tr>\n",
       "      <th>1</th>\n",
       "      <td>1914</td>\n",
       "      <td>10.0</td>\n",
       "    </tr>\n",
       "    <tr>\n",
       "      <th>2</th>\n",
       "      <td>1915</td>\n",
       "      <td>10.1</td>\n",
       "    </tr>\n",
       "    <tr>\n",
       "      <th>3</th>\n",
       "      <td>1916</td>\n",
       "      <td>10.9</td>\n",
       "    </tr>\n",
       "    <tr>\n",
       "      <th>4</th>\n",
       "      <td>1917</td>\n",
       "      <td>12.8</td>\n",
       "    </tr>\n",
       "  </tbody>\n",
       "</table>\n",
       "</div>"
      ],
      "text/plain": [
       "   Year   Avg\n",
       "0  1913   9.9\n",
       "1  1914  10.0\n",
       "2  1915  10.1\n",
       "3  1916  10.9\n",
       "4  1917  12.8"
      ]
     },
     "execution_count": 3,
     "metadata": {},
     "output_type": "execute_result"
    }
   ],
   "source": [
    "cpiData = pd.read_csv('/Users/manavdutta1/Downloads/DataScienceIntensive/MilestoneReport/cpi.csv')\n",
    "cpiData.head()"
   ]
  },
  {
   "cell_type": "code",
   "execution_count": 4,
   "metadata": {
    "collapsed": true
   },
   "outputs": [],
   "source": [
    "#Lets fill in columns based on rating\n",
    "for i in range(len(bechdelDataset)):\n",
    "    rating = bechdelDataset.iloc[i]['Rating']\n",
    "    if (rating == 0):\n",
    "        bechdelDataset.set_value(i, 'binary', 'FAIL')\n",
    "        bechdelDataset.set_value(i, 'test', 'nowomen')\n",
    "        bechdelDataset.set_value(i, 'clean_test', 'nowomen')\n",
    "    if (rating == 1):\n",
    "        bechdelDataset.set_value(i, 'binary', 'FAIL')\n",
    "        bechdelDataset.set_value(i, 'test', 'notalk')\n",
    "        bechdelDataset.set_value(i, 'clean_test', 'notalk')\n",
    "    if (rating == 2):\n",
    "        bechdelDataset.set_value(i, 'binary', 'FAIL')\n",
    "        bechdelDataset.set_value(i, 'test', 'men')\n",
    "        bechdelDataset.set_value(i, 'clean_test', 'men')\n",
    "    if (rating == 3):\n",
    "        bechdelDataset.set_value(i, 'binary', 'PASS')\n",
    "        bechdelDataset.set_value(i, 'test', 'ok')\n",
    "        bechdelDataset.set_value(i, 'clean_test', 'ok')\n",
    "            \n",
    "\n",
    "            "
   ]
  },
  {
   "cell_type": "code",
   "execution_count": 7,
   "metadata": {
    "collapsed": true
   },
   "outputs": [],
   "source": [
    "#And adjust box office revenue data by the cpi data too\n",
    "from decimal import Decimal\n",
    "from re import sub\n",
    "\n",
    "baseCPI = cpiData[cpiData['Year'] == 2013]['Avg']"
   ]
  },
  {
   "cell_type": "code",
   "execution_count": 8,
   "metadata": {},
   "outputs": [],
   "source": [
    "for i in range(len(bechdelDataset)):\n",
    "    internationalGross = bechdelDataset.iloc[i]['intgross_2013$']\n",
    "    domGross = bechdelDataset.iloc[i]['domgross_2013$']\n",
    "    if (pd.notnull(internationalGross) and pd.notnull(domGross)):\n",
    "        bechdelDataset.set_value(i,'adjusted_box_office', internationalGross + domGross)\n",
    "    else:\n",
    "        if (pd.notnull(bechdelDataset.iloc[i]['box_office'])):\n",
    "            boxOfficeVal = Decimal(sub(r'[^\\d.]', '', bechdelDataset.iloc[i]['box_office']))\n",
    "            yearMovie = bechdelDataset.iloc[i]['Year']\n",
    "            yearVal = cpiData[cpiData.Year == yearMovie]['Avg'][yearMovie - 1913]\n",
    "            bechdelDataset.set_value(i, 'adjusted_box_office', (yearVal/(1.0 * baseCPI)) * float(boxOfficeVal))"
   ]
  },
  {
   "cell_type": "code",
   "execution_count": 9,
   "metadata": {
    "collapsed": true,
    "scrolled": true
   },
   "outputs": [],
   "source": [
    "bechdelDataset.columns.values\n",
    "bechdelDataset.to_csv('/Users/manavdutta1/Downloads/DataScienceIntensive/MilestoneReport/mergeWithRevenue.csv')"
   ]
  },
  {
   "cell_type": "code",
   "execution_count": 10,
   "metadata": {
    "collapsed": true
   },
   "outputs": [],
   "source": [
    "#Let us start with trend analysis"
   ]
  },
  {
   "cell_type": "code",
   "execution_count": 18,
   "metadata": {},
   "outputs": [
    {
     "data": {
      "text/plain": [
       "<matplotlib.text.Text at 0x1127aa588>"
      ]
     },
     "execution_count": 18,
     "metadata": {},
     "output_type": "execute_result"
    },
    {
     "data": {
      "image/png": "[encoded data removed]",
      "text/plain": [
       "<matplotlib.figure.Figure at 0x10e63a8d0>"
      ]
     },
     "metadata": {},
     "output_type": "display_data"
    }
   ],
   "source": [
    "bechdelDataset.groupby(['binary', 'clean_test']).size()\n",
    "mergedSet = bechdelDataset.groupby(['Year', 'binary']).size()\n",
    "mergedSet = mergedSet.unstack('binary')\n",
    "plt.figure()\n",
    "ax = ((mergedSet.PASS)/(mergedSet.PASS+mergedSet.FAIL)).plot(xlim=[1890, 2020], title='% pass by year')\n",
    "                                                             \n",
    "ax.legend(labels=['PASS'], loc='best')\n",
    "ax.set_ylabel(\"Proportion of film in pass for a given year\")"
   ]
  },
  {
   "cell_type": "code",
   "execution_count": 16,
   "metadata": {},
   "outputs": [
    {
     "data": {
      "text/plain": [
       "Year\n",
       "1892      1\n",
       "1895      2\n",
       "1896      4\n",
       "1898      3\n",
       "1899      2\n",
       "1900     11\n",
       "1901      3\n",
       "1902      4\n",
       "1903      5\n",
       "1904      4\n",
       "1905      2\n",
       "1906      7\n",
       "1907      2\n",
       "1908      1\n",
       "1909      3\n",
       "1910      3\n",
       "1912      3\n",
       "1913      2\n",
       "1914      1\n",
       "1915      1\n",
       "1916      5\n",
       "1917      5\n",
       "1918      4\n",
       "1919      2\n",
       "1920      3\n",
       "1921      4\n",
       "1922      9\n",
       "1923      5\n",
       "1924     10\n",
       "1925      9\n",
       "       ... \n",
       "1989     63\n",
       "1990     66\n",
       "1991     74\n",
       "1992     71\n",
       "1993     91\n",
       "1994     92\n",
       "1995    100\n",
       "1996    113\n",
       "1997    108\n",
       "1998    126\n",
       "1999    124\n",
       "2000    141\n",
       "2001    161\n",
       "2002    170\n",
       "2003    143\n",
       "2004    190\n",
       "2005    200\n",
       "2006    242\n",
       "2007    250\n",
       "2008    254\n",
       "2009    337\n",
       "2010    343\n",
       "2011    356\n",
       "2012    348\n",
       "2013    398\n",
       "2014    360\n",
       "2015    296\n",
       "2016    240\n",
       "2017     72\n",
       "2018      1\n",
       "Length: 123, dtype: int64"
      ]
     },
     "execution_count": 16,
     "metadata": {},
     "output_type": "execute_result"
    }
   ],
   "source": [
    "bechdelDataset.groupby(['Year']).size()"
   ]
  },
  {
   "cell_type": "code",
   "execution_count": null,
   "metadata": {
    "collapsed": true
   },
   "outputs": [],
   "source": []
  }
 ],
 "metadata": {
  "kernelspec": {
   "display_name": "Python 3",
   "language": "python",
   "name": "python3"
  },
  "language_info": {
   "codemirror_mode": {
    "name": "ipython",
    "version": 3
   },
   "file_extension": ".py",
   "mimetype": "text/x-python",
   "name": "python",
   "nbconvert_exporter": "python",
   "pygments_lexer": "ipython3",
   "version": "3.6.1"
  }
 },
 "nbformat": 4,
 "nbformat_minor": 2
}
