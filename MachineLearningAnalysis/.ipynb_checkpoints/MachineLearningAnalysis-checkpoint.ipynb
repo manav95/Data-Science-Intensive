{
 "cells": [
  {
   "cell_type": "code",
   "execution_count": 16,
   "metadata": {
    "scrolled": true
   },
   "outputs": [
    {
     "name": "stdout",
     "output_type": "stream",
     "text": [
      "Populating the interactive namespace from numpy and matplotlib\n"
     ]
    },
    {
     "name": "stderr",
     "output_type": "stream",
     "text": [
      "/Users/manavdutta1/anaconda/lib/python3.6/site-packages/IPython/core/magics/pylab.py:161: UserWarning: pylab import has clobbered these variables: ['test']\n",
      "`%matplotlib` prevents importing * from pylab and numpy\n",
      "  \"\\n`%matplotlib` prevents importing * from pylab and numpy\"\n"
     ]
    },
    {
     "data": {
      "image/png": "[encoded data removed]",
      "text/plain": [
       "<matplotlib.figure.Figure at 0x1156a9630>"
      ]
     },
     "metadata": {},
     "output_type": "display_data"
    }
   ],
   "source": [
    "%pylab inline\n",
    "%matplotlib inline\n",
    "import matplotlib.pyplot as plt\n",
    "import seaborn as sns\n",
    "import scipy\n",
    "\n",
    "from IPython.core.magic import register_cell_magic\n",
    "import pandas as pd\n",
    "import numpy as np\n",
    "plt.ticklabel_format(style='plain', axis='y')"
   ]
  },
  {
   "cell_type": "code",
   "execution_count": 17,
   "metadata": {
    "scrolled": true
   },
   "outputs": [
    {
     "data": {
      "text/html": [
       "<div>\n",
       "<style>\n",
       "    .dataframe thead tr:only-child th {\n",
       "        text-align: right;\n",
       "    }\n",
       "\n",
       "    .dataframe thead th {\n",
       "        text-align: left;\n",
       "    }\n",
       "\n",
       "    .dataframe tbody tr th {\n",
       "        vertical-align: top;\n",
       "    }\n",
       "</style>\n",
       "<table border=\"1\" class=\"dataframe\">\n",
       "  <thead>\n",
       "    <tr style=\"text-align: right;\">\n",
       "      <th></th>\n",
       "      <th>Unnamed: 0</th>\n",
       "      <th>Unnamed: 0.1</th>\n",
       "      <th>id</th>\n",
       "      <th>imdb_id</th>\n",
       "      <th>Rating</th>\n",
       "      <th>Title</th>\n",
       "      <th>Year</th>\n",
       "      <th>Unnamed: 0_y</th>\n",
       "      <th>color</th>\n",
       "      <th>director_name</th>\n",
       "      <th>...</th>\n",
       "      <th>parental_rating</th>\n",
       "      <th>production_company</th>\n",
       "      <th>adjusted_box_office</th>\n",
       "      <th>Multigenre</th>\n",
       "      <th>director_name%</th>\n",
       "      <th>writer%</th>\n",
       "      <th>producer%</th>\n",
       "      <th>director_gender</th>\n",
       "      <th>producer_gender</th>\n",
       "      <th>writer_gender</th>\n",
       "    </tr>\n",
       "  </thead>\n",
       "  <tbody>\n",
       "    <tr>\n",
       "      <th>0</th>\n",
       "      <td>0</td>\n",
       "      <td>0</td>\n",
       "      <td>5433</td>\n",
       "      <td>3.0</td>\n",
       "      <td>0</td>\n",
       "      <td>Pauvre Pierrot</td>\n",
       "      <td>1892</td>\n",
       "      <td>NaN</td>\n",
       "      <td>NaN</td>\n",
       "      <td>´_mile Reynaud</td>\n",
       "      <td>...</td>\n",
       "      <td>NaN</td>\n",
       "      <td>NaN</td>\n",
       "      <td>0.0</td>\n",
       "      <td>Y</td>\n",
       "      <td>0.000000</td>\n",
       "      <td>0.0</td>\n",
       "      <td>0.000000</td>\n",
       "      <td>M</td>\n",
       "      <td>M</td>\n",
       "      <td>M</td>\n",
       "    </tr>\n",
       "    <tr>\n",
       "      <th>1</th>\n",
       "      <td>1</td>\n",
       "      <td>1</td>\n",
       "      <td>5444</td>\n",
       "      <td>14.0</td>\n",
       "      <td>0</td>\n",
       "      <td>Tables Turned on the Gardener</td>\n",
       "      <td>1895</td>\n",
       "      <td>NaN</td>\n",
       "      <td>NaN</td>\n",
       "      <td>Louis Lumi´_re</td>\n",
       "      <td>...</td>\n",
       "      <td>NaN</td>\n",
       "      <td>NaN</td>\n",
       "      <td>0.0</td>\n",
       "      <td>Y</td>\n",
       "      <td>0.000000</td>\n",
       "      <td>0.0</td>\n",
       "      <td>0.000000</td>\n",
       "      <td>M</td>\n",
       "      <td>M</td>\n",
       "      <td>M</td>\n",
       "    </tr>\n",
       "    <tr>\n",
       "      <th>2</th>\n",
       "      <td>2</td>\n",
       "      <td>2</td>\n",
       "      <td>6200</td>\n",
       "      <td>132134.0</td>\n",
       "      <td>0</td>\n",
       "      <td>Execution of Mary, Queen of Scots, The</td>\n",
       "      <td>1895</td>\n",
       "      <td>NaN</td>\n",
       "      <td>NaN</td>\n",
       "      <td>Alfred Clark</td>\n",
       "      <td>...</td>\n",
       "      <td>NaN</td>\n",
       "      <td>NaN</td>\n",
       "      <td>0.0</td>\n",
       "      <td>Y</td>\n",
       "      <td>0.000000</td>\n",
       "      <td>0.0</td>\n",
       "      <td>0.000000</td>\n",
       "      <td>M</td>\n",
       "      <td>M</td>\n",
       "      <td>M</td>\n",
       "    </tr>\n",
       "    <tr>\n",
       "      <th>3</th>\n",
       "      <td>3</td>\n",
       "      <td>3</td>\n",
       "      <td>6199</td>\n",
       "      <td>12.0</td>\n",
       "      <td>0</td>\n",
       "      <td>Arrival of a Train, The</td>\n",
       "      <td>1896</td>\n",
       "      <td>NaN</td>\n",
       "      <td>NaN</td>\n",
       "      <td>Auguste Lumi´_re</td>\n",
       "      <td>...</td>\n",
       "      <td>NaN</td>\n",
       "      <td>NaN</td>\n",
       "      <td>0.0</td>\n",
       "      <td>Y</td>\n",
       "      <td>0.000000</td>\n",
       "      <td>0.0</td>\n",
       "      <td>0.000000</td>\n",
       "      <td>M</td>\n",
       "      <td>M</td>\n",
       "      <td>M</td>\n",
       "    </tr>\n",
       "    <tr>\n",
       "      <th>4</th>\n",
       "      <td>4</td>\n",
       "      <td>4</td>\n",
       "      <td>5406</td>\n",
       "      <td>131.0</td>\n",
       "      <td>0</td>\n",
       "      <td>Une nuit terrible</td>\n",
       "      <td>1896</td>\n",
       "      <td>NaN</td>\n",
       "      <td>NaN</td>\n",
       "      <td>Georges M´´©li´_s</td>\n",
       "      <td>...</td>\n",
       "      <td>NaN</td>\n",
       "      <td>NaN</td>\n",
       "      <td>0.0</td>\n",
       "      <td>Y</td>\n",
       "      <td>0.032258</td>\n",
       "      <td>0.0</td>\n",
       "      <td>0.058824</td>\n",
       "      <td>M</td>\n",
       "      <td>M</td>\n",
       "      <td>M</td>\n",
       "    </tr>\n",
       "    <tr>\n",
       "      <th>5</th>\n",
       "      <td>5</td>\n",
       "      <td>5</td>\n",
       "      <td>4982</td>\n",
       "      <td>91.0</td>\n",
       "      <td>0</td>\n",
       "      <td>House of the Devil, The</td>\n",
       "      <td>1896</td>\n",
       "      <td>NaN</td>\n",
       "      <td>NaN</td>\n",
       "      <td>Georges M´´©li´_s</td>\n",
       "      <td>...</td>\n",
       "      <td>NaN</td>\n",
       "      <td>NaN</td>\n",
       "      <td>0.0</td>\n",
       "      <td>Y</td>\n",
       "      <td>0.032258</td>\n",
       "      <td>0.0</td>\n",
       "      <td>0.058824</td>\n",
       "      <td>M</td>\n",
       "      <td>M</td>\n",
       "      <td>M</td>\n",
       "    </tr>\n",
       "    <tr>\n",
       "      <th>6</th>\n",
       "      <td>6</td>\n",
       "      <td>6</td>\n",
       "      <td>5445</td>\n",
       "      <td>223341.0</td>\n",
       "      <td>0</td>\n",
       "      <td>La fee aux choux</td>\n",
       "      <td>1896</td>\n",
       "      <td>NaN</td>\n",
       "      <td>NaN</td>\n",
       "      <td>Alice Guy</td>\n",
       "      <td>...</td>\n",
       "      <td>NaN</td>\n",
       "      <td>NaN</td>\n",
       "      <td>0.0</td>\n",
       "      <td>Y</td>\n",
       "      <td>0.000000</td>\n",
       "      <td>0.0</td>\n",
       "      <td>0.000000</td>\n",
       "      <td>F</td>\n",
       "      <td>M</td>\n",
       "      <td>F</td>\n",
       "    </tr>\n",
       "    <tr>\n",
       "      <th>7</th>\n",
       "      <td>7</td>\n",
       "      <td>7</td>\n",
       "      <td>5411</td>\n",
       "      <td>224240.0</td>\n",
       "      <td>0</td>\n",
       "      <td>Temptation of St. Anthony, The</td>\n",
       "      <td>1898</td>\n",
       "      <td>NaN</td>\n",
       "      <td>NaN</td>\n",
       "      <td>Georges M´´©li´_s</td>\n",
       "      <td>...</td>\n",
       "      <td>NaN</td>\n",
       "      <td>NaN</td>\n",
       "      <td>0.0</td>\n",
       "      <td>Y</td>\n",
       "      <td>0.032258</td>\n",
       "      <td>0.0</td>\n",
       "      <td>0.000000</td>\n",
       "      <td>M</td>\n",
       "      <td>M</td>\n",
       "      <td>M</td>\n",
       "    </tr>\n",
       "    <tr>\n",
       "      <th>8</th>\n",
       "      <td>8</td>\n",
       "      <td>8</td>\n",
       "      <td>5410</td>\n",
       "      <td>211.0</td>\n",
       "      <td>0</td>\n",
       "      <td>Astronomer&amp;#39;s Dream; or, The Man in the Moo...</td>\n",
       "      <td>1898</td>\n",
       "      <td>NaN</td>\n",
       "      <td>NaN</td>\n",
       "      <td>Georges M´´©li´_s</td>\n",
       "      <td>...</td>\n",
       "      <td>NaN</td>\n",
       "      <td>Kadokawa Pictures</td>\n",
       "      <td>0.0</td>\n",
       "      <td>Y</td>\n",
       "      <td>0.032258</td>\n",
       "      <td>0.0</td>\n",
       "      <td>0.058824</td>\n",
       "      <td>M</td>\n",
       "      <td>M</td>\n",
       "      <td>M</td>\n",
       "    </tr>\n",
       "    <tr>\n",
       "      <th>9</th>\n",
       "      <td>9</td>\n",
       "      <td>9</td>\n",
       "      <td>4978</td>\n",
       "      <td>135696.0</td>\n",
       "      <td>0</td>\n",
       "      <td>Four Heads Are Better Than One</td>\n",
       "      <td>1898</td>\n",
       "      <td>NaN</td>\n",
       "      <td>NaN</td>\n",
       "      <td>Georges M´´©li´_s</td>\n",
       "      <td>...</td>\n",
       "      <td>NaN</td>\n",
       "      <td>NaN</td>\n",
       "      <td>0.0</td>\n",
       "      <td>Y</td>\n",
       "      <td>0.032258</td>\n",
       "      <td>0.0</td>\n",
       "      <td>0.058824</td>\n",
       "      <td>M</td>\n",
       "      <td>M</td>\n",
       "      <td>M</td>\n",
       "    </tr>\n",
       "  </tbody>\n",
       "</table>\n",
       "<p>10 rows × 55 columns</p>\n",
       "</div>"
      ],
      "text/plain": [
       "   Unnamed: 0  Unnamed: 0.1    id   imdb_id  Rating  \\\n",
       "0           0             0  5433       3.0       0   \n",
       "1           1             1  5444      14.0       0   \n",
       "2           2             2  6200  132134.0       0   \n",
       "3           3             3  6199      12.0       0   \n",
       "4           4             4  5406     131.0       0   \n",
       "5           5             5  4982      91.0       0   \n",
       "6           6             6  5445  223341.0       0   \n",
       "7           7             7  5411  224240.0       0   \n",
       "8           8             8  5410     211.0       0   \n",
       "9           9             9  4978  135696.0       0   \n",
       "\n",
       "                                               Title  Year  Unnamed: 0_y  \\\n",
       "0                                     Pauvre Pierrot  1892           NaN   \n",
       "1                      Tables Turned on the Gardener  1895           NaN   \n",
       "2             Execution of Mary, Queen of Scots, The  1895           NaN   \n",
       "3                            Arrival of a Train, The  1896           NaN   \n",
       "4                                  Une nuit terrible  1896           NaN   \n",
       "5                            House of the Devil, The  1896           NaN   \n",
       "6                                   La fee aux choux  1896           NaN   \n",
       "7                     Temptation of St. Anthony, The  1898           NaN   \n",
       "8  Astronomer&#39;s Dream; or, The Man in the Moo...  1898           NaN   \n",
       "9                     Four Heads Are Better Than One  1898           NaN   \n",
       "\n",
       "  color         director_name      ...        parental_rating  \\\n",
       "0   NaN       ´_mile Reynaud      ...                    NaN   \n",
       "1   NaN      Louis Lumi´_re      ...                    NaN   \n",
       "2   NaN          Alfred Clark      ...                    NaN   \n",
       "3   NaN    Auguste Lumi´_re      ...                    NaN   \n",
       "4   NaN  Georges M´´©li´_s      ...                    NaN   \n",
       "5   NaN  Georges M´´©li´_s      ...                    NaN   \n",
       "6   NaN             Alice Guy      ...                    NaN   \n",
       "7   NaN  Georges M´´©li´_s      ...                    NaN   \n",
       "8   NaN  Georges M´´©li´_s      ...                    NaN   \n",
       "9   NaN  Georges M´´©li´_s      ...                    NaN   \n",
       "\n",
       "   production_company  adjusted_box_office  Multigenre director_name%  \\\n",
       "0                 NaN                  0.0           Y       0.000000   \n",
       "1                 NaN                  0.0           Y       0.000000   \n",
       "2                 NaN                  0.0           Y       0.000000   \n",
       "3                 NaN                  0.0           Y       0.000000   \n",
       "4                 NaN                  0.0           Y       0.032258   \n",
       "5                 NaN                  0.0           Y       0.032258   \n",
       "6                 NaN                  0.0           Y       0.000000   \n",
       "7                 NaN                  0.0           Y       0.032258   \n",
       "8   Kadokawa Pictures                  0.0           Y       0.032258   \n",
       "9                 NaN                  0.0           Y       0.032258   \n",
       "\n",
       "   writer%  producer% director_gender producer_gender  writer_gender  \n",
       "0      0.0   0.000000               M               M              M  \n",
       "1      0.0   0.000000               M               M              M  \n",
       "2      0.0   0.000000               M               M              M  \n",
       "3      0.0   0.000000               M               M              M  \n",
       "4      0.0   0.058824               M               M              M  \n",
       "5      0.0   0.058824               M               M              M  \n",
       "6      0.0   0.000000               F               M              F  \n",
       "7      0.0   0.000000               M               M              M  \n",
       "8      0.0   0.058824               M               M              M  \n",
       "9      0.0   0.058824               M               M              M  \n",
       "\n",
       "[10 rows x 55 columns]"
      ]
     },
     "execution_count": 17,
     "metadata": {},
     "output_type": "execute_result"
    }
   ],
   "source": [
    "bechdelDataset = pd.read_csv('mergeWithRevenue.csv', encoding='latin-1') \n",
    "bechdelDataset.head(10)"
   ]
  },
  {
   "cell_type": "code",
   "execution_count": null,
   "metadata": {
    "collapsed": true
   },
   "outputs": [],
   "source": [
    "#use this to construct pass percentages for each director/writer/producer \n",
    "#over their work in the dataset\n",
    "from collections import defaultdict\n",
    "\n",
    "def returnValue(x, counter):\n",
    "    if (pd.notnull(x)):\n",
    "       return counter[x]\n",
    "    else:\n",
    "       return 0.0\n",
    "\n",
    "def constructRecord(dataset, role):\n",
    "    columnName = role\n",
    "    passValues = dataset[dataset.binary == 'PASS'][columnName].value_counts().to_dict()\n",
    "    totalValues = dataset[columnName].value_counts().to_dict()\n",
    "    passDict = defaultdict(float)\n",
    "    for value in passValues:\n",
    "        passDict[value] = passValues[value] / totalValues[value]\n",
    "           \n",
    "    dataset[columnName+'%'] = dataset[columnName].apply(lambda x: returnValue(x, passDict))  \n",
    "    return dataset\n"
   ]
  },
  {
   "cell_type": "code",
   "execution_count": null,
   "metadata": {
    "collapsed": true,
    "scrolled": true
   },
   "outputs": [],
   "source": [
    "bechdelDataset = constructRecord(bechdelDataset, 'director_name')\n",
    "bechdelDataset = constructRecord(bechdelDataset, 'writer')\n",
    "bechdelDataset = constructRecord(bechdelDataset, 'producer')"
   ]
  },
  {
   "cell_type": "code",
   "execution_count": null,
   "metadata": {
    "collapsed": true,
    "scrolled": false
   },
   "outputs": [],
   "source": [
    "bechdelDataset.head(40)"
   ]
  },
  {
   "cell_type": "code",
   "execution_count": null,
   "metadata": {
    "collapsed": true
   },
   "outputs": [],
   "source": [
    "names = bechdelDataset['producer'].unique()\n",
    "producerFirstNames = []\n",
    "for name in names:\n",
    "    if (pd.notnull(name)):\n",
    "        first = name.split(' ')\n",
    "        producerFirstNames.append(first[0])\n",
    "        \n",
    "#sorted ensures we don't lose our place\n",
    "producerGivenNamesSet = sorted(list(set(producerFirstNames)))"
   ]
  },
  {
   "cell_type": "code",
   "execution_count": null,
   "metadata": {
    "collapsed": true
   },
   "outputs": [],
   "source": [
    "names = bechdelDataset['writer'].unique()\n",
    "writerFirstNames = []\n",
    "for name in names:\n",
    "    if (pd.notnull(name)):\n",
    "        first = name.split(' ')\n",
    "        writerFirstNames.append(first[0])\n",
    "        \n",
    "writerGivenNamesSet = sorted(set(writerFirstNames))"
   ]
  },
  {
   "cell_type": "code",
   "execution_count": null,
   "metadata": {
    "collapsed": true
   },
   "outputs": [],
   "source": [
    "names = bechdelDataset['director_name'].unique()\n",
    "directorNames = []\n",
    "for name in names:\n",
    "    if (pd.notnull(name)):\n",
    "        first = name.split(' ')\n",
    "        directorNames.append(first[0])\n",
    "        \n",
    "directorGivenNamesSet = sorted(set(directorNames))\n",
    "print(len(directorGivenNamesSet))"
   ]
  },
  {
   "cell_type": "code",
   "execution_count": null,
   "metadata": {
    "collapsed": true
   },
   "outputs": [],
   "source": [
    "bechdelDataset['director_gender'] = pd.Series(['Y' for i in range(len(bechdelDataset))])\n",
    "bechdelDataset['producer_gender'] = pd.Series(['Y' for i in range(len(bechdelDataset))])\n",
    "bechdelDataset['writer_gender'] = pd.Series(['Y' for i in range(len(bechdelDataset))])"
   ]
  },
  {
   "cell_type": "code",
   "execution_count": null,
   "metadata": {
    "collapsed": true
   },
   "outputs": [],
   "source": [
    "bechdelDataset.head(10)"
   ]
  },
  {
   "cell_type": "code",
   "execution_count": null,
   "metadata": {
    "collapsed": true
   },
   "outputs": [],
   "source": [
    "import requests\n",
    "import json\n",
    "import xmltodict\n",
    "\n",
    "def requestGender(name, key):\n",
    "     print(name)\n",
    "     paramDict = {'name': name, 'key': key}\n",
    "     response = requests.get('https://www.behindthename.com/api/lookup.php', paramDict)\n",
    "     fileStr = {}\n",
    "     if (response != None and response.status_code == 200):\n",
    "        fileDict = xmltodict.parse(response.text)\n",
    "        print(fileDict)\n",
    "        if ('response' in fileDict.keys() and 'name_detail' in fileDict['response'].keys()):\n",
    "           nameDetail = fileDict['response']['name_detail'] \n",
    "           if (type(nameDetail) is list):\n",
    "               gender = fileDict['response']['name_detail'][0]['gender']      \n",
    "           else:     \n",
    "               gender = fileDict['response']['name_detail']['gender']\n",
    "           print(\"success\")\n",
    "           return gender.upper()\n",
    "     else:\n",
    "        return \"MFail\"\n",
    "     return \"M\"    "
   ]
  },
  {
   "cell_type": "code",
   "execution_count": null,
   "metadata": {
    "collapsed": true,
    "scrolled": false
   },
   "outputs": [],
   "source": [
    "requestGender(\"Christopher\")"
   ]
  },
  {
   "cell_type": "code",
   "execution_count": null,
   "metadata": {
    "collapsed": true
   },
   "outputs": [],
   "source": [
    "from collections import defaultdict\n",
    "\n",
    "namesValues = defaultdict(str)\n",
    "for i in range(1285, len(producerGivenNamesSet)):\n",
    "    print(i)\n",
    "    name = producerGivenNamesSet[i]\n",
    "    gender = requestGender(name)\n",
    "    if (gender == \"MFail\"):\n",
    "        break\n",
    "    namesValues[producerGivenNamesSet[i]] = gender"
   ]
  },
  {
   "cell_type": "code",
   "execution_count": null,
   "metadata": {
    "collapsed": true
   },
   "outputs": [],
   "source": [
    "#namesDF = pd.DataFrame({\"names\": namesValues.keys(), \"gender\": namesValues.keys()})\n",
    "#namesDF = pd.DataFrame(namesValues, index=[i for i in range(len(namesValues))])\n",
    "#save dataframe to pandas for later, 1285\n",
    "#namesDF.to_csv('nameGenders.csv')\n",
    "values = []\n",
    "for colum in namesDF.columns.values[0:1285]:\n",
    "    value = namesDF.iloc[0][colum]\n",
    "    if (len(value) == 2):\n",
    "        value = value[0]\n",
    "    values.append(value)    \n",
    "oldNamesDict = pd.DataFrame({\"names\": namesDF.columns.values[0:1285], \"values\": values})\n",
    "oldNamesDict "
   ]
  },
  {
   "cell_type": "code",
   "execution_count": null,
   "metadata": {
    "collapsed": true,
    "scrolled": true
   },
   "outputs": [],
   "source": [
    "values = []\n",
    "for colum in namesValues.keys():\n",
    "    value = namesValues[colum]\n",
    "    if (len(value) == 2):\n",
    "        value = value[0]\n",
    "    values.append(value) \n",
    "\n",
    "newNamesDict = pd.DataFrame(data={\"names\": list(namesValues.keys()), \"values\": values}, index=[i for i in range(1285, 1792)])\n",
    "frames = [oldNamesDict, newNamesDict]\n",
    "result = pd.concat(frames)"
   ]
  },
  {
   "cell_type": "code",
   "execution_count": null,
   "metadata": {
    "collapsed": true
   },
   "outputs": [],
   "source": [
    "result.to_csv('nameGenders.csv', encoding='latin-1')"
   ]
  },
  {
   "cell_type": "code",
   "execution_count": null,
   "metadata": {
    "collapsed": true,
    "scrolled": true
   },
   "outputs": [],
   "source": [
    "namesValues = defaultdict(str)\n",
    "for i in range(1372, len(writerGivenNamesSet)):\n",
    "    print(i)\n",
    "    name = writerGivenNamesSet[i]\n",
    "    gender = requestGender(name, 'co403533')\n",
    "    if (gender == \"MFail\"):\n",
    "        break\n",
    "    namesValues[writerGivenNamesSet[i]] = gender"
   ]
  },
  {
   "cell_type": "code",
   "execution_count": null,
   "metadata": {
    "collapsed": true
   },
   "outputs": [],
   "source": [
    "values = []\n",
    "for colum in namesValues.keys():\n",
    "    value = namesValues[colum]\n",
    "    if (len(value) == 2):\n",
    "        value = value[0]\n",
    "    values.append(value) \n",
    "\n",
    "newNamesDict = pd.DataFrame(data={\"names\": list(namesValues.keys()), \"values\": values}, index=[i for i in range(1372, 1372 + len(namesValues))])\n",
    "newNamesDict.to_csv('writerNamesGenderTwo.csv', encoding='latin-1')"
   ]
  },
  {
   "cell_type": "code",
   "execution_count": null,
   "metadata": {
    "collapsed": true,
    "scrolled": true
   },
   "outputs": [],
   "source": [
    "namesValues = defaultdict(str)\n",
    "for i in range(881, len(directorGivenNamesSet)):\n",
    "    print(i)\n",
    "    name = directorGivenNamesSet[i]\n",
    "    gender = requestGender(name, 'ma042492')\n",
    "    if (gender == \"MFail\"):\n",
    "        break\n",
    "    namesValues[directorGivenNamesSet[i]] = gender"
   ]
  },
  {
   "cell_type": "code",
   "execution_count": null,
   "metadata": {
    "collapsed": true
   },
   "outputs": [],
   "source": [
    "values = []\n",
    "for colum in namesValues.keys():\n",
    "    value = namesValues[colum]\n",
    "    if (len(value) == 2):\n",
    "        value = value[0]\n",
    "    values.append(value) \n",
    "\n",
    "newNamesDict = pd.DataFrame(data={\"names\": list(namesValues.keys()), \"values\": values}, index=[i for i in range(881, 881 + len(namesValues))])\n",
    "newNamesDict.to_csv('directorNamesGenderTwo.csv', encoding='latin-1')"
   ]
  },
  {
   "cell_type": "code",
   "execution_count": null,
   "metadata": {
    "collapsed": true
   },
   "outputs": [],
   "source": [
    "directorNames = pd.read_csv('directorNamesGender.csv', encoding='latin-1')\n",
    "writerNames = pd.read_csv('writerNamesGender.csv', encoding='latin-1')\n",
    "producerNames = pd.read_csv('nameGenders.csv', encoding='latin-1')"
   ]
  },
  {
   "cell_type": "code",
   "execution_count": null,
   "metadata": {
    "collapsed": true
   },
   "outputs": [],
   "source": [
    "bechdelDataset['director_gender'] = pd.Series(['Y' for i in range(len(bechdelDataset))])\n",
    "bechdelDataset['producer_gender'] = pd.Series(['Y' for i in range(len(bechdelDataset))])\n",
    "bechdelDataset['writer_gender'] = pd.Series(['Y' for i in range(len(bechdelDataset))])"
   ]
  },
  {
   "cell_type": "code",
   "execution_count": null,
   "metadata": {
    "collapsed": true
   },
   "outputs": [],
   "source": [
    "directorDict = defaultdict(str)\n",
    "for i in range(len(directorNames)):\n",
    "    firstName = directorNames.iloc[i]['names']\n",
    "    gender = directorNames.iloc[i]['values']\n",
    "    directorDict[firstName] = gender\n",
    "        \n",
    "writerDict = defaultdict(str)    \n",
    "for i in range(len(writerNames)):\n",
    "    firstName = writerNames.iloc[i]['names']\n",
    "    gender = writerNames.iloc[i]['values']\n",
    "    writerDict[firstName] = gender\n",
    "    \n",
    "producerDict = defaultdict(str)    \n",
    "for i in range(len(producerNames)):\n",
    "    firstName = producerNames.iloc[i]['names']\n",
    "    gender = producerNames.iloc[i]['values']\n",
    "    producerDict[firstName] = gender    "
   ]
  },
  {
   "cell_type": "code",
   "execution_count": null,
   "metadata": {
    "collapsed": true
   },
   "outputs": [],
   "source": [
    "for i in range(len(bechdelDataset)):\n",
    "    name = bechdelDataset.iloc[i]['director_name']\n",
    "    if (pd.notnull(name)):\n",
    "       firstName = name.split(' ')[0]\n",
    "       bechdelDataset.set_value(i, 'director_gender', directorDict[firstName])\n",
    "    else:     \n",
    "        bechdelDataset.set_value(i, 'director_gender', 'M')"
   ]
  },
  {
   "cell_type": "code",
   "execution_count": null,
   "metadata": {
    "collapsed": true
   },
   "outputs": [],
   "source": [
    "for i in range(len(bechdelDataset)):\n",
    "    name = bechdelDataset.iloc[i]['producer']\n",
    "    if (pd.notnull(name)):\n",
    "       firstName = name.split(' ')[0]\n",
    "       bechdelDataset.set_value(i, 'producer_gender', producerDict[firstName])\n",
    "    else:     \n",
    "        bechdelDataset.set_value(i, 'producer_gender', 'M')"
   ]
  },
  {
   "cell_type": "code",
   "execution_count": null,
   "metadata": {
    "collapsed": true
   },
   "outputs": [],
   "source": [
    "for i in range(len(bechdelDataset)):\n",
    "    name = bechdelDataset.iloc[i]['writer']\n",
    "    if (pd.notnull(name)):\n",
    "       firstName = name.split(' ')[0]\n",
    "       bechdelDataset.set_value(i, 'writer_gender', directorDict[firstName])\n",
    "    else:     \n",
    "        bechdelDataset.set_value(i, 'writer_gender', 'M')"
   ]
  },
  {
   "cell_type": "code",
   "execution_count": null,
   "metadata": {
    "collapsed": true
   },
   "outputs": [],
   "source": [
    "bechdelDataset.to_csv('mergeWithRevenue.csv', encoding='latin-1')"
   ]
  },
  {
   "cell_type": "code",
   "execution_count": null,
   "metadata": {
    "collapsed": true
   },
   "outputs": [],
   "source": [
    "bechdelDataset.head()"
   ]
  },
  {
   "cell_type": "code",
   "execution_count": 18,
   "metadata": {
    "collapsed": true
   },
   "outputs": [],
   "source": [
    "bechdelDataset['color'] = bechdelDataset['color'].fillna('')\n",
    "bechdelDataset['director_name'] = bechdelDataset['director_name'].fillna('')\n",
    "bechdelDataset['num_critic_for_reviews'] = bechdelDataset['num_critic_for_reviews'].fillna(0)\n",
    "bechdelDataset['director_facebook_likes'] = bechdelDataset['director_facebook_likes'].fillna(0)\n",
    "bechdelDataset['actor_3_facebook_likes'] = bechdelDataset['actor_3_facebook_likes'].fillna(0)\n",
    "bechdelDataset['actor_2_name'] = bechdelDataset['actor_2_name'].fillna('')\n",
    "bechdelDataset['actor_1_facebook_likes'] = bechdelDataset['actor_1_facebook_likes'].fillna(0)\n",
    "bechdelDataset['actor_1_name'] = bechdelDataset['actor_1_name'].fillna('')\n",
    "bechdelDataset['num_voted_users'] = bechdelDataset['num_voted_users'].fillna(0)\n",
    "bechdelDataset['cast_total_facebook_likes'] = bechdelDataset['cast_total_facebook_likes'].fillna('')\n",
    "bechdelDataset['actor_3_name'] = bechdelDataset['actor_3_name'].fillna('')\n",
    "bechdelDataset['facenumber_in_poster'] = bechdelDataset['facenumber_in_poster'].fillna(0)\n",
    "bechdelDataset['plot_keywords'] = bechdelDataset['plot_keywords'].fillna('')\n",
    "bechdelDataset['movie_imdb_link'] = bechdelDataset['movie_imdb_link'].fillna('')\n",
    "bechdelDataset['num_user_for_reviews'] = bechdelDataset['num_user_for_reviews'].fillna(0)\n",
    "bechdelDataset['content_rating'] = bechdelDataset['content_rating'].fillna('')\n",
    "bechdelDataset['actor_2_facebook_likes'] = bechdelDataset['actor_2_facebook_likes'].fillna(0)\n",
    "bechdelDataset['aspect_ratio'] = bechdelDataset['aspect_ratio'].fillna(0)\n",
    "bechdelDataset['movie_facebook_likes'] = bechdelDataset['movie_facebook_likes'].fillna(0)\n",
    "bechdelDataset['writer'] = bechdelDataset['writer'].fillna('')\n",
    "bechdelDataset['box_office'] = bechdelDataset['box_office'].fillna(0)\n",
    "bechdelDataset['parental_rating'] = bechdelDataset['parental_rating'].fillna('')\n",
    "bechdelDataset['production_company'] = bechdelDataset['production_company'].fillna('')\n",
    "bechdelDataset['director_gender'] = bechdelDataset['director_gender'].fillna('M')\n",
    "bechdelDataset['producer_gender'] = bechdelDataset['producer_gender'].fillna('M')\n",
    "bechdelDataset['writer_gender'] = bechdelDataset['writer_gender'].fillna('M')"
   ]
  },
  {
   "cell_type": "code",
   "execution_count": 19,
   "metadata": {
    "collapsed": true
   },
   "outputs": [],
   "source": [
    "bechdelDataset['imdb_score'] = bechdelDataset['imdb_score'].fillna(0)\n",
    "for i in range(len(bechdelDataset)):\n",
    "    if (bechdelDataset.iloc[i]['binary'] == 'PASS'):\n",
    "       bechdelDataset.set_value(i, 'binary', 1)\n",
    "    else:\n",
    "       bechdelDataset.set_value(i, 'binary', 0) \n",
    "bechdelDataset.to_csv('mergeWithRevenue.csv', encoding='latin-1')"
   ]
  },
  {
   "cell_type": "code",
   "execution_count": 52,
   "metadata": {
    "scrolled": true
   },
   "outputs": [
    {
     "name": "stdout",
     "output_type": "stream",
     "text": [
      "[('director_facebook_likes', 0.0), ('actor_3_facebook_likes', 0.0), ('actor_1_facebook_likes', 0.0), ('facenumber_in_poster', 0.0), ('movie_imdb_link', 0.0), ('actor_2_facebook_likes', 0.0), ('imdb_score', 0.0), ('aspect_ratio', 0.0), ('movie_facebook_likes', 0.0), ('num_user_for_reviews', 0.1692862873376923), ('writer_gender', 0.20640536522123443), ('num_critic_for_reviews', 0.2364350865154464), ('actor_3_name', 0.28227505247142914), ('producer_gender', 0.2922760448385581), ('parental_rating', 0.33308855111660945), ('actor_2_name', 0.42259243710785704), ('Multigenre', 0.4384506248811034), ('language', 0.4710395283962876), ('plot_keywords', 0.5194473828590696), ('duration', 0.5469961001664384), ('director_gender', 0.626274621792727), ('actor_1_name', 0.6793961892234889), ('content_rating', 0.7755342595236698), ('production_company', 0.8095459684654074), ('num_voted_users', 0.8991382805953667), ('budget', 0.9033907375840318), ('color', 0.9897208652974588), ('gross', 1.448917897244276), ('genres', 1.6250417207734382), ('country', 1.7306114120086689), ('cast_total_facebook_likes', 1.782680473396784), ('director_name', 3.413538214279567), ('producer', 3.7354925625649877), ('writer', 8.641222451405529), ('director_name%', 13.58322958210813), ('writer%', 24.1846624560893), ('producer%', 30.253309846735448)]\n"
     ]
    }
   ],
   "source": [
    "#baseAccuracy\n",
    "import catboost\n",
    "from operator import itemgetter\n",
    "from catboost import Pool\n",
    "from sklearn.model_selection import train_test_split\n",
    "\n",
    "meeting = pd.read_csv('mergeWithRevenue.csv', encoding='latin-1')\n",
    "meeting = meeting.fillna('')\n",
    "test_size = .2\n",
    "\n",
    "train, test = train_test_split(meeting, test_size=test_size)\n",
    "\n",
    "colNames = [col for col in meeting.columns.values if col not in ['Title', 'Year', 'Unnamed: 0.1', 'Unnamed: 0', 'id', 'imdb_id', 'Rating', 'Unnamed: 0_y', 'binary', 'domgross',\t'intgross',\t'budget_2013$','domgross_2013$','intgross_2013$','box_office','adjusted_box_office','test','clean_test']]\n",
    "a = 0\n",
    "for col in colNames:\n",
    "    a += 1\n",
    "\n",
    "X_train, y_train = train[colNames], train['binary']\n",
    "model = catboost.CatBoostClassifier(iterations=16, learning_rate=1, depth=12, l2_leaf_reg=5, calc_feature_importance=True, loss_function='Logloss')\n",
    "\n",
    "i = 0\n",
    "cat_features = []\n",
    "for col in colNames:\n",
    "    if (meeting[col].dtype == 'object' and (col != 'imdb_score' or col != 'budget' or col != gross)):\n",
    "       cat_features.append(i)\n",
    "    i += 1\n",
    "       \n",
    "\n",
    "trainPool = Pool(X_train, y_train, cat_features)\n",
    "model.fit(trainPool)\n",
    "X_test, y_test = test[colNames], test['binary']\n",
    "testPool = Pool(X_test, y_test, cat_features)\n",
    "preds_class  = model.predict(testPool)\n",
    "\n",
    "importances = model.feature_importances_\n",
    "colList = [(colNames[i], importances[i]) for i in range(len(colNames))]\n",
    "print(sorted(colList, key=itemgetter(1)))"
   ]
  },
  {
   "cell_type": "code",
   "execution_count": 53,
   "metadata": {},
   "outputs": [
    {
     "name": "stdout",
     "output_type": "stream",
     "text": [
      "[ 1.  1.  0. ...,  0.  0.  1.]\n",
      "1490\n",
      "Accuracy: 96.58%\n"
     ]
    }
   ],
   "source": [
    "from sklearn.metrics import accuracy_score\n",
    "\n",
    "print(preds_class)\n",
    "print(len(preds_class))\n",
    "accuracy = accuracy_score(y_test, preds_class)\n",
    "print(\"Accuracy: %.2f%%\" % (accuracy * 100.0))\n"
   ]
  },
  {
   "cell_type": "code",
   "execution_count": 27,
   "metadata": {},
   "outputs": [
    {
     "name": "stdout",
     "output_type": "stream",
     "text": [
      "<catboost.core.CatBoostClassifier object at 0x11a0fb7b8>\n",
      "[3 3 1 ..., 1 3 1]\n",
      "1818    3\n",
      "3453    3\n",
      "2648    1\n",
      "5270    1\n",
      "1587    0\n",
      "1100    3\n",
      "2705    3\n",
      "1903    3\n",
      "4640    3\n",
      "7143    1\n",
      "3242    3\n",
      "5073    3\n",
      "2614    3\n",
      "2263    2\n",
      "5341    1\n",
      "1692    3\n",
      "2518    1\n",
      "5579    3\n",
      "5349    3\n",
      "4229    3\n",
      "1590    3\n",
      "6836    1\n",
      "4568    0\n",
      "1989    3\n",
      "4266    1\n",
      "1449    3\n",
      "4819    1\n",
      "13      0\n",
      "3579    1\n",
      "3042    3\n",
      "       ..\n",
      "2681    3\n",
      "301     1\n",
      "4999    3\n",
      "5564    3\n",
      "1556    3\n",
      "3139    3\n",
      "42      0\n",
      "3362    3\n",
      "4362    2\n",
      "6731    3\n",
      "2990    1\n",
      "1041    0\n",
      "6045    0\n",
      "4763    3\n",
      "2693    2\n",
      "6005    3\n",
      "2870    1\n",
      "6949    3\n",
      "3219    1\n",
      "2746    3\n",
      "4912    1\n",
      "5549    3\n",
      "2611    3\n",
      "6618    3\n",
      "6686    3\n",
      "3056    2\n",
      "2117    1\n",
      "4469    1\n",
      "3514    3\n",
      "4553    1\n",
      "Name: Rating, Length: 1490, dtype: int64\n"
     ]
    }
   ],
   "source": [
    "#Multiclass Regression\n",
    "meeting = pd.read_csv('mergeWithRevenue.csv', encoding='latin-1')\n",
    "meeting = meeting.fillna('')\n",
    "test_size = .2\n",
    "\n",
    "train, test = train_test_split(meeting, test_size=test_size)\n",
    "\n",
    "colNames = [col for col in meeting.columns.values if col not in ['Unnamed: 0.1', 'Unnamed: 0', 'id', 'imdb_id', 'Rating', 'test', 'clean_test', 'Unnamed: 0_y', 'binary', 'domgross',\t'intgross',\t'budget_2013$','domgross_2013$','intgross_2013$','box_office','adjusted_box_office']]\n",
    "a = 0\n",
    "for col in colNames:\n",
    "    a += 1\n",
    "\n",
    "X_train, y_train = train[colNames], train['Rating']\n",
    "model = catboost.CatBoostClassifier(iterations=10, learning_rate=2, depth=10, loss_function='MultiClass')\n",
    "\n",
    "cat_features = []\n",
    "i = 0\n",
    "for col in colNames:\n",
    "    if (meeting[col].dtype == 'object' and col != 'imdb_score'):\n",
    "       cat_features.append(i)\n",
    "    i += 1\n",
    "\n",
    "trainPool = Pool(X_train, y_train, cat_features)\n",
    "model.fit(trainPool)\n",
    "print(model)\n",
    "\n",
    "X_test, y_test = test[colNames], test['Rating']\n",
    "print(y_test.values)\n",
    "print(y_test)\n",
    "testPool = Pool(X_test, y_test, cat_features)\n",
    "preds_class  = model.predict(testPool)\n",
    "\n",
    "importances = model.feature_importances_\n",
    "colList = [(colNames[i], importances[i]) for i in range(len(colNames))]\n",
    "print(sorted(colList, key=itemgetter(1)))\n"
   ]
  },
  {
   "cell_type": "code",
   "execution_count": 54,
   "metadata": {},
   "outputs": [
    {
     "name": "stdout",
     "output_type": "stream",
     "text": [
      "[ 1.  1.  0. ...,  0.  0.  1.]\n",
      "1490\n",
      "Accuracy: 96.58%\n"
     ]
    }
   ],
   "source": [
    "from sklearn.metrics import accuracy_score\n",
    "\n",
    "print(preds_class)\n",
    "print(len(preds_class))\n",
    "accuracy = accuracy_score(y_test, preds_class)\n",
    "print(\"Accuracy: %.2f%%\" % (accuracy * 100.0))\n"
   ]
  },
  {
   "cell_type": "code",
   "execution_count": null,
   "metadata": {
    "collapsed": true
   },
   "outputs": [],
   "source": [
    "#Binary classification problem: is 100% accuracy due to prevalence of FAILS. Its easy to predict 0s.\n",
    "#Rating accuracy is much lower. This is a much harder problem to get right.\n",
    "#Lets look at original bechdel dataset\n",
    "bechdelClean = pd.read_csv('bechdel_clean.csv')\n",
    "ids = []\n",
    "for imdb_id in bechdelClean.imdb_id.values:\n",
    "    ids.append(imdb_id)\n",
    "     \n",
    "reducedDataset = bechdelDataset[bechdelDataset.imdb_id.isin(ids)]\n",
    "print(reducedDataset)"
   ]
  },
  {
   "cell_type": "code",
   "execution_count": null,
   "metadata": {
    "collapsed": true
   },
   "outputs": [],
   "source": [
    "train, test = train_test_split(reducedDataset, test_size=test_size)\n",
    "\n",
    "reducedDataset = reducedDataset.fillna('')\n",
    "colNames = [col for col in reducedDataset.columns.values if col not in ['Unnamed: 0.1', 'Unnamed: 0', 'id', 'imdb_id', 'Rating', 'test', 'clean_test', 'Unnamed: 0_y', 'binary', 'domgross',\t'intgross',\t'budget_2013$','domgross_2013$','intgross_2013$','box_office','adjusted_box_office']]\n",
    "a = 0\n",
    "for col in colNames:\n",
    "    a += 1\n",
    "\n",
    "X_train, y_train = train[colNames], train['Rating']\n",
    "model = catboost.CatBoostClassifier(iterations=2, learning_rate=1, depth=2, loss_function='Logloss')\n",
    "\n",
    "cat_features = []\n",
    "i = 0\n",
    "for col in colNames:\n",
    "    if (reducedDataset[col].dtype == 'object' and col != 'imdb_score'):\n",
    "       cat_features.append(i)\n",
    "    i += 1\n",
    "\n",
    "trainPool = Pool(X_train, y_train, cat_features)\n",
    "model.fit(trainPool)\n",
    "print(model)\n",
    "\n",
    "X_test, y_test = test[colNames], test['Rating']\n",
    "print(y_test.values)\n",
    "print(len(y_test))\n",
    "testPool = Pool(X_test, y_test, cat_features)\n",
    "preds_class  = model.predict(testPool)\n"
   ]
  },
  {
   "cell_type": "code",
   "execution_count": null,
   "metadata": {
    "collapsed": true
   },
   "outputs": [],
   "source": [
    "from sklearn.metrics import accuracy_score\n",
    "\n",
    "print(preds_class)\n",
    "print(len(preds_class))\n",
    "accuracy = accuracy_score(y_test, preds_class)\n",
    "print(\"Accuracy: %.2f%%\" % (accuracy * 100.0))\n"
   ]
  },
  {
   "cell_type": "code",
   "execution_count": 39,
   "metadata": {
    "scrolled": true
   },
   "outputs": [
    {
     "data": {
      "text/plain": [
       "array(['Unnamed: 0', 'id', 'imdb_id', 'Rating', 'Title', 'Year',\n",
       "       'Unnamed: 0_y', 'color', 'director_name', 'num_critic_for_reviews',\n",
       "       'duration', 'director_facebook_likes', 'actor_3_facebook_likes',\n",
       "       'actor_2_name', 'actor_1_facebook_likes', 'gross', 'genres',\n",
       "       'actor_1_name', 'num_voted_users', 'cast_total_facebook_likes',\n",
       "       'actor_3_name', 'facenumber_in_poster', 'plot_keywords',\n",
       "       'movie_imdb_link', 'num_user_for_reviews', 'language', 'country',\n",
       "       'content_rating', 'budget', 'actor_2_facebook_likes', 'imdb_score',\n",
       "       'aspect_ratio', 'movie_facebook_likes', 'binary', 'test',\n",
       "       'clean_test', 'domgross', 'intgross', 'budget_2013$',\n",
       "       'domgross_2013$', 'intgross_2013$', 'producer', 'writer',\n",
       "       'box_office', 'parental_rating', 'production_company',\n",
       "       'adjusted_box_office', 'Multigenre', 'director_name%', 'writer%',\n",
       "       'producer%', 'director_gender', 'producer_gender', 'writer_gender'], dtype=object)"
      ]
     },
     "execution_count": 39,
     "metadata": {},
     "output_type": "execute_result"
    }
   ],
   "source": [
    "#Boosting does very well for both types of classifiers. Now lets do revenue analysis for post 1990 \n",
    "#American films. This will let us see how the Bechdel test affects revenue.\n",
    "reducedSet = bechdelDataset[bechdelDataset.country == 'USA']\n",
    "revenueHollywoodDataset = reducedSet[reducedSet.Year > 1989]\n",
    "revenueHollywoodDataset.columns.values"
   ]
  },
  {
   "cell_type": "code",
   "execution_count": 40,
   "metadata": {
    "collapsed": true
   },
   "outputs": [],
   "source": [
    "passHollywood = revenueHollywoodDataset[revenueHollywoodDataset.binary == 1]\n",
    "failHollywood = revenueHollywoodDataset[revenueHollywoodDataset.binary == 0]"
   ]
  },
  {
   "cell_type": "code",
   "execution_count": 56,
   "metadata": {
    "scrolled": false
   },
   "outputs": [
    {
     "name": "stdout",
     "output_type": "stream",
     "text": [
      "319198088.28884685\n",
      "306666574.88085055\n"
     ]
    },
    {
     "data": {
      "text/plain": [
       "<matplotlib.text.Text at 0x11099b518>"
      ]
     },
     "execution_count": 56,
     "metadata": {},
     "output_type": "execute_result"
    },
    {
     "data": {
      "image/png": "[encoded data removed]",
      "text/plain": [
       "<matplotlib.figure.Figure at 0x1109a9fd0>"
      ]
     },
     "metadata": {},
     "output_type": "display_data"
    }
   ],
   "source": [
    "medianPassValue = 0.0\n",
    "medianPassLen = 0.0\n",
    "medianFailValue = 0.0\n",
    "medianFailLen = 0.0\n",
    "medianPasses = []\n",
    "medianFails = []\n",
    "\n",
    "for revenue in passHollywood.adjusted_box_office.values:\n",
    "    if (int(revenue) != 0):\n",
    "       medianPasses.append(revenue)\n",
    "\n",
    "medianPassValue = pd.Series(medianPasses).median()\n",
    "medianPassStd = pd.Series(medianPasses).std()    \n",
    "for revenue in failHollywood.adjusted_box_office.values:\n",
    "    if (int(revenue) != 0):\n",
    "        medianFails.append(revenue)  \n",
    "        \n",
    "medianFailValue = pd.Series(medianFails).median()        \n",
    "medianFailStd = pd.Series(medianFails).std() \n",
    "\n",
    "print(medianPassStd)\n",
    "print(medianFailStd)\n",
    "    \n",
    "ax = sns.barplot(x=[\"Pass revenue\", \"Fail revenue\"], y=[medianPassValue, medianFailValue], orient=\"v\") \n",
    "ax.set_ylim(0, 140000000)\n",
    "ax.ticklabel_format(style='plain', axis='y')\n",
    "ax.set_ylabel('2013 dollars($)')\n",
    "ax.set_xlabel('Category')"
   ]
  },
  {
   "cell_type": "code",
   "execution_count": 60,
   "metadata": {
    "collapsed": true
   },
   "outputs": [],
   "source": [
    "#There is a significant difference between medians. Lets look by genre"
   ]
  },
  {
   "cell_type": "code",
   "execution_count": 67,
   "metadata": {
    "collapsed": true
   },
   "outputs": [],
   "source": [
    "from collections import defaultdict\n",
    "genreDict = defaultdict(list)\n",
    "genres = list(passHollywood['genres'].values)\n",
    "failGenres = list(failHollywood['genres'].values)\n",
    "\n",
    "passHollywood = passHollywood.reset_index()\n",
    "failHollywood.reset_index()\n",
    "indices = list(passHollywood.index) + list(failHollywood.index)\n",
    "a = 0\n",
    "for genre in genres:\n",
    "    genreDict[genre].append((passHollywood.iloc[indices[a]]['binary'], passHollywood.iloc[indices[a]]['adjusted_box_office']))\n",
    "    a += 1\n",
    "    \n",
    "for genre in failGenres:  \n",
    "    genreDict[genre].append((failHollywood.iloc[indices[a]]['binary'], failHollywood.iloc[indices[a]]['adjusted_box_office']))\n",
    "    a += 1\n",
    "    \n",
    "genreX = []\n",
    "genreY = []\n",
    "\n",
    "failGenreX = []\n",
    "failGenreY = []\n",
    "\n",
    "for genre in genreDict:\n",
    "    genreX.append(genre)\n",
    "    failGenreX.append(str(genre))\n",
    "    passBoxOffices = []\n",
    "    genreLen = 0.0\n",
    "    failBoxOffices = []\n",
    "    failGenreLen = 0.0\n",
    "    \n",
    "    for value, box_office in genreDict[genre]:\n",
    "        if (box_office != 0.0 and value == 0):\n",
    "            failBoxOffices.append(box_office)\n",
    "            failGenreLen += 1.0\n",
    "            \n",
    "        if (box_office != 0.0 and value == 1):\n",
    "            passBoxOffices.append(box_office)\n",
    "            genreLen += 1.0\n",
    "                          \n",
    "    genreY.append(pd.Series(passBoxOffices).median())\n",
    "    failGenreY.append(pd.Series(failBoxOffices).median())\n"
   ]
  },
  {
   "cell_type": "code",
   "execution_count": 72,
   "metadata": {
    "collapsed": true
   },
   "outputs": [],
   "source": [
    "#scenarios\n",
    "genres = []\n",
    "scenarios = []\n",
    "revenues = []\n",
    "for i in range(len(genreX)):\n",
    "   genres.append(genreX[i])\n",
    "   genres.append(failGenreX[i])\n",
    "   scenarios.append(\"pass\")\n",
    "   scenarios.append(\"fail\")\n",
    "   if (pd.isnull(genreY[i])):\n",
    "      genreY[i] = 0.0\n",
    "   revenues.append(genreY[i]) \n",
    "   if (pd.isnull(failGenreY[i])):\n",
    "      failGenreY[i] = 0.0  \n",
    "   revenues.append(failGenreY[i])\n",
    "      "
   ]
  },
  {
   "cell_type": "code",
   "execution_count": 73,
   "metadata": {},
   "outputs": [
    {
     "data": {
      "text/plain": [
       "<matplotlib.text.Text at 0x115d5b908>"
      ]
     },
     "execution_count": 73,
     "metadata": {},
     "output_type": "execute_result"
    },
    {
     "data": {
      "image/png": "[encoded data removed]",
      "text/plain": [
       "<matplotlib.figure.Figure at 0x10ed08cc0>"
      ]
     },
     "metadata": {},
     "output_type": "display_data"
    }
   ],
   "source": [
    "theData = pd.DataFrame({\"genre\": genres, \"scenario\": scenarios, \"revenue\": revenues}) \n",
    "    \n",
    "ax = sns.barplot(x=\"revenue\", y=\"genre\", hue='scenario', data=theData, orient='h')\n",
    "ax.set_ylabel(\"Office Revenue\")\n",
    "ax.set_xlabel(\"Genre\")\n",
    "ax.set_title(\"Box Office plot by genre\")"
   ]
  },
  {
   "cell_type": "code",
   "execution_count": 89,
   "metadata": {},
   "outputs": [
    {
     "data": {
      "text/plain": [
       "<matplotlib.legend.Legend at 0x120faba20>"
      ]
     },
     "execution_count": 89,
     "metadata": {},
     "output_type": "execute_result"
    },
    {
     "data": {
      "image/png": "[encoded data removed]",
      "text/plain": [
       "<matplotlib.figure.Figure at 0x11f1507f0>"
      ]
     },
     "metadata": {},
     "output_type": "display_data"
    }
   ],
   "source": [
    "ax = passHollywood.groupby(['Year'])['adjusted_box_office'].sum().plot()\n",
    "failHollywood.groupby(['Year'])['adjusted_box_office'].sum().plot()\n",
    "ax.ticklabel_format(style='plain', axis='y')\n",
    "ax.set_ylabel('2013 dollars($)')\n",
    "ax.legend(['Pass', 'Fail'])"
   ]
  },
  {
   "cell_type": "code",
   "execution_count": null,
   "metadata": {
    "collapsed": true
   },
   "outputs": [],
   "source": [
    "#Hmm the dips in the data seem interesting. Otherwise the trend is that both \n",
    "#films that pass and fail seem to alternate."
   ]
  }
 ],
 "metadata": {
  "kernelspec": {
   "display_name": "Python 3",
   "language": "python",
   "name": "python3"
  },
  "language_info": {
   "codemirror_mode": {
    "name": "ipython",
    "version": 3
   },
   "file_extension": ".py",
   "mimetype": "text/x-python",
   "name": "python",
   "nbconvert_exporter": "python",
   "pygments_lexer": "ipython3",
   "version": "3.6.1"
  }
 },
 "nbformat": 4,
 "nbformat_minor": 2
}
