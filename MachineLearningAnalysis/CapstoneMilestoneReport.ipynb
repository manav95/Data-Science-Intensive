{
 "cells": [
  {
   "cell_type": "code",
   "execution_count": 13,
   "metadata": {},
   "outputs": [
    {
     "name": "stdout",
     "output_type": "stream",
     "text": [
      "Populating the interactive namespace from numpy and matplotlib\n"
     ]
    }
   ],
   "source": [
    "%pylab inline\n",
    "%matplotlib inline\n",
    "import matplotlib.pyplot as plt\n",
    "import seaborn as sns\n",
    "import scipy\n",
    "\n",
    "import pandas as pd\n",
    "import numpy as np\n"
   ]
  },
  {
   "cell_type": "code",
   "execution_count": null,
   "metadata": {
    "collapsed": true
   },
   "outputs": [],
   "source": []
  },
  {
   "cell_type": "code",
   "execution_count": 20,
   "metadata": {},
   "outputs": [],
   "source": [
    "baseImdb = pd.read_csv('theBaseIds.csv', encoding='ISO-8859-1')\n",
    "bechdelDataset = pd.read_csv('mergeWithRevenue.csv', encoding='ISO-8859-1')                                          "
   ]
  },
  {
   "cell_type": "code",
   "execution_count": 15,
   "metadata": {
    "scrolled": true
   },
   "outputs": [
    {
     "data": {
      "text/plain": [
       "7446"
      ]
     },
     "execution_count": 15,
     "metadata": {},
     "output_type": "execute_result"
    }
   ],
   "source": [
    "len(bechdelDataset)"
   ]
  },
  {
   "cell_type": "code",
   "execution_count": 16,
   "metadata": {
    "scrolled": false
   },
   "outputs": [
    {
     "data": {
      "text/plain": [
       "Unnamed: 0                      0\n",
       "id                              0\n",
       "imdb_id                         2\n",
       "Rating                          0\n",
       "Title                           0\n",
       "Year                            0\n",
       "Unnamed: 0_y                 4578\n",
       "color                        4705\n",
       "director_name                  10\n",
       "num_critic_for_reviews          0\n",
       "duration                       33\n",
       "director_facebook_likes         0\n",
       "actor_3_facebook_likes          0\n",
       "actor_2_name                 4704\n",
       "actor_1_facebook_likes          0\n",
       "gross                        4898\n",
       "genres                         12\n",
       "actor_1_name                 4703\n",
       "num_voted_users                 0\n",
       "cast_total_facebook_likes    4703\n",
       "actor_3_name                 4707\n",
       "facenumber_in_poster            0\n",
       "plot_keywords                4711\n",
       "movie_imdb_link              4703\n",
       "num_user_for_reviews            0\n",
       "language                        9\n",
       "country                         9\n",
       "content_rating               4735\n",
       "budget                       4844\n",
       "actor_2_facebook_likes          0\n",
       "imdb_score                      0\n",
       "aspect_ratio                    0\n",
       "movie_facebook_likes            0\n",
       "binary                          0\n",
       "test                            0\n",
       "clean_test                      0\n",
       "domgross                     5595\n",
       "intgross                     5595\n",
       "budget_2013$                 5595\n",
       "domgross_2013$               5595\n",
       "intgross_2013$               5595\n",
       "producer                      129\n",
       "writer                        101\n",
       "box_office                      0\n",
       "parental_rating              2924\n",
       "production_company           2776\n",
       "adjusted_box_office             0\n",
       "Multigenre                     12\n",
       "director_name%                  0\n",
       "writer%                         0\n",
       "producer%                       0\n",
       "director_gender                 0\n",
       "producer_gender                 0\n",
       "writer_gender                   0\n",
       "dtype: int64"
      ]
     },
     "execution_count": 16,
     "metadata": {},
     "output_type": "execute_result"
    }
   ],
   "source": [
    "bechdelDataset.isnull().sum()\n"
   ]
  },
  {
   "cell_type": "code",
   "execution_count": 21,
   "metadata": {
    "collapsed": true
   },
   "outputs": [],
   "source": [
    "baseImdbDataset = bechdelDataset[bechdelDataset.imdb_id.isin(baseImdb.imdb_ids)]\n"
   ]
  },
  {
   "cell_type": "code",
   "execution_count": 18,
   "metadata": {
    "scrolled": true
   },
   "outputs": [
    {
     "ename": "FileNotFoundError",
     "evalue": "File b'cpi.csv' does not exist",
     "output_type": "error",
     "traceback": [
      "\u001b[0;31m---------------------------------------------------------------------------\u001b[0m",
      "\u001b[0;31mFileNotFoundError\u001b[0m                         Traceback (most recent call last)",
      "\u001b[0;32m<ipython-input-18-0d1b6912898b>\u001b[0m in \u001b[0;36m<module>\u001b[0;34m()\u001b[0m\n\u001b[0;32m----> 1\u001b[0;31m \u001b[0mcpiData\u001b[0m \u001b[0;34m=\u001b[0m \u001b[0mpd\u001b[0m\u001b[0;34m.\u001b[0m\u001b[0mread_csv\u001b[0m\u001b[0;34m(\u001b[0m\u001b[0;34m'cpi.csv'\u001b[0m\u001b[0;34m)\u001b[0m\u001b[0;34m\u001b[0m\u001b[0m\n\u001b[0m\u001b[1;32m      2\u001b[0m \u001b[0mcpiData\u001b[0m\u001b[0;34m.\u001b[0m\u001b[0mhead\u001b[0m\u001b[0;34m(\u001b[0m\u001b[0;34m)\u001b[0m\u001b[0;34m\u001b[0m\u001b[0m\n",
      "\u001b[0;32m/Users/manavdutta1/anaconda/lib/python3.6/site-packages/pandas/io/parsers.py\u001b[0m in \u001b[0;36mparser_f\u001b[0;34m(filepath_or_buffer, sep, delimiter, header, names, index_col, usecols, squeeze, prefix, mangle_dupe_cols, dtype, engine, converters, true_values, false_values, skipinitialspace, skiprows, nrows, na_values, keep_default_na, na_filter, verbose, skip_blank_lines, parse_dates, infer_datetime_format, keep_date_col, date_parser, dayfirst, iterator, chunksize, compression, thousands, decimal, lineterminator, quotechar, quoting, escapechar, comment, encoding, dialect, tupleize_cols, error_bad_lines, warn_bad_lines, skipfooter, skip_footer, doublequote, delim_whitespace, as_recarray, compact_ints, use_unsigned, low_memory, buffer_lines, memory_map, float_precision)\u001b[0m\n\u001b[1;32m    653\u001b[0m                     skip_blank_lines=skip_blank_lines)\n\u001b[1;32m    654\u001b[0m \u001b[0;34m\u001b[0m\u001b[0m\n\u001b[0;32m--> 655\u001b[0;31m         \u001b[0;32mreturn\u001b[0m \u001b[0m_read\u001b[0m\u001b[0;34m(\u001b[0m\u001b[0mfilepath_or_buffer\u001b[0m\u001b[0;34m,\u001b[0m \u001b[0mkwds\u001b[0m\u001b[0;34m)\u001b[0m\u001b[0;34m\u001b[0m\u001b[0m\n\u001b[0m\u001b[1;32m    656\u001b[0m \u001b[0;34m\u001b[0m\u001b[0m\n\u001b[1;32m    657\u001b[0m     \u001b[0mparser_f\u001b[0m\u001b[0;34m.\u001b[0m\u001b[0m__name__\u001b[0m \u001b[0;34m=\u001b[0m \u001b[0mname\u001b[0m\u001b[0;34m\u001b[0m\u001b[0m\n",
      "\u001b[0;32m/Users/manavdutta1/anaconda/lib/python3.6/site-packages/pandas/io/parsers.py\u001b[0m in \u001b[0;36m_read\u001b[0;34m(filepath_or_buffer, kwds)\u001b[0m\n\u001b[1;32m    403\u001b[0m \u001b[0;34m\u001b[0m\u001b[0m\n\u001b[1;32m    404\u001b[0m     \u001b[0;31m# Create the parser.\u001b[0m\u001b[0;34m\u001b[0m\u001b[0;34m\u001b[0m\u001b[0m\n\u001b[0;32m--> 405\u001b[0;31m     \u001b[0mparser\u001b[0m \u001b[0;34m=\u001b[0m \u001b[0mTextFileReader\u001b[0m\u001b[0;34m(\u001b[0m\u001b[0mfilepath_or_buffer\u001b[0m\u001b[0;34m,\u001b[0m \u001b[0;34m**\u001b[0m\u001b[0mkwds\u001b[0m\u001b[0;34m)\u001b[0m\u001b[0;34m\u001b[0m\u001b[0m\n\u001b[0m\u001b[1;32m    406\u001b[0m \u001b[0;34m\u001b[0m\u001b[0m\n\u001b[1;32m    407\u001b[0m     \u001b[0;32mif\u001b[0m \u001b[0mchunksize\u001b[0m \u001b[0;32mor\u001b[0m \u001b[0miterator\u001b[0m\u001b[0;34m:\u001b[0m\u001b[0;34m\u001b[0m\u001b[0m\n",
      "\u001b[0;32m/Users/manavdutta1/anaconda/lib/python3.6/site-packages/pandas/io/parsers.py\u001b[0m in \u001b[0;36m__init__\u001b[0;34m(self, f, engine, **kwds)\u001b[0m\n\u001b[1;32m    760\u001b[0m             \u001b[0mself\u001b[0m\u001b[0;34m.\u001b[0m\u001b[0moptions\u001b[0m\u001b[0;34m[\u001b[0m\u001b[0;34m'has_index_names'\u001b[0m\u001b[0;34m]\u001b[0m \u001b[0;34m=\u001b[0m \u001b[0mkwds\u001b[0m\u001b[0;34m[\u001b[0m\u001b[0;34m'has_index_names'\u001b[0m\u001b[0;34m]\u001b[0m\u001b[0;34m\u001b[0m\u001b[0m\n\u001b[1;32m    761\u001b[0m \u001b[0;34m\u001b[0m\u001b[0m\n\u001b[0;32m--> 762\u001b[0;31m         \u001b[0mself\u001b[0m\u001b[0;34m.\u001b[0m\u001b[0m_make_engine\u001b[0m\u001b[0;34m(\u001b[0m\u001b[0mself\u001b[0m\u001b[0;34m.\u001b[0m\u001b[0mengine\u001b[0m\u001b[0;34m)\u001b[0m\u001b[0;34m\u001b[0m\u001b[0m\n\u001b[0m\u001b[1;32m    763\u001b[0m \u001b[0;34m\u001b[0m\u001b[0m\n\u001b[1;32m    764\u001b[0m     \u001b[0;32mdef\u001b[0m \u001b[0mclose\u001b[0m\u001b[0;34m(\u001b[0m\u001b[0mself\u001b[0m\u001b[0;34m)\u001b[0m\u001b[0;34m:\u001b[0m\u001b[0;34m\u001b[0m\u001b[0m\n",
      "\u001b[0;32m/Users/manavdutta1/anaconda/lib/python3.6/site-packages/pandas/io/parsers.py\u001b[0m in \u001b[0;36m_make_engine\u001b[0;34m(self, engine)\u001b[0m\n\u001b[1;32m    964\u001b[0m     \u001b[0;32mdef\u001b[0m \u001b[0m_make_engine\u001b[0m\u001b[0;34m(\u001b[0m\u001b[0mself\u001b[0m\u001b[0;34m,\u001b[0m \u001b[0mengine\u001b[0m\u001b[0;34m=\u001b[0m\u001b[0;34m'c'\u001b[0m\u001b[0;34m)\u001b[0m\u001b[0;34m:\u001b[0m\u001b[0;34m\u001b[0m\u001b[0m\n\u001b[1;32m    965\u001b[0m         \u001b[0;32mif\u001b[0m \u001b[0mengine\u001b[0m \u001b[0;34m==\u001b[0m \u001b[0;34m'c'\u001b[0m\u001b[0;34m:\u001b[0m\u001b[0;34m\u001b[0m\u001b[0m\n\u001b[0;32m--> 966\u001b[0;31m             \u001b[0mself\u001b[0m\u001b[0;34m.\u001b[0m\u001b[0m_engine\u001b[0m \u001b[0;34m=\u001b[0m \u001b[0mCParserWrapper\u001b[0m\u001b[0;34m(\u001b[0m\u001b[0mself\u001b[0m\u001b[0;34m.\u001b[0m\u001b[0mf\u001b[0m\u001b[0;34m,\u001b[0m \u001b[0;34m**\u001b[0m\u001b[0mself\u001b[0m\u001b[0;34m.\u001b[0m\u001b[0moptions\u001b[0m\u001b[0;34m)\u001b[0m\u001b[0;34m\u001b[0m\u001b[0m\n\u001b[0m\u001b[1;32m    967\u001b[0m         \u001b[0;32melse\u001b[0m\u001b[0;34m:\u001b[0m\u001b[0;34m\u001b[0m\u001b[0m\n\u001b[1;32m    968\u001b[0m             \u001b[0;32mif\u001b[0m \u001b[0mengine\u001b[0m \u001b[0;34m==\u001b[0m \u001b[0;34m'python'\u001b[0m\u001b[0;34m:\u001b[0m\u001b[0;34m\u001b[0m\u001b[0m\n",
      "\u001b[0;32m/Users/manavdutta1/anaconda/lib/python3.6/site-packages/pandas/io/parsers.py\u001b[0m in \u001b[0;36m__init__\u001b[0;34m(self, src, **kwds)\u001b[0m\n\u001b[1;32m   1580\u001b[0m         \u001b[0mkwds\u001b[0m\u001b[0;34m[\u001b[0m\u001b[0;34m'allow_leading_cols'\u001b[0m\u001b[0;34m]\u001b[0m \u001b[0;34m=\u001b[0m \u001b[0mself\u001b[0m\u001b[0;34m.\u001b[0m\u001b[0mindex_col\u001b[0m \u001b[0;32mis\u001b[0m \u001b[0;32mnot\u001b[0m \u001b[0;32mFalse\u001b[0m\u001b[0;34m\u001b[0m\u001b[0m\n\u001b[1;32m   1581\u001b[0m \u001b[0;34m\u001b[0m\u001b[0m\n\u001b[0;32m-> 1582\u001b[0;31m         \u001b[0mself\u001b[0m\u001b[0;34m.\u001b[0m\u001b[0m_reader\u001b[0m \u001b[0;34m=\u001b[0m \u001b[0mparsers\u001b[0m\u001b[0;34m.\u001b[0m\u001b[0mTextReader\u001b[0m\u001b[0;34m(\u001b[0m\u001b[0msrc\u001b[0m\u001b[0;34m,\u001b[0m \u001b[0;34m**\u001b[0m\u001b[0mkwds\u001b[0m\u001b[0;34m)\u001b[0m\u001b[0;34m\u001b[0m\u001b[0m\n\u001b[0m\u001b[1;32m   1583\u001b[0m \u001b[0;34m\u001b[0m\u001b[0m\n\u001b[1;32m   1584\u001b[0m         \u001b[0;31m# XXX\u001b[0m\u001b[0;34m\u001b[0m\u001b[0;34m\u001b[0m\u001b[0m\n",
      "\u001b[0;32mpandas/_libs/parsers.pyx\u001b[0m in \u001b[0;36mpandas._libs.parsers.TextReader.__cinit__ (pandas/_libs/parsers.c:4209)\u001b[0;34m()\u001b[0m\n",
      "\u001b[0;32mpandas/_libs/parsers.pyx\u001b[0m in \u001b[0;36mpandas._libs.parsers.TextReader._setup_parser_source (pandas/_libs/parsers.c:8873)\u001b[0;34m()\u001b[0m\n",
      "\u001b[0;31mFileNotFoundError\u001b[0m: File b'cpi.csv' does not exist"
     ]
    }
   ],
   "source": [
    "cpiData = pd.read_csv('cpi.csv')\n",
    "cpiData.head()"
   ]
  },
  {
   "cell_type": "code",
   "execution_count": 19,
   "metadata": {},
   "outputs": [
    {
     "ename": "ValueError",
     "evalue": "invalid literal for int() with base 10: 'FAIL'",
     "output_type": "error",
     "traceback": [
      "\u001b[0;31m---------------------------------------------------------------------------\u001b[0m",
      "\u001b[0;31mValueError\u001b[0m                                Traceback (most recent call last)",
      "\u001b[0;32m<ipython-input-19-5e2bf0c8846d>\u001b[0m in \u001b[0;36m<module>\u001b[0;34m()\u001b[0m\n\u001b[1;32m      3\u001b[0m     \u001b[0mrating\u001b[0m \u001b[0;34m=\u001b[0m \u001b[0mbechdelDataset\u001b[0m\u001b[0;34m.\u001b[0m\u001b[0miloc\u001b[0m\u001b[0;34m[\u001b[0m\u001b[0mi\u001b[0m\u001b[0;34m]\u001b[0m\u001b[0;34m[\u001b[0m\u001b[0;34m'Rating'\u001b[0m\u001b[0;34m]\u001b[0m\u001b[0;34m\u001b[0m\u001b[0m\n\u001b[1;32m      4\u001b[0m     \u001b[0;32mif\u001b[0m \u001b[0;34m(\u001b[0m\u001b[0mrating\u001b[0m \u001b[0;34m==\u001b[0m \u001b[0;36m0\u001b[0m\u001b[0;34m)\u001b[0m\u001b[0;34m:\u001b[0m\u001b[0;34m\u001b[0m\u001b[0m\n\u001b[0;32m----> 5\u001b[0;31m         \u001b[0mbechdelDataset\u001b[0m\u001b[0;34m.\u001b[0m\u001b[0mset_value\u001b[0m\u001b[0;34m(\u001b[0m\u001b[0mi\u001b[0m\u001b[0;34m,\u001b[0m \u001b[0;34m'binary'\u001b[0m\u001b[0;34m,\u001b[0m \u001b[0;34m'FAIL'\u001b[0m\u001b[0;34m)\u001b[0m\u001b[0;34m\u001b[0m\u001b[0m\n\u001b[0m\u001b[1;32m      6\u001b[0m         \u001b[0mbechdelDataset\u001b[0m\u001b[0;34m.\u001b[0m\u001b[0mset_value\u001b[0m\u001b[0;34m(\u001b[0m\u001b[0mi\u001b[0m\u001b[0;34m,\u001b[0m \u001b[0;34m'test'\u001b[0m\u001b[0;34m,\u001b[0m \u001b[0;34m'nowomen'\u001b[0m\u001b[0;34m)\u001b[0m\u001b[0;34m\u001b[0m\u001b[0m\n\u001b[1;32m      7\u001b[0m         \u001b[0mbechdelDataset\u001b[0m\u001b[0;34m.\u001b[0m\u001b[0mset_value\u001b[0m\u001b[0;34m(\u001b[0m\u001b[0mi\u001b[0m\u001b[0;34m,\u001b[0m \u001b[0;34m'clean_test'\u001b[0m\u001b[0;34m,\u001b[0m \u001b[0;34m'nowomen'\u001b[0m\u001b[0;34m)\u001b[0m\u001b[0;34m\u001b[0m\u001b[0m\n",
      "\u001b[0;32m/Users/manavdutta1/anaconda/lib/python3.6/site-packages/pandas/core/frame.py\u001b[0m in \u001b[0;36mset_value\u001b[0;34m(self, index, col, value, takeable)\u001b[0m\n\u001b[1;32m   1952\u001b[0m             \u001b[0mseries\u001b[0m \u001b[0;34m=\u001b[0m \u001b[0mself\u001b[0m\u001b[0;34m.\u001b[0m\u001b[0m_get_item_cache\u001b[0m\u001b[0;34m(\u001b[0m\u001b[0mcol\u001b[0m\u001b[0;34m)\u001b[0m\u001b[0;34m\u001b[0m\u001b[0m\n\u001b[1;32m   1953\u001b[0m             \u001b[0mengine\u001b[0m \u001b[0;34m=\u001b[0m \u001b[0mself\u001b[0m\u001b[0;34m.\u001b[0m\u001b[0mindex\u001b[0m\u001b[0;34m.\u001b[0m\u001b[0m_engine\u001b[0m\u001b[0;34m\u001b[0m\u001b[0m\n\u001b[0;32m-> 1954\u001b[0;31m             \u001b[0mengine\u001b[0m\u001b[0;34m.\u001b[0m\u001b[0mset_value\u001b[0m\u001b[0;34m(\u001b[0m\u001b[0mseries\u001b[0m\u001b[0;34m.\u001b[0m\u001b[0m_values\u001b[0m\u001b[0;34m,\u001b[0m \u001b[0mindex\u001b[0m\u001b[0;34m,\u001b[0m \u001b[0mvalue\u001b[0m\u001b[0;34m)\u001b[0m\u001b[0;34m\u001b[0m\u001b[0m\n\u001b[0m\u001b[1;32m   1955\u001b[0m             \u001b[0;32mreturn\u001b[0m \u001b[0mself\u001b[0m\u001b[0;34m\u001b[0m\u001b[0m\n\u001b[1;32m   1956\u001b[0m         \u001b[0;32mexcept\u001b[0m \u001b[0;34m(\u001b[0m\u001b[0mKeyError\u001b[0m\u001b[0;34m,\u001b[0m \u001b[0mTypeError\u001b[0m\u001b[0;34m)\u001b[0m\u001b[0;34m:\u001b[0m\u001b[0;34m\u001b[0m\u001b[0m\n",
      "\u001b[0;32mpandas/_libs/index.pyx\u001b[0m in \u001b[0;36mpandas._libs.index.IndexEngine.set_value (pandas/_libs/index.c:4649)\u001b[0;34m()\u001b[0m\n",
      "\u001b[0;32mpandas/_libs/index.pyx\u001b[0m in \u001b[0;36mpandas._libs.index.IndexEngine.set_value (pandas/_libs/index.c:4537)\u001b[0;34m()\u001b[0m\n",
      "\u001b[0;32mpandas/_libs/src/util.pxd\u001b[0m in \u001b[0;36mutil.set_value_at (pandas/_libs/index.c:19810)\u001b[0;34m()\u001b[0m\n",
      "\u001b[0;32mpandas/_libs/src/util.pxd\u001b[0m in \u001b[0;36mutil.set_value_at_unsafe (pandas/_libs/index.c:19731)\u001b[0;34m()\u001b[0m\n",
      "\u001b[0;31mValueError\u001b[0m: invalid literal for int() with base 10: 'FAIL'"
     ]
    }
   ],
   "source": [
    "#Lets fill in columns based on rating\n",
    "for i in range(len(bechdelDataset)):\n",
    "    rating = bechdelDataset.iloc[i]['Rating']\n",
    "    if (rating == 0):\n",
    "        bechdelDataset.set_value(i, 'binary', 'FAIL')\n",
    "        bechdelDataset.set_value(i, 'test', 'nowomen')\n",
    "        bechdelDataset.set_value(i, 'clean_test', 'nowomen')\n",
    "    if (rating == 1):\n",
    "        bechdelDataset.set_value(i, 'binary', 'FAIL')\n",
    "        bechdelDataset.set_value(i, 'test', 'notalk')\n",
    "        bechdelDataset.set_value(i, 'clean_test', 'notalk')\n",
    "    if (rating == 2):\n",
    "        bechdelDataset.set_value(i, 'binary', 'FAIL')\n",
    "        bechdelDataset.set_value(i, 'test', 'men')\n",
    "        bechdelDataset.set_value(i, 'clean_test', 'men')\n",
    "    if (rating == 3):\n",
    "        bechdelDataset.set_value(i, 'binary', 'PASS')\n",
    "        bechdelDataset.set_value(i, 'test', 'ok')\n",
    "        bechdelDataset.set_value(i, 'clean_test', 'ok')\n",
    "            \n",
    "\n",
    "            "
   ]
  },
  {
   "cell_type": "code",
   "execution_count": null,
   "metadata": {
    "collapsed": true
   },
   "outputs": [],
   "source": [
    "#And adjust box office revenue data by the cpi data too\n",
    "from decimal import Decimal\n",
    "from re import sub\n",
    "\n",
    "baseCPI = cpiData[cpiData['Year'] == 2013]['Avg']"
   ]
  },
  {
   "cell_type": "code",
   "execution_count": null,
   "metadata": {},
   "outputs": [],
   "source": [
    "for i in range(len(bechdelDataset)):\n",
    "    internationalGross = bechdelDataset.iloc[i]['intgross_2013$']\n",
    "    domGross = bechdelDataset.iloc[i]['domgross_2013$']\n",
    "    if (pd.notnull(internationalGross) and pd.notnull(domGross)):\n",
    "        bechdelDataset.set_value(i,'adjusted_box_office', internationalGross + domGross)\n",
    "    else:\n",
    "        if (pd.notnull(bechdelDataset.iloc[i]['box_office'])):\n",
    "            boxOfficeVal = Decimal(sub(r'[^\\d.]', '', bechdelDataset.iloc[i]['box_office']))\n",
    "            yearMovie = bechdelDataset.iloc[i]['Year']\n",
    "            yearVal = cpiData[cpiData.Year == yearMovie]['Avg'][yearMovie - 1913]\n",
    "            bechdelDataset.set_value(i, 'adjusted_box_office', (yearVal/(1.0 * baseCPI)) * float(boxOfficeVal))"
   ]
  },
  {
   "cell_type": "code",
   "execution_count": null,
   "metadata": {
    "collapsed": true,
    "scrolled": true
   },
   "outputs": [],
   "source": [
    "bechdelDataset.columns.values\n",
    "bechdelDataset.to_csv('mergeWithRevenue.csv', encoding='utf-8')"
   ]
  },
  {
   "cell_type": "code",
   "execution_count": null,
   "metadata": {
    "collapsed": true
   },
   "outputs": [],
   "source": [
    "#Let us start with trend analysis"
   ]
  },
  {
   "cell_type": "code",
   "execution_count": null,
   "metadata": {
    "collapsed": true
   },
   "outputs": [],
   "source": [
    "bechdelDataset.groupby(['binary', 'clean_test']).size()\n",
    "mergedSet = bechdelDataset.groupby(['Year', 'binary']).size()\n",
    "mergedSet = mergedSet.unstack('binary')\n",
    "mergedSet = mergedSet.fillna(0.0)\n",
    "plt.figure()\n",
    "ax = ((mergedSet.PASS)/(mergedSet.PASS+mergedSet.FAIL)).plot(xlim=[1890, 2020], title='% pass by year')\n",
    "                                                             \n",
    "ax.legend(labels=['PASS'], loc='best')\n",
    "ax.set_ylabel(\"Proportion of film in pass for a given year\")"
   ]
  },
  {
   "cell_type": "code",
   "execution_count": null,
   "metadata": {
    "collapsed": true
   },
   "outputs": [],
   "source": [
    "#mergedSet = mergedSet.stack('Year')\n",
    "mergedSet = mergedSet.groupby((mergedSet.index//10)*10).sum()\n",
    "mergedSet"
   ]
  },
  {
   "cell_type": "code",
   "execution_count": 36,
   "metadata": {},
   "outputs": [
    {
     "name": "stdout",
     "output_type": "stream",
     "text": [
      "['FAIL' 'PASS']\n"
     ]
    }
   ],
   "source": [
    "baseMerged = baseImdbDataset.groupby(['Year', 'binary']).size()\n",
    "baseMerged = baseMerged.unstack('binary')\n",
    "baseMerged = baseMerged.fillna(0.0)\n",
    "baseMerged = baseMerged.groupby((baseMerged.index//10)*10).sum()\n",
    "baseMerged = baseMerged.rename(index=str, columns={0: \"FAIL\", 1: \"PASS\"})\n",
    "print(baseMerged.columns.values)"
   ]
  },
  {
   "cell_type": "code",
   "execution_count": 23,
   "metadata": {
    "scrolled": false
   },
   "outputs": [
    {
     "ename": "NameError",
     "evalue": "name 'mergedSet' is not defined",
     "output_type": "error",
     "traceback": [
      "\u001b[0;31m---------------------------------------------------------------------------\u001b[0m",
      "\u001b[0;31mNameError\u001b[0m                                 Traceback (most recent call last)",
      "\u001b[0;32m<ipython-input-23-08cc6c5fd51c>\u001b[0m in \u001b[0;36m<module>\u001b[0;34m()\u001b[0m\n\u001b[1;32m      1\u001b[0m \u001b[0mplt\u001b[0m\u001b[0;34m.\u001b[0m\u001b[0mfigure\u001b[0m\u001b[0;34m(\u001b[0m\u001b[0;34m)\u001b[0m\u001b[0;34m\u001b[0m\u001b[0m\n\u001b[0;32m----> 2\u001b[0;31m \u001b[0max\u001b[0m \u001b[0;34m=\u001b[0m \u001b[0;34m(\u001b[0m\u001b[0;34m(\u001b[0m\u001b[0mmergedSet\u001b[0m\u001b[0;34m.\u001b[0m\u001b[0mPASS\u001b[0m\u001b[0;34m)\u001b[0m\u001b[0;34m/\u001b[0m\u001b[0;34m(\u001b[0m\u001b[0mmergedSet\u001b[0m\u001b[0;34m.\u001b[0m\u001b[0mPASS\u001b[0m\u001b[0;34m+\u001b[0m\u001b[0mmergedSet\u001b[0m\u001b[0;34m.\u001b[0m\u001b[0mFAIL\u001b[0m\u001b[0;34m)\u001b[0m\u001b[0;34m)\u001b[0m\u001b[0;34m.\u001b[0m\u001b[0mplot\u001b[0m\u001b[0;34m.\u001b[0m\u001b[0mbar\u001b[0m\u001b[0;34m(\u001b[0m\u001b[0mx\u001b[0m\u001b[0;34m=\u001b[0m\u001b[0mmergedSet\u001b[0m\u001b[0;34m.\u001b[0m\u001b[0mindex\u001b[0m\u001b[0;34m,\u001b[0m \u001b[0mtitle\u001b[0m\u001b[0;34m=\u001b[0m\u001b[0;34m'% pass by decade'\u001b[0m\u001b[0;34m)\u001b[0m\u001b[0;34m\u001b[0m\u001b[0m\n\u001b[0m\u001b[1;32m      3\u001b[0m \u001b[0;34m\u001b[0m\u001b[0m\n\u001b[1;32m      4\u001b[0m \u001b[0max\u001b[0m\u001b[0;34m.\u001b[0m\u001b[0mset_ylabel\u001b[0m\u001b[0;34m(\u001b[0m\u001b[0;34m\"Proportion of film in pass for a given decade\"\u001b[0m\u001b[0;34m)\u001b[0m\u001b[0;34m\u001b[0m\u001b[0m\n\u001b[1;32m      5\u001b[0m \u001b[0max\u001b[0m\u001b[0;34m.\u001b[0m\u001b[0mset_xlabel\u001b[0m\u001b[0;34m(\u001b[0m\u001b[0;34m\"Decade\"\u001b[0m\u001b[0;34m)\u001b[0m\u001b[0;34m\u001b[0m\u001b[0m\n",
      "\u001b[0;31mNameError\u001b[0m: name 'mergedSet' is not defined"
     ]
    },
    {
     "data": {
      "text/plain": [
       "<matplotlib.figure.Figure at 0x117439550>"
      ]
     },
     "metadata": {},
     "output_type": "display_data"
    }
   ],
   "source": [
    "plt.figure()\n",
    "ax = ((mergedSet.PASS)/(mergedSet.PASS+mergedSet.FAIL)).plot.bar(x=mergedSet.index, title='% pass by decade')                       \n",
    "    \n",
    "ax.set_ylabel(\"Proportion of film in pass for a given decade\")\n",
    "ax.set_xlabel(\"Decade\")"
   ]
  },
  {
   "cell_type": "code",
   "execution_count": 37,
   "metadata": {},
   "outputs": [
    {
     "data": {
      "text/plain": [
       "<matplotlib.text.Text at 0x116aef898>"
      ]
     },
     "execution_count": 37,
     "metadata": {},
     "output_type": "execute_result"
    },
    {
     "data": {
      "image/png": "[encoded data removed]",
      "text/plain": [
       "<matplotlib.figure.Figure at 0x1182509b0>"
      ]
     },
     "metadata": {},
     "output_type": "display_data"
    }
   ],
   "source": [
    "plt.figure()\n",
    "ax = ((baseMerged.PASS)/(baseMerged.PASS+baseMerged.FAIL)).plot.bar(x=baseMerged.index, title='% pass by decade')                       \n",
    "    \n",
    "ax.set_ylabel(\"Proportion of film in pass for a given decade\")\n",
    "ax.set_xlabel(\"Decade\")"
   ]
  },
  {
   "cell_type": "markdown",
   "metadata": {},
   "source": [
    "The original base dataset shows a much lower pass rate for the years, but the same overall trend from the 1970s is still prominent. The 2010s seem to have a lower pass rate however."
   ]
  },
  {
   "cell_type": "code",
   "execution_count": null,
   "metadata": {
    "collapsed": true
   },
   "outputs": [],
   "source": [
    "bechdelDataset.genres"
   ]
  },
  {
   "cell_type": "code",
   "execution_count": null,
   "metadata": {
    "collapsed": true
   },
   "outputs": [],
   "source": [
    "bechdelYears = bechdelDataset.groupby(['Year']).size()\n",
    "ax = bechdelYears.plot(xlim=[1890, 2020], title='Number of years')\n",
    "                                                             \n",
    "ax.legend(labels=['PASS'], loc='best')\n",
    "ax.set_ylabel(\"Number of films for a given decade\")"
   ]
  },
  {
   "cell_type": "code",
   "execution_count": null,
   "metadata": {},
   "outputs": [],
   "source": [
    "from collections import defaultdict\n",
    "\n",
    "genreDict = defaultdict(list)\n",
    "for i in range(7446):\n",
    "    print(i)\n",
    "    if (type(bechdelDataset.iloc[i]['genres']) is str):\n",
    "      genres = bechdelDataset.iloc[i]['genres'].split('||')\n",
    "      for genre in genres:\n",
    "        genreDict[genre].append(bechdelDataset.iloc[i]['binary'])\n",
    "\n",
    "        "
   ]
  },
  {
   "cell_type": "code",
   "execution_count": null,
   "metadata": {
    "collapsed": true
   },
   "outputs": [],
   "source": [
    "genreX = []\n",
    "genreY = []\n",
    "for genre in genreDict:\n",
    "    genreX.append(genre)\n",
    "    passNum = 0.0\n",
    "    genreLen = len(genreDict[genre])\n",
    "    for word in genreDict[genre]:\n",
    "        if (word == 'PASS'):\n",
    "            passNum += 1.0\n",
    "    genreY.append(passNum/(1.0 * genreLen))\n",
    "    "
   ]
  },
  {
   "cell_type": "code",
   "execution_count": null,
   "metadata": {
    "collapsed": true
   },
   "outputs": [],
   "source": [
    "genreDataset = {'genre': genreX, 'pass rate': genreY}\n",
    "ax = sns.barplot(x=\"pass rate\", y=\"genre\", data=genreDataset, orient=\"h\")\n",
    "ax.set_ylabel(\"Pass Rate for Genre\")\n",
    "ax.set_xlabel(\"Genre\")\n",
    "ax.set_title(\"Bechdel pass by genre\")"
   ]
  },
  {
   "cell_type": "code",
   "execution_count": null,
   "metadata": {
    "collapsed": true
   },
   "outputs": [],
   "source": [
    "theSet = bechdelDataset.groupby(['country']).size()\n",
    "theSet.sort_values(ascending=False)"
   ]
  },
  {
   "cell_type": "code",
   "execution_count": null,
   "metadata": {
    "collapsed": true
   },
   "outputs": [],
   "source": [
    "theSet = bechdelDataset.groupby(['country']).size()\n",
    "theSet = theSet.sort_values(ascending=False)[0:15].keys()\n",
    "topFifteen = bechdelDataset[bechdelDataset.country.isin(theSet)]\n",
    "theSet = topFifteen.groupby(['country', 'binary']).size()\n",
    "theSet = theSet.unstack('binary')\n",
    "theSet['PASS proportion'] = theSet.PASS/(theSet.PASS+theSet.FAIL)\n",
    "ax = sns.barplot(x=theSet['PASS proportion'], y=theSet.index.values, data=theSet, orient=\"h\")\n",
    "ax.set_title('Percentage of films passing test by country')\n",
    "ax.set(ylabel='Mean pass proportion in country')"
   ]
  },
  {
   "cell_type": "code",
   "execution_count": null,
   "metadata": {
    "collapsed": true
   },
   "outputs": [],
   "source": [
    "theSet = bechdelDataset.groupby(['country']).size()\n",
    "print(theSet[0:15].keys())"
   ]
  },
  {
   "cell_type": "code",
   "execution_count": 44,
   "metadata": {
    "scrolled": true
   },
   "outputs": [
    {
     "data": {
      "text/plain": [
       "<matplotlib.text.Text at 0x117cd3a90>"
      ]
     },
     "execution_count": 44,
     "metadata": {},
     "output_type": "execute_result"
    },
    {
     "data": {
      "image/png": "[encoded data removed]",
      "text/plain": [
       "<matplotlib.figure.Figure at 0x11b3b8358>"
      ]
     },
     "metadata": {},
     "output_type": "display_data"
    }
   ],
   "source": [
    "passDataset = bechdelDataset[bechdelDataset.binary == 1]\n",
    "failDataset = bechdelDataset[bechdelDataset.binary == 0]\n",
    "\n",
    "medianPassValue = 0.0\n",
    "medianPassLen = 0.0\n",
    "medianFailValue = 0.0\n",
    "medianFailLen = 0.0\n",
    "medianPasses = []\n",
    "medianFails = []\n",
    "\n",
    "for revenue in passDataset.adjusted_box_office.values:\n",
    "    if (int(revenue) != 0):\n",
    "       medianPasses.append(revenue)\n",
    "\n",
    "medianPassValue = pd.Series(medianPasses).median()\n",
    "    \n",
    "for revenue in failDataset.adjusted_box_office.values:\n",
    "    if (int(revenue) != 0):\n",
    "        medianFails.append(revenue)  \n",
    "        \n",
    "medianFailValue = pd.Series(medianFails).median()        \n",
    "    \n",
    "ax = sns.barplot(x=[\"Pass revenue\", \"Fail revenue\"], y=[medianPassValue, medianFailValue], orient=\"v\") \n",
    "ax.ticklabel_format(style='plain', axis='y')\n",
    "ax.set_ylabel(\"Revenue\")\n",
    "ax.set_xlabel(\"Category\")\n",
    "ax.set_title(\"Box Office Revenue\")"
   ]
  },
  {
   "cell_type": "code",
   "execution_count": null,
   "metadata": {
    "scrolled": true
   },
   "outputs": [],
   "source": [
    "genreDict = defaultdict(list)\n",
    "for i in range(7446):\n",
    "    print(i)\n",
    "    if (type(bechdelDataset.iloc[i]['genres']) is str):\n",
    "      genres = bechdelDataset.iloc[i]['genres'].split('||')\n",
    "      if (len(genres) > 1):\n",
    "         bechdelDataset.loc[i,'Multigenre'] = 'Y'\n",
    "      else:\n",
    "         bechdelDataset.loc[i,'Multigenre'] = 'N'\n",
    "      for genre in genres:\n",
    "        genreDict[genre].append((bechdelDataset.iloc[i]['binary'], bechdelDataset.iloc[i]['adjusted_box_office']))\n",
    "\n",
    "genreX = []\n",
    "genreY = []\n",
    "\n",
    "failGenreX = []\n",
    "failGenreY = []\n",
    "\n",
    "for genre in genreDict:\n",
    "    genreX.append(genre)\n",
    "    failGenreX.append(str(genre))\n",
    "    passBoxOffices = []\n",
    "    genreLen = 0.0\n",
    "    failBoxOffices = []\n",
    "    failGenreLen = 0.0\n",
    "    \n",
    "    for word, box_office in genreDict[genre]:\n",
    "        if (box_office != 0.0 and word == 'FAIL'):\n",
    "            failBoxOffices.append(box_office)\n",
    "            failGenreLen += 1.0\n",
    "            \n",
    "        if (box_office != 0.0 and word == 'PASS'):\n",
    "            passBoxOffices.append(box_office)\n",
    "            genreLen += 1.0\n",
    "                          \n",
    "    genreY.append(pd.Series(passBoxOffices).median())\n",
    "    failGenreY.append(pd.Series(failBoxOffices).median())\n"
   ]
  },
  {
   "cell_type": "code",
   "execution_count": null,
   "metadata": {},
   "outputs": [],
   "source": [
    "bechdelDataset[\"Multigenre\"].head(15)"
   ]
  },
  {
   "cell_type": "code",
   "execution_count": null,
   "metadata": {
    "scrolled": true
   },
   "outputs": [],
   "source": [
    "print(genreX)\n",
    "print(failGenreX)"
   ]
  },
  {
   "cell_type": "code",
   "execution_count": null,
   "metadata": {
    "collapsed": true
   },
   "outputs": [],
   "source": [
    "print(genreY)\n",
    "print(failGenreY)"
   ]
  },
  {
   "cell_type": "code",
   "execution_count": null,
   "metadata": {
    "collapsed": true,
    "scrolled": false
   },
   "outputs": [],
   "source": [
    "genreDataset = {'genre': genreX, 'Revenue': genreY}\n",
    "ax = sns.barplot(x=\"Revenue\", y=\"genre\", data=genreDataset, orient='h')\n",
    "ax.set_ylabel(\"Office Revenue\")\n",
    "ax.set_xlabel(\"Genre\")\n",
    "ax.set_title(\"Box Office Revenue for passed films by genre\")"
   ]
  },
  {
   "cell_type": "code",
   "execution_count": null,
   "metadata": {
    "collapsed": true
   },
   "outputs": [],
   "source": [
    "genreDataset = {'genre': failGenreX, 'Revenue': failGenreY}\n",
    "ax = sns.barplot(x=\"Revenue\", y=\"genre\", data=genreDataset, orient='h')\n",
    "ax.set_ylabel(\"Office Revenue\")\n",
    "ax.set_xlabel(\"Genre\")\n",
    "ax.set_title(\"Box Office Revenue for failed films by genre\")"
   ]
  },
  {
   "cell_type": "code",
   "execution_count": null,
   "metadata": {
    "collapsed": true,
    "scrolled": false
   },
   "outputs": [],
   "source": [
    "genres = []\n",
    "scenarios = []\n",
    "revenues = []\n",
    "for i in range(len(genreX)):\n",
    "   genres.append(genreX[i])\n",
    "   genres.append(failGenreX[i])\n",
    "   scenarios.append(\"pass\")\n",
    "   scenarios.append(\"fail\")\n",
    "   if (pd.isnull(genreY[i])):\n",
    "      genreY[i] = 0.0\n",
    "   revenues.append(genreY[i]) \n",
    "   if (pd.isnull(failGenreY[i])):\n",
    "      failGenreY[i] = 0.0  \n",
    "   revenues.append(failGenreY[i])\n",
    "      \n",
    "\n",
    "theData = pd.DataFrame({\"genre\": genres, \"scenario\": scenarios, \"revenue\": revenues})\n",
    "print(theData)   \n",
    "    \n",
    "ax = sns.barplot(x=\"revenue\", y=\"genre\", hue='scenario', data=theData, orient='h')\n",
    "ax.set_ylabel(\"Office Revenue\")\n",
    "ax.set_xlabel(\"Genre\")\n",
    "ax.set_title(\"Box Office plot by genre\")"
   ]
  },
  {
   "cell_type": "code",
   "execution_count": 41,
   "metadata": {},
   "outputs": [
    {
     "data": {
      "image/png": "[encoded data removed]",
      "text/plain": [
       "<matplotlib.figure.Figure at 0x117d63080>"
      ]
     },
     "metadata": {},
     "output_type": "display_data"
    }
   ],
   "source": [
    "passDataset = bechdelDataset[bechdelDataset.binary == 1]\n",
    "failDataset = bechdelDataset[bechdelDataset.binary == 0]\n",
    "passDataset = passDataset[passDataset.country == 'USA']\n",
    "failDataset = failDataset[failDataset.country == 'USA']\n",
    "\n",
    "medianPassValue = 0.0\n",
    "medianPassLen = 0.0\n",
    "medianFailValue = 0.0\n",
    "medianFailLen = 0.0\n",
    "medianPasses = []\n",
    "medianFails = []\n",
    "\n",
    "for revenue in passDataset.adjusted_box_office.values:\n",
    "    if (int(revenue) != 0):\n",
    "       medianPasses.append(revenue)\n",
    "\n",
    "medianPassValue = pd.Series(medianPasses).median()\n",
    "    \n",
    "for revenue in failDataset.adjusted_box_office.values:\n",
    "    if (int(revenue) != 0):\n",
    "        medianFails.append(revenue)  \n",
    "        \n",
    "medianFailValue = pd.Series(medianFails).median()   \n",
    "    \n",
    "ax = sns.barplot(x=[\"Pass revenue\", \"Fail revenue\"], y=[medianPassValue, medianFailValue], orient=\"v\")   "
   ]
  },
  {
   "cell_type": "code",
   "execution_count": null,
   "metadata": {
    "collapsed": true
   },
   "outputs": [],
   "source": [
    "print(np.std(passDataset.adjusted_box_office.values))\n",
    "print(np.std(failDataset.adjusted_box_office.values))"
   ]
  },
  {
   "cell_type": "code",
   "execution_count": null,
   "metadata": {
    "collapsed": true
   },
   "outputs": [],
   "source": [
    "print(medianPassValue)\n",
    "print(medianFailValue)"
   ]
  },
  {
   "cell_type": "code",
   "execution_count": null,
   "metadata": {
    "collapsed": true
   },
   "outputs": [],
   "source": [
    "#Let us use a welch t-test that does not assume equal population variance.\n",
    "from scipy import stats\n",
    "\n",
    "passVals = [value for value in passDataset.adjusted_box_office.values if int(value) != 0]\n",
    "failVals = [value for value in failDataset.adjusted_box_office.values if int(value) != 0]\n",
    "tstat, pval = stats.ttest_ind(passVals, failVals, equal_var = False)\n",
    "print(pval)\n",
    "print(medianPassValue)\n",
    "print((medianPassValue - medianFailValue)/medianPassValue)"
   ]
  },
  {
   "cell_type": "code",
   "execution_count": null,
   "metadata": {
    "collapsed": true
   },
   "outputs": [],
   "source": [
    "#Hence there is a significant difference and we reject the null hypothesis of no difference."
   ]
  }
 ],
 "metadata": {
  "kernelspec": {
   "display_name": "Python 3",
   "language": "python",
   "name": "python3"
  },
  "language_info": {
   "codemirror_mode": {
    "name": "ipython",
    "version": 3
   },
   "file_extension": ".py",
   "mimetype": "text/x-python",
   "name": "python",
   "nbconvert_exporter": "python",
   "pygments_lexer": "ipython3",
   "version": "3.6.1"
  }
 },
 "nbformat": 4,
 "nbformat_minor": 2
}
